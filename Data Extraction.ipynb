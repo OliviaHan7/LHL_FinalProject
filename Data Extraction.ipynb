{
 "cells": [
  {
   "cell_type": "code",
   "execution_count": null,
   "id": "cb4b492e",
   "metadata": {
    "colab": {
     "base_uri": "https://localhost:8080/",
     "height": 750
    },
    "executionInfo": {
     "elapsed": 14361,
     "status": "ok",
     "timestamp": 1660411254958,
     "user": {
      "displayName": "olivia han",
      "userId": "16453021985307431611"
     },
     "user_tz": 420
    },
    "id": "cb4b492e",
    "outputId": "95cbcc11-d753-466e-a15b-b0d3ec24204f",
    "scrolled": true
   },
   "outputs": [],
   "source": [
    "!pip3 install spotipy --upgrade\n"
   ]
  },
  {
   "cell_type": "code",
   "execution_count": 59,
   "id": "OOlsWvdQNfDd",
   "metadata": {
    "colab": {
     "base_uri": "https://localhost:8080/"
    },
    "executionInfo": {
     "elapsed": 20515,
     "status": "ok",
     "timestamp": 1660411275466,
     "user": {
      "displayName": "olivia han",
      "userId": "16453021985307431611"
     },
     "user_tz": 420
    },
    "id": "OOlsWvdQNfDd",
    "outputId": "cd45051a-e193-464e-8d00-130aa8d924e1"
   },
   "outputs": [
    {
     "name": "stdout",
     "output_type": "stream",
     "text": [
      "Requirement already satisfied: urllib3 in /Users/oliviahan/opt/anaconda3/lib/python3.9/site-packages (1.26.11)\n",
      "Requirement already satisfied: requests in /Users/oliviahan/opt/anaconda3/lib/python3.9/site-packages (2.28.1)\n",
      "Requirement already satisfied: certifi>=2017.4.17 in /Users/oliviahan/opt/anaconda3/lib/python3.9/site-packages (from requests) (2022.6.15)\n",
      "Requirement already satisfied: charset-normalizer<3,>=2 in /Users/oliviahan/opt/anaconda3/lib/python3.9/site-packages (from requests) (2.0.4)\n",
      "Requirement already satisfied: idna<4,>=2.5 in /Users/oliviahan/opt/anaconda3/lib/python3.9/site-packages (from requests) (2.8)\n",
      "Requirement already satisfied: urllib3<1.27,>=1.21.1 in /Users/oliviahan/opt/anaconda3/lib/python3.9/site-packages (from requests) (1.26.11)\n",
      "Requirement already satisfied: spotipy in /Users/oliviahan/opt/anaconda3/lib/python3.9/site-packages (2.20.0)\n",
      "Requirement already satisfied: six>=1.15.0 in /Users/oliviahan/opt/anaconda3/lib/python3.9/site-packages (from spotipy) (1.16.0)\n",
      "Requirement already satisfied: redis>=3.5.3 in /Users/oliviahan/opt/anaconda3/lib/python3.9/site-packages (from spotipy) (4.3.4)\n",
      "Requirement already satisfied: requests>=2.25.0 in /Users/oliviahan/opt/anaconda3/lib/python3.9/site-packages (from spotipy) (2.28.1)\n",
      "Requirement already satisfied: urllib3>=1.26.0 in /Users/oliviahan/opt/anaconda3/lib/python3.9/site-packages (from spotipy) (1.26.11)\n",
      "Requirement already satisfied: deprecated>=1.2.3 in /Users/oliviahan/opt/anaconda3/lib/python3.9/site-packages (from redis>=3.5.3->spotipy) (1.2.13)\n",
      "Requirement already satisfied: async-timeout>=4.0.2 in /Users/oliviahan/opt/anaconda3/lib/python3.9/site-packages (from redis>=3.5.3->spotipy) (4.0.2)\n",
      "Requirement already satisfied: packaging>=20.4 in /Users/oliviahan/opt/anaconda3/lib/python3.9/site-packages (from redis>=3.5.3->spotipy) (21.3)\n",
      "Requirement already satisfied: idna<4,>=2.5 in /Users/oliviahan/opt/anaconda3/lib/python3.9/site-packages (from requests>=2.25.0->spotipy) (2.8)\n",
      "Requirement already satisfied: charset-normalizer<3,>=2 in /Users/oliviahan/opt/anaconda3/lib/python3.9/site-packages (from requests>=2.25.0->spotipy) (2.0.4)\n",
      "Requirement already satisfied: certifi>=2017.4.17 in /Users/oliviahan/opt/anaconda3/lib/python3.9/site-packages (from requests>=2.25.0->spotipy) (2022.6.15)\n",
      "Requirement already satisfied: wrapt<2,>=1.10 in /Users/oliviahan/opt/anaconda3/lib/python3.9/site-packages (from deprecated>=1.2.3->redis>=3.5.3->spotipy) (1.12.1)\n",
      "Requirement already satisfied: pyparsing!=3.0.5,>=2.0.2 in /Users/oliviahan/opt/anaconda3/lib/python3.9/site-packages (from packaging>=20.4->redis>=3.5.3->spotipy) (3.0.4)\n"
     ]
    }
   ],
   "source": [
    "!pip install urllib3 --upgrade \n",
    "!pip install requests --upgrade \n",
    "!pip install spotipy --upgrade"
   ]
  },
  {
   "cell_type": "markdown",
   "id": "ca251ddc-c7c4-4f40-8a43-2a0e9903b55b",
   "metadata": {
    "id": "istUUVoqM9kA"
   },
   "source": [
    "# Import library"
   ]
  },
  {
   "cell_type": "code",
   "execution_count": 60,
   "id": "fad4599a",
   "metadata": {
    "colab": {
     "base_uri": "https://localhost:8080/"
    },
    "executionInfo": {
     "elapsed": 2543,
     "status": "ok",
     "timestamp": 1660411336250,
     "user": {
      "displayName": "olivia han",
      "userId": "16453021985307431611"
     },
     "user_tz": 420
    },
    "id": "fad4599a",
    "outputId": "c7900e46-2b79-4efa-8336-41204cb56293"
   },
   "outputs": [],
   "source": [
    "import requests\n",
    "import base64\n",
    "import datetime\n",
    "import urllib3 \n",
    "from urllib.parse import urlencode\n",
    "import spotipy\n",
    "from spotipy.oauth2 import SpotifyClientCredentials \n",
    "\n",
    "# import os\n",
    "# from google.colab import drive\n",
    "# drive.mount('/content/drive')\n",
    "# os.chdir(\"/content/drive/MyDrive/Final_project\")\n",
    "\n",
    "#warnings\n",
    "import warnings\n",
    "warnings.filterwarnings(\"ignore\")"
   ]
  },
  {
   "cell_type": "code",
   "execution_count": 61,
   "id": "8caa4a67",
   "metadata": {
    "executionInfo": {
     "elapsed": 336,
     "status": "ok",
     "timestamp": 1660411337158,
     "user": {
      "displayName": "olivia han",
      "userId": "16453021985307431611"
     },
     "user_tz": 420
    },
    "id": "8caa4a67"
   },
   "outputs": [],
   "source": [
    "import pandas as pd\n",
    "import numpy as np"
   ]
  },
  {
   "cell_type": "code",
   "execution_count": 67,
   "id": "R3K79FzvpWn6",
   "metadata": {
    "id": "R3K79FzvpWn6"
   },
   "outputs": [],
   "source": [
    "client_id=client_id\n",
    "client_secret=client_secret"
   ]
  },
  {
   "cell_type": "code",
   "execution_count": 68,
   "id": "YF3aC-U2wCb7",
   "metadata": {
    "executionInfo": {
     "elapsed": 162,
     "status": "ok",
     "timestamp": 1660418362887,
     "user": {
      "displayName": "olivia han",
      "userId": "16453021985307431611"
     },
     "user_tz": 420
    },
    "id": "YF3aC-U2wCb7"
   },
   "outputs": [],
   "source": [
    "\n",
    "client_credentials_manager = SpotifyClientCredentials(client_id=client_id, client_secret=client_secret)\n",
    "client_credentials_manager = SpotifyClientCredentials(client_id=client_id, client_secret=client_secret)\n",
    "sp = spotipy.Spotify(client_credentials_manager=client_credentials_manager) \n"
   ]
  },
  {
   "cell_type": "code",
   "execution_count": 69,
   "id": "df0e8edf",
   "metadata": {
    "colab": {
     "base_uri": "https://localhost:8080/"
    },
    "executionInfo": {
     "elapsed": 5,
     "status": "ok",
     "timestamp": 1660411337413,
     "user": {
      "displayName": "olivia han",
      "userId": "16453021985307431611"
     },
     "user_tz": 420
    },
    "id": "df0e8edf",
    "outputId": "6cfce905-564a-4b9c-be82-515d05af8126"
   },
   "outputs": [
    {
     "data": {
      "text/plain": [
       "str"
      ]
     },
     "execution_count": 69,
     "metadata": {},
     "output_type": "execute_result"
    }
   ],
   "source": [
    "client_creds = f\"{client_id}:{client_secret}\"\n",
    "type(client_creds)"
   ]
  },
  {
   "cell_type": "code",
   "execution_count": 71,
   "id": "DoNjRUfMTTZW",
   "metadata": {
    "executionInfo": {
     "elapsed": 274,
     "status": "ok",
     "timestamp": 1660413174896,
     "user": {
      "displayName": "olivia han",
      "userId": "16453021985307431611"
     },
     "user_tz": 420
    },
    "id": "DoNjRUfMTTZW"
   },
   "outputs": [],
   "source": [
    "df=pd.read_csv('sentiment.csv', index_col=[0])"
   ]
  },
  {
   "cell_type": "code",
   "execution_count": 73,
   "id": "f23aeb01-6ea6-4bca-9d68-bca0d7570e48",
   "metadata": {},
   "outputs": [],
   "source": [
    "a=df.iloc[:20,:]"
   ]
  },
  {
   "cell_type": "code",
   "execution_count": 76,
   "id": "cb871d8b-3ea9-4f29-b917-f3d68c6c9133",
   "metadata": {},
   "outputs": [
    {
     "name": "stdout",
     "output_type": "stream",
     "text": [
      "https://i.scdn.co/image/ab67616d0000b2739d6522bee68370fa5592301d\n",
      "https://i.scdn.co/image/ab67616d0000b2730376bdff8b70d934f297303e\n",
      "https://i.scdn.co/image/ab67616d0000b2730376bdff8b70d934f297303e\n",
      "https://i.scdn.co/image/ab67616d0000b2730376bdff8b70d934f297303e\n",
      "https://i.scdn.co/image/ab67616d0000b2731ba06755018b46f2a6a2a7ff\n",
      "https://i.scdn.co/image/ab67616d0000b273c7b1b93cd2dcb8d528a30a1d\n",
      "https://i.scdn.co/image/ab67616d0000b273519241bcfc352fc3eaaac5db\n",
      "https://i.scdn.co/image/ab67616d0000b2733d4b1b9e8a5863294562d76b\n",
      "https://i.scdn.co/image/ab67616d0000b2730376bdff8b70d934f297303e\n",
      "https://i.scdn.co/image/ab67616d0000b273782f63cd4b7b1d533424a99a\n",
      "https://i.scdn.co/image/ab67616d0000b273519241bcfc352fc3eaaac5db\n",
      "https://i.scdn.co/image/ab67616d0000b27354eab2e4aa8b8706b6b526d2\n",
      "https://i.scdn.co/image/ab67616d0000b2730376bdff8b70d934f297303e\n",
      "https://i.scdn.co/image/ab67616d0000b273644681440f5bf0fa272b0745\n",
      "https://i.scdn.co/image/ab67616d0000b273c7b1b93cd2dcb8d528a30a1d\n",
      "https://i.scdn.co/image/ab67616d0000b273c7b1b93cd2dcb8d528a30a1d\n",
      "https://i.scdn.co/image/ab67616d0000b2730721bfbebd30ab32816c7e52\n",
      "https://i.scdn.co/image/ab67616d0000b2730376bdff8b70d934f297303e\n",
      "https://i.scdn.co/image/ab67616d0000b273519241bcfc352fc3eaaac5db\n"
     ]
    },
    {
     "ename": "IndexError",
     "evalue": "list index out of range",
     "output_type": "error",
     "traceback": [
      "\u001b[0;31m---------------------------------------------------------------------------\u001b[0m",
      "\u001b[0;31mIndexError\u001b[0m                                Traceback (most recent call last)",
      "Input \u001b[0;32mIn [76]\u001b[0m, in \u001b[0;36m<cell line: 4>\u001b[0;34m()\u001b[0m\n\u001b[1;32m      4\u001b[0m \u001b[38;5;28;01mfor\u001b[39;00m index, row \u001b[38;5;129;01min\u001b[39;00m a\u001b[38;5;241m.\u001b[39miterrows():\n\u001b[1;32m      5\u001b[0m     search \u001b[38;5;241m=\u001b[39m sp\u001b[38;5;241m.\u001b[39msearch(q\u001b[38;5;241m=\u001b[39m\u001b[38;5;124m'\u001b[39m\u001b[38;5;124martist:\u001b[39m\u001b[38;5;124m'\u001b[39m\u001b[38;5;241m+\u001b[39mrow[\u001b[38;5;124m'\u001b[39m\u001b[38;5;124martist\u001b[39m\u001b[38;5;124m'\u001b[39m]\u001b[38;5;241m+\u001b[39m \u001b[38;5;124m'\u001b[39m\u001b[38;5;124m track:\u001b[39m\u001b[38;5;124m'\u001b[39m\u001b[38;5;241m+\u001b[39mrow[\u001b[38;5;124m'\u001b[39m\u001b[38;5;124mtrack_name\u001b[39m\u001b[38;5;124m'\u001b[39m], \u001b[38;5;28mtype\u001b[39m\u001b[38;5;241m=\u001b[39m\u001b[38;5;124m'\u001b[39m\u001b[38;5;124mtrack\u001b[39m\u001b[38;5;124m'\u001b[39m)\n\u001b[0;32m----> 6\u001b[0m     url\u001b[38;5;241m=\u001b[39m\u001b[43msearch\u001b[49m\u001b[43m[\u001b[49m\u001b[38;5;124;43m'\u001b[39;49m\u001b[38;5;124;43mtracks\u001b[39;49m\u001b[38;5;124;43m'\u001b[39;49m\u001b[43m]\u001b[49m\u001b[43m[\u001b[49m\u001b[38;5;124;43m'\u001b[39;49m\u001b[38;5;124;43mitems\u001b[39;49m\u001b[38;5;124;43m'\u001b[39;49m\u001b[43m]\u001b[49m\u001b[43m[\u001b[49m\u001b[38;5;241;43m0\u001b[39;49m\u001b[43m]\u001b[49m[\u001b[38;5;124m'\u001b[39m\u001b[38;5;124malbum\u001b[39m\u001b[38;5;124m'\u001b[39m][\u001b[38;5;124m'\u001b[39m\u001b[38;5;124mimages\u001b[39m\u001b[38;5;124m'\u001b[39m][\u001b[38;5;241m0\u001b[39m][\u001b[38;5;124m'\u001b[39m\u001b[38;5;124murl\u001b[39m\u001b[38;5;124m'\u001b[39m]\n\u001b[1;32m      7\u001b[0m     \u001b[38;5;28mprint\u001b[39m(url)\n\u001b[1;32m      8\u001b[0m     r[\u001b[38;5;124m'\u001b[39m\u001b[38;5;124mtrack_name\u001b[39m\u001b[38;5;124m'\u001b[39m]\u001b[38;5;241m.\u001b[39mappend(row[\u001b[38;5;124m'\u001b[39m\u001b[38;5;124mtrack_name\u001b[39m\u001b[38;5;124m'\u001b[39m])\n",
      "\u001b[0;31mIndexError\u001b[0m: list index out of range"
     ]
    }
   ],
   "source": [
    "r= {\"track_name\":[],\n",
    "           \"artist\":[],\n",
    "           \"url\":[]}\n",
    "for index, row in a.iterrows():\n",
    "    search = sp.search(q='artist:'+row['artist']+ ' track:'+row['track_name'], type='track')\n",
    "    url=search['tracks']['items'][0]['album']['images'][0]['url']\n",
    "    print(url)\n",
    "    r['track_name'].append(row['track_name'])\n",
    "    r['artist'].append(row['artist'])\n",
    "    r['url'].append(url)"
   ]
  },
  {
   "cell_type": "code",
   "execution_count": null,
   "id": "08d0f3d1-0338-4e58-9825-e86ee3963e83",
   "metadata": {},
   "outputs": [],
   "source": []
  },
  {
   "cell_type": "markdown",
   "id": "b72c897e-a32f-4158-b54a-ceaa86a38651",
   "metadata": {},
   "source": [
    "# Spotify API"
   ]
  },
  {
   "cell_type": "markdown",
   "id": "3e80c6fb-5962-4fdc-b676-05dd113a9f67",
   "metadata": {
    "id": "VYwFr6m2Wphj"
   },
   "source": [
    "## Data Extraction for aritist, track and url\n"
   ]
  },
  {
   "cell_type": "code",
   "execution_count": 34,
   "id": "gWcKBV-iQDeW",
   "metadata": {
    "executionInfo": {
     "elapsed": 177,
     "status": "ok",
     "timestamp": 1660412003158,
     "user": {
      "displayName": "olivia han",
      "userId": "16453021985307431611"
     },
     "user_tz": 420
    },
    "id": "gWcKBV-iQDeW"
   },
   "outputs": [],
   "source": [
    "\n",
    "data={'artist':[],\n",
    "      'track_name':[],\n",
    "      'url':[],\n",
    "}\n",
    "\n",
    "for i in range(len(p['tracks'])):\n",
    "  data['artist'].append(p['tracks'][i]['artists'][0]['name'])\n",
    "  data['track_name'].append(p['tracks'][i]['name'])\n",
    "  data['url'].append(p['tracks'][i]['album']['images'][0]['url'])"
   ]
  },
  {
   "cell_type": "code",
   "execution_count": 35,
   "id": "sBGcUeepOnAT",
   "metadata": {
    "colab": {
     "base_uri": "https://localhost:8080/",
     "height": 677
    },
    "executionInfo": {
     "elapsed": 283,
     "status": "ok",
     "timestamp": 1660412021870,
     "user": {
      "displayName": "olivia han",
      "userId": "16453021985307431611"
     },
     "user_tz": 420
    },
    "id": "sBGcUeepOnAT",
    "outputId": "28a4fd99-b714-48e8-8298-8ca5e21a7cb9"
   },
   "outputs": [
    {
     "data": {
      "text/html": [
       "\n",
       "  <div id=\"df-58aa8c68-1d49-41aa-aad0-86d11bd75b69\">\n",
       "    <div class=\"colab-df-container\">\n",
       "      <div>\n",
       "<style scoped>\n",
       "    .dataframe tbody tr th:only-of-type {\n",
       "        vertical-align: middle;\n",
       "    }\n",
       "\n",
       "    .dataframe tbody tr th {\n",
       "        vertical-align: top;\n",
       "    }\n",
       "\n",
       "    .dataframe thead th {\n",
       "        text-align: right;\n",
       "    }\n",
       "</style>\n",
       "<table border=\"1\" class=\"dataframe\">\n",
       "  <thead>\n",
       "    <tr style=\"text-align: right;\">\n",
       "      <th></th>\n",
       "      <th>artist</th>\n",
       "      <th>track_name</th>\n",
       "      <th>url</th>\n",
       "    </tr>\n",
       "  </thead>\n",
       "  <tbody>\n",
       "    <tr>\n",
       "      <th>0</th>\n",
       "      <td>Christina Aguilera</td>\n",
       "      <td>Candyman</td>\n",
       "      <td>https://i.scdn.co/image/ab67616d0000b273d74f45...</td>\n",
       "    </tr>\n",
       "    <tr>\n",
       "      <th>1</th>\n",
       "      <td>Juan Magán</td>\n",
       "      <td>Usted</td>\n",
       "      <td>https://i.scdn.co/image/ab67616d0000b27347f847...</td>\n",
       "    </tr>\n",
       "    <tr>\n",
       "      <th>2</th>\n",
       "      <td>Pitbull</td>\n",
       "      <td>No Lo Trates</td>\n",
       "      <td>https://i.scdn.co/image/ab67616d0000b273f0dd8e...</td>\n",
       "    </tr>\n",
       "    <tr>\n",
       "      <th>3</th>\n",
       "      <td>Shakira</td>\n",
       "      <td>Waka Waka (Esto Es Africa) - K-Mix</td>\n",
       "      <td>https://i.scdn.co/image/ab67616d0000b2734214dd...</td>\n",
       "    </tr>\n",
       "    <tr>\n",
       "      <th>4</th>\n",
       "      <td>Nicki Minaj</td>\n",
       "      <td>Chun-Li</td>\n",
       "      <td>https://i.scdn.co/image/ab67616d0000b273540ab7...</td>\n",
       "    </tr>\n",
       "    <tr>\n",
       "      <th>5</th>\n",
       "      <td>Jennifer Lopez</td>\n",
       "      <td>Cambia el Paso</td>\n",
       "      <td>https://i.scdn.co/image/ab67616d0000b2734a73c2...</td>\n",
       "    </tr>\n",
       "    <tr>\n",
       "      <th>6</th>\n",
       "      <td>Luis Fonsi</td>\n",
       "      <td>Échame La Culpa - Not On You Remix</td>\n",
       "      <td>https://i.scdn.co/image/ab67616d0000b273cb60bf...</td>\n",
       "    </tr>\n",
       "    <tr>\n",
       "      <th>7</th>\n",
       "      <td>Major Lazer</td>\n",
       "      <td>Que Calor (with J Balvin &amp; El Alfa)</td>\n",
       "      <td>https://i.scdn.co/image/ab67616d0000b273b1b01a...</td>\n",
       "    </tr>\n",
       "    <tr>\n",
       "      <th>8</th>\n",
       "      <td>Kat Deluna</td>\n",
       "      <td>Drop It Low - Radio Edit feat. Fatman Scoop</td>\n",
       "      <td>https://i.scdn.co/image/ab67616d0000b2734477e2...</td>\n",
       "    </tr>\n",
       "    <tr>\n",
       "      <th>9</th>\n",
       "      <td>Little Mix</td>\n",
       "      <td>Woman Like Me (feat. Nicki Minaj)</td>\n",
       "      <td>https://i.scdn.co/image/ab67616d0000b27315174e...</td>\n",
       "    </tr>\n",
       "    <tr>\n",
       "      <th>10</th>\n",
       "      <td>Natti Natasha</td>\n",
       "      <td>Ram Pam Pam</td>\n",
       "      <td>https://i.scdn.co/image/ab67616d0000b2734fe8d0...</td>\n",
       "    </tr>\n",
       "    <tr>\n",
       "      <th>11</th>\n",
       "      <td>Jennifer Lopez</td>\n",
       "      <td>Te Guste</td>\n",
       "      <td>https://i.scdn.co/image/ab67616d0000b27321229c...</td>\n",
       "    </tr>\n",
       "    <tr>\n",
       "      <th>12</th>\n",
       "      <td>DJ Snake</td>\n",
       "      <td>Magenta Riddim</td>\n",
       "      <td>https://i.scdn.co/image/ab67616d0000b273caf82a...</td>\n",
       "    </tr>\n",
       "    <tr>\n",
       "      <th>13</th>\n",
       "      <td>Kelly Clarkson</td>\n",
       "      <td>Love So Soft</td>\n",
       "      <td>https://i.scdn.co/image/ab67616d0000b2731b808f...</td>\n",
       "    </tr>\n",
       "    <tr>\n",
       "      <th>14</th>\n",
       "      <td>Elvis Crespo</td>\n",
       "      <td>Suavemente</td>\n",
       "      <td>https://i.scdn.co/image/ab67616d0000b273374a32...</td>\n",
       "    </tr>\n",
       "    <tr>\n",
       "      <th>15</th>\n",
       "      <td>Ricky Martin</td>\n",
       "      <td>Pégate (MTV Unplugged Version)[Radio Edit]</td>\n",
       "      <td>https://i.scdn.co/image/ab67616d0000b273a215d0...</td>\n",
       "    </tr>\n",
       "    <tr>\n",
       "      <th>16</th>\n",
       "      <td>Juan Magán</td>\n",
       "      <td>Echa Pa Aca</td>\n",
       "      <td>https://i.scdn.co/image/ab67616d0000b27347f847...</td>\n",
       "    </tr>\n",
       "    <tr>\n",
       "      <th>17</th>\n",
       "      <td>Janet Jackson</td>\n",
       "      <td>BURNITUP! (feat. Missy Elliott)</td>\n",
       "      <td>https://i.scdn.co/image/ab67616d0000b273cc770d...</td>\n",
       "    </tr>\n",
       "    <tr>\n",
       "      <th>18</th>\n",
       "      <td>Natti Natasha</td>\n",
       "      <td>Pa' Mala Yo</td>\n",
       "      <td>https://i.scdn.co/image/ab67616d0000b27355930d...</td>\n",
       "    </tr>\n",
       "    <tr>\n",
       "      <th>19</th>\n",
       "      <td>Demi Lovato</td>\n",
       "      <td>Sorry Not Sorry</td>\n",
       "      <td>https://i.scdn.co/image/ab67616d0000b273f70868...</td>\n",
       "    </tr>\n",
       "  </tbody>\n",
       "</table>\n",
       "</div>\n",
       "      <button class=\"colab-df-convert\" onclick=\"convertToInteractive('df-58aa8c68-1d49-41aa-aad0-86d11bd75b69')\"\n",
       "              title=\"Convert this dataframe to an interactive table.\"\n",
       "              style=\"display:none;\">\n",
       "        \n",
       "  <svg xmlns=\"http://www.w3.org/2000/svg\" height=\"24px\"viewBox=\"0 0 24 24\"\n",
       "       width=\"24px\">\n",
       "    <path d=\"M0 0h24v24H0V0z\" fill=\"none\"/>\n",
       "    <path d=\"M18.56 5.44l.94 2.06.94-2.06 2.06-.94-2.06-.94-.94-2.06-.94 2.06-2.06.94zm-11 1L8.5 8.5l.94-2.06 2.06-.94-2.06-.94L8.5 2.5l-.94 2.06-2.06.94zm10 10l.94 2.06.94-2.06 2.06-.94-2.06-.94-.94-2.06-.94 2.06-2.06.94z\"/><path d=\"M17.41 7.96l-1.37-1.37c-.4-.4-.92-.59-1.43-.59-.52 0-1.04.2-1.43.59L10.3 9.45l-7.72 7.72c-.78.78-.78 2.05 0 2.83L4 21.41c.39.39.9.59 1.41.59.51 0 1.02-.2 1.41-.59l7.78-7.78 2.81-2.81c.8-.78.8-2.07 0-2.86zM5.41 20L4 18.59l7.72-7.72 1.47 1.35L5.41 20z\"/>\n",
       "  </svg>\n",
       "      </button>\n",
       "      \n",
       "  <style>\n",
       "    .colab-df-container {\n",
       "      display:flex;\n",
       "      flex-wrap:wrap;\n",
       "      gap: 12px;\n",
       "    }\n",
       "\n",
       "    .colab-df-convert {\n",
       "      background-color: #E8F0FE;\n",
       "      border: none;\n",
       "      border-radius: 50%;\n",
       "      cursor: pointer;\n",
       "      display: none;\n",
       "      fill: #1967D2;\n",
       "      height: 32px;\n",
       "      padding: 0 0 0 0;\n",
       "      width: 32px;\n",
       "    }\n",
       "\n",
       "    .colab-df-convert:hover {\n",
       "      background-color: #E2EBFA;\n",
       "      box-shadow: 0px 1px 2px rgba(60, 64, 67, 0.3), 0px 1px 3px 1px rgba(60, 64, 67, 0.15);\n",
       "      fill: #174EA6;\n",
       "    }\n",
       "\n",
       "    [theme=dark] .colab-df-convert {\n",
       "      background-color: #3B4455;\n",
       "      fill: #D2E3FC;\n",
       "    }\n",
       "\n",
       "    [theme=dark] .colab-df-convert:hover {\n",
       "      background-color: #434B5C;\n",
       "      box-shadow: 0px 1px 3px 1px rgba(0, 0, 0, 0.15);\n",
       "      filter: drop-shadow(0px 1px 2px rgba(0, 0, 0, 0.3));\n",
       "      fill: #FFFFFF;\n",
       "    }\n",
       "  </style>\n",
       "\n",
       "      <script>\n",
       "        const buttonEl =\n",
       "          document.querySelector('#df-58aa8c68-1d49-41aa-aad0-86d11bd75b69 button.colab-df-convert');\n",
       "        buttonEl.style.display =\n",
       "          google.colab.kernel.accessAllowed ? 'block' : 'none';\n",
       "\n",
       "        async function convertToInteractive(key) {\n",
       "          const element = document.querySelector('#df-58aa8c68-1d49-41aa-aad0-86d11bd75b69');\n",
       "          const dataTable =\n",
       "            await google.colab.kernel.invokeFunction('convertToInteractive',\n",
       "                                                     [key], {});\n",
       "          if (!dataTable) return;\n",
       "\n",
       "          const docLinkHtml = 'Like what you see? Visit the ' +\n",
       "            '<a target=\"_blank\" href=https://colab.research.google.com/notebooks/data_table.ipynb>data table notebook</a>'\n",
       "            + ' to learn more about interactive tables.';\n",
       "          element.innerHTML = '';\n",
       "          dataTable['output_type'] = 'display_data';\n",
       "          await google.colab.output.renderOutput(dataTable, element);\n",
       "          const docLink = document.createElement('div');\n",
       "          docLink.innerHTML = docLinkHtml;\n",
       "          element.appendChild(docLink);\n",
       "        }\n",
       "      </script>\n",
       "    </div>\n",
       "  </div>\n",
       "  "
      ],
      "text/plain": [
       "                artist                                   track_name  \\\n",
       "0   Christina Aguilera                                     Candyman   \n",
       "1           Juan Magán                                        Usted   \n",
       "2              Pitbull                                 No Lo Trates   \n",
       "3              Shakira           Waka Waka (Esto Es Africa) - K-Mix   \n",
       "4          Nicki Minaj                                      Chun-Li   \n",
       "5       Jennifer Lopez                               Cambia el Paso   \n",
       "6           Luis Fonsi           Échame La Culpa - Not On You Remix   \n",
       "7          Major Lazer          Que Calor (with J Balvin & El Alfa)   \n",
       "8           Kat Deluna  Drop It Low - Radio Edit feat. Fatman Scoop   \n",
       "9           Little Mix            Woman Like Me (feat. Nicki Minaj)   \n",
       "10       Natti Natasha                                  Ram Pam Pam   \n",
       "11      Jennifer Lopez                                     Te Guste   \n",
       "12            DJ Snake                               Magenta Riddim   \n",
       "13      Kelly Clarkson                                 Love So Soft   \n",
       "14        Elvis Crespo                                   Suavemente   \n",
       "15        Ricky Martin   Pégate (MTV Unplugged Version)[Radio Edit]   \n",
       "16          Juan Magán                                  Echa Pa Aca   \n",
       "17       Janet Jackson              BURNITUP! (feat. Missy Elliott)   \n",
       "18       Natti Natasha                                  Pa' Mala Yo   \n",
       "19         Demi Lovato                              Sorry Not Sorry   \n",
       "\n",
       "                                                  url  \n",
       "0   https://i.scdn.co/image/ab67616d0000b273d74f45...  \n",
       "1   https://i.scdn.co/image/ab67616d0000b27347f847...  \n",
       "2   https://i.scdn.co/image/ab67616d0000b273f0dd8e...  \n",
       "3   https://i.scdn.co/image/ab67616d0000b2734214dd...  \n",
       "4   https://i.scdn.co/image/ab67616d0000b273540ab7...  \n",
       "5   https://i.scdn.co/image/ab67616d0000b2734a73c2...  \n",
       "6   https://i.scdn.co/image/ab67616d0000b273cb60bf...  \n",
       "7   https://i.scdn.co/image/ab67616d0000b273b1b01a...  \n",
       "8   https://i.scdn.co/image/ab67616d0000b2734477e2...  \n",
       "9   https://i.scdn.co/image/ab67616d0000b27315174e...  \n",
       "10  https://i.scdn.co/image/ab67616d0000b2734fe8d0...  \n",
       "11  https://i.scdn.co/image/ab67616d0000b27321229c...  \n",
       "12  https://i.scdn.co/image/ab67616d0000b273caf82a...  \n",
       "13  https://i.scdn.co/image/ab67616d0000b2731b808f...  \n",
       "14  https://i.scdn.co/image/ab67616d0000b273374a32...  \n",
       "15  https://i.scdn.co/image/ab67616d0000b273a215d0...  \n",
       "16  https://i.scdn.co/image/ab67616d0000b27347f847...  \n",
       "17  https://i.scdn.co/image/ab67616d0000b273cc770d...  \n",
       "18  https://i.scdn.co/image/ab67616d0000b27355930d...  \n",
       "19  https://i.scdn.co/image/ab67616d0000b273f70868...  "
      ]
     },
     "execution_count": 35,
     "metadata": {},
     "output_type": "execute_result"
    }
   ],
   "source": [
    "pd.DataFrame(data)"
   ]
  },
  {
   "cell_type": "code",
   "execution_count": 61,
   "id": "JZpTOXPB_3TP",
   "metadata": {
    "executionInfo": {
     "elapsed": 325,
     "status": "ok",
     "timestamp": 1660413502577,
     "user": {
      "displayName": "olivia han",
      "userId": "16453021985307431611"
     },
     "user_tz": 420
    },
    "id": "JZpTOXPB_3TP"
   },
   "outputs": [],
   "source": [
    "results={'artist':[],\n",
    "         'artist_genre':[]}"
   ]
  },
  {
   "cell_type": "markdown",
   "id": "1d3d6d4c-79e9-4b3c-b8bc-327cb7cd6167",
   "metadata": {
    "id": "eE8zUwScW4oL"
   },
   "source": [
    "## Data Extracktion for artist genre"
   ]
  },
  {
   "cell_type": "code",
   "execution_count": 68,
   "id": "RgZv6De9_VTT",
   "metadata": {
    "executionInfo": {
     "elapsed": 190886,
     "status": "ok",
     "timestamp": 1660414139809,
     "user": {
      "displayName": "olivia han",
      "userId": "16453021985307431611"
     },
     "user_tz": 420
    },
    "id": "RgZv6De9_VTT"
   },
   "outputs": [],
   "source": [
    "\n",
    "for i in range(0,len(artists[4000:])): \n",
    "  a=artists[i]\n",
    "  result = sp.search(a, limit=1, type=\"artist\")\n",
    "  \n",
    "  try:\n",
    "    genre = result[\"artists\"][\"items\"][0][\"genres\"]\n",
    "\n",
    "    results['artist_genre'].append(genre)\n",
    "    results['artist'].append(a)\n",
    "  except IndexError:\n",
    "    results['artist_genre'].append(\"NA\")\n",
    "\n"
   ]
  },
  {
   "cell_type": "code",
   "execution_count": 69,
   "id": "n51iOjxRAtjz",
   "metadata": {
    "colab": {
     "base_uri": "https://localhost:8080/"
    },
    "executionInfo": {
     "elapsed": 295,
     "status": "ok",
     "timestamp": 1660414151651,
     "user": {
      "displayName": "olivia han",
      "userId": "16453021985307431611"
     },
     "user_tz": 420
    },
    "id": "n51iOjxRAtjz",
    "outputId": "06abddc5-747a-49eb-e423-9ce447205dd1"
   },
   "outputs": [
    {
     "data": {
      "text/plain": [
       "6031"
      ]
     },
     "execution_count": 69,
     "metadata": {},
     "output_type": "execute_result"
    }
   ],
   "source": [
    "len(results['artist_genre'])"
   ]
  },
  {
   "cell_type": "code",
   "execution_count": 76,
   "id": "lI_y99YwYqe6",
   "metadata": {
    "executionInfo": {
     "elapsed": 311,
     "status": "ok",
     "timestamp": 1660414221045,
     "user": {
      "displayName": "olivia han",
      "userId": "16453021985307431611"
     },
     "user_tz": 420
    },
    "id": "lI_y99YwYqe6"
   },
   "outputs": [],
   "source": [
    "df_a=pd.DataFrame(results)"
   ]
  },
  {
   "cell_type": "code",
   "execution_count": 71,
   "id": "Gu-mUyQVZVli",
   "metadata": {
    "colab": {
     "base_uri": "https://localhost:8080/"
    },
    "executionInfo": {
     "elapsed": 306,
     "status": "ok",
     "timestamp": 1660414158975,
     "user": {
      "displayName": "olivia han",
      "userId": "16453021985307431611"
     },
     "user_tz": 420
    },
    "id": "Gu-mUyQVZVli",
    "outputId": "d081998a-3ccd-497e-9ead-78fdd17e9729"
   },
   "outputs": [
    {
     "data": {
      "text/plain": [
       "(18454, 24)"
      ]
     },
     "execution_count": 71,
     "metadata": {},
     "output_type": "execute_result"
    }
   ],
   "source": [
    "dff.shape"
   ]
  },
  {
   "cell_type": "code",
   "execution_count": null,
   "id": "PksZlJFtE3m_",
   "metadata": {
    "id": "PksZlJFtE3m_"
   },
   "outputs": [],
   "source": [
    "df_a.to_csv('artist_genre.csv')"
   ]
  },
  {
   "cell_type": "code",
   "execution_count": null,
   "id": "Ilv1eQkoE6cE",
   "metadata": {
    "id": "Ilv1eQkoE6cE"
   },
   "outputs": [],
   "source": [
    "df_track=df.iloc[24973:,:]"
   ]
  },
  {
   "cell_type": "code",
   "execution_count": null,
   "id": "_YcNOxOJGO1y",
   "metadata": {
    "colab": {
     "base_uri": "https://localhost:8080/"
    },
    "executionInfo": {
     "elapsed": 5,
     "status": "ok",
     "timestamp": 1660231214065,
     "user": {
      "displayName": "olivia han",
      "userId": "16453021985307431611"
     },
     "user_tz": 420
    },
    "id": "_YcNOxOJGO1y",
    "outputId": "e9b21d39-afae-481f-b698-8485db2a652e"
   },
   "outputs": [
    {
     "data": {
      "text/plain": [
       "(249, 21)"
      ]
     },
     "execution_count": 22,
     "metadata": {},
     "output_type": "execute_result"
    }
   ],
   "source": [
    "df_track.shape"
   ]
  },
  {
   "cell_type": "markdown",
   "id": "0089a494-16c1-42fe-83d3-55ccb289e66e",
   "metadata": {
    "executionInfo": {
     "elapsed": 313,
     "status": "ok",
     "timestamp": 1660414666105,
     "user": {
      "displayName": "olivia han",
      "userId": "16453021985307431611"
     },
     "user_tz": 420
    },
    "id": "Ka14r-W_WnY2"
   },
   "source": [
    "## Data Extraction for track_id"
   ]
  },
  {
   "cell_type": "code",
   "execution_count": 91,
   "id": "nX0evFAAvMQD",
   "metadata": {
    "executionInfo": {
     "elapsed": 195,
     "status": "ok",
     "timestamp": 1660414652665,
     "user": {
      "displayName": "olivia han",
      "userId": "16453021985307431611"
     },
     "user_tz": 420
    },
    "id": "nX0evFAAvMQD"
   },
   "outputs": [],
   "source": [
    "result={'track_name':[],\n",
    "        'artist':[],\n",
    "        'track_id':[]}\n",
    "\n",
    "result['track_name']=tracks\n",
    "result['artist'] =artists"
   ]
  },
  {
   "cell_type": "code",
   "execution_count": null,
   "id": "GANabat5shJi",
   "metadata": {
    "colab": {
     "base_uri": "https://localhost:8080/"
    },
    "executionInfo": {
     "elapsed": 154,
     "status": "ok",
     "timestamp": 1660191423290,
     "user": {
      "displayName": "olivia han",
      "userId": "16453021985307431611"
     },
     "user_tz": 420
    },
    "id": "GANabat5shJi",
    "outputId": "fe525e14-1341-4c9c-df0d-bd6d49446154"
   },
   "outputs": [
    {
     "data": {
      "text/plain": [
       "249"
      ]
     },
     "execution_count": 60,
     "metadata": {},
     "output_type": "execute_result"
    }
   ],
   "source": [
    "len(artists)"
   ]
  },
  {
   "cell_type": "code",
   "execution_count": 161,
   "id": "UdXHrqy2WVeu",
   "metadata": {
    "executionInfo": {
     "elapsed": 33801,
     "status": "ok",
     "timestamp": 1660419605302,
     "user": {
      "displayName": "olivia han",
      "userId": "16453021985307431611"
     },
     "user_tz": 420
    },
    "id": "UdXHrqy2WVeu"
   },
   "outputs": [],
   "source": [
    "\n",
    "# artists=list(df_track['artist'])\n",
    "# tracks=list(df_track['track_name'])\n",
    "\n",
    "for i in range(0,len(artists[24364:])):\n",
    "  # a=artists[i]\n",
    "  # t=tracks[i]\n",
    "\n",
    "\n",
    "  r=sp.search(q=\"artist:\" + artists[i] + \" track:\" + tracks[i], type=\"track\")\n",
    "\n",
    "  try:\n",
    "    id=r['tracks']['items'][0]['id']\n",
    "\n",
    "    result['track_id'].append(id)\n",
    "  except IndexError:\n",
    "    result['track_id'].append(\"NA\")\n",
    "\n",
    "\n"
   ]
  },
  {
   "cell_type": "code",
   "execution_count": 164,
   "id": "gP-QFbBmrVie",
   "metadata": {
    "executionInfo": {
     "elapsed": 181,
     "status": "ok",
     "timestamp": 1660419666741,
     "user": {
      "displayName": "olivia han",
      "userId": "16453021985307431611"
     },
     "user_tz": 420
    },
    "id": "gP-QFbBmrVie"
   },
   "outputs": [],
   "source": [
    "aa={'track_name':tracks,\n",
    "   'artist':artists,\n",
    "   'track_id':result['track_id']\n",
    "    \n",
    "}"
   ]
  },
  {
   "cell_type": "code",
   "execution_count": 165,
   "id": "uTBvDwwDqxYs",
   "metadata": {
    "colab": {
     "base_uri": "https://localhost:8080/",
     "height": 424
    },
    "executionInfo": {
     "elapsed": 207,
     "status": "ok",
     "timestamp": 1660419672540,
     "user": {
      "displayName": "olivia han",
      "userId": "16453021985307431611"
     },
     "user_tz": 420
    },
    "id": "uTBvDwwDqxYs",
    "outputId": "cf9bdd72-466c-457f-caec-e1c5a994129e"
   },
   "outputs": [
    {
     "data": {
      "text/html": [
       "\n",
       "  <div id=\"df-1af657cb-6819-444d-9c0b-4a3cdf329fb3\">\n",
       "    <div class=\"colab-df-container\">\n",
       "      <div>\n",
       "<style scoped>\n",
       "    .dataframe tbody tr th:only-of-type {\n",
       "        vertical-align: middle;\n",
       "    }\n",
       "\n",
       "    .dataframe tbody tr th {\n",
       "        vertical-align: top;\n",
       "    }\n",
       "\n",
       "    .dataframe thead th {\n",
       "        text-align: right;\n",
       "    }\n",
       "</style>\n",
       "<table border=\"1\" class=\"dataframe\">\n",
       "  <thead>\n",
       "    <tr style=\"text-align: right;\">\n",
       "      <th></th>\n",
       "      <th>track_name</th>\n",
       "      <th>artist</th>\n",
       "      <th>track_id</th>\n",
       "    </tr>\n",
       "  </thead>\n",
       "  <tbody>\n",
       "    <tr>\n",
       "      <th>0</th>\n",
       "      <td>Swalla</td>\n",
       "      <td>Jason Derulo</td>\n",
       "      <td>6kex4EBAj0WHXDKZMEJaaF</td>\n",
       "    </tr>\n",
       "    <tr>\n",
       "      <th>1</th>\n",
       "      <td>Talk Dirty</td>\n",
       "      <td>Jason Derulo</td>\n",
       "      <td>6g6A7qNhTfUgOSH7ROOxTD</td>\n",
       "    </tr>\n",
       "    <tr>\n",
       "      <th>2</th>\n",
       "      <td>Wiggle</td>\n",
       "      <td>Jason Derulo</td>\n",
       "      <td>2sLwPnIP3CUVmIuHranJZU</td>\n",
       "    </tr>\n",
       "    <tr>\n",
       "      <th>3</th>\n",
       "      <td>Trumpets</td>\n",
       "      <td>Jason Derulo</td>\n",
       "      <td>5KONnBIQ9LqCxyeSPin26k</td>\n",
       "    </tr>\n",
       "    <tr>\n",
       "      <th>4</th>\n",
       "      <td>Tip Toe</td>\n",
       "      <td>Jason Derulo</td>\n",
       "      <td>2z4pcBLQXF2BXKFvd0BuB6</td>\n",
       "    </tr>\n",
       "    <tr>\n",
       "      <th>...</th>\n",
       "      <td>...</td>\n",
       "      <td>...</td>\n",
       "      <td>...</td>\n",
       "    </tr>\n",
       "    <tr>\n",
       "      <th>24704</th>\n",
       "      <td>Tattooed Heart</td>\n",
       "      <td>Ronnie Dunn</td>\n",
       "      <td>6pymOcrCnMuCWdgGVTvUgP</td>\n",
       "    </tr>\n",
       "    <tr>\n",
       "      <th>24705</th>\n",
       "      <td>Eagle Eye</td>\n",
       "      <td>Ava Raiin</td>\n",
       "      <td>6T689Jvh5KrSXyaPtUWZtQ</td>\n",
       "    </tr>\n",
       "    <tr>\n",
       "      <th>24706</th>\n",
       "      <td>Go</td>\n",
       "      <td>Grant Terry</td>\n",
       "      <td>6ic8OlLUNEATToEFU3xmaH</td>\n",
       "    </tr>\n",
       "    <tr>\n",
       "      <th>24707</th>\n",
       "      <td>Coexist</td>\n",
       "      <td>Sonia Stein</td>\n",
       "      <td>2i9q8CteBmpslOJeQdMGqA</td>\n",
       "    </tr>\n",
       "    <tr>\n",
       "      <th>24708</th>\n",
       "      <td>Save Me - Radio Edit</td>\n",
       "      <td>Timo Odv</td>\n",
       "      <td>2EvwLVrnYbCZEG6Kx5DCRy</td>\n",
       "    </tr>\n",
       "  </tbody>\n",
       "</table>\n",
       "<p>24709 rows × 3 columns</p>\n",
       "</div>\n",
       "      <button class=\"colab-df-convert\" onclick=\"convertToInteractive('df-1af657cb-6819-444d-9c0b-4a3cdf329fb3')\"\n",
       "              title=\"Convert this dataframe to an interactive table.\"\n",
       "              style=\"display:none;\">\n",
       "        \n",
       "  <svg xmlns=\"http://www.w3.org/2000/svg\" height=\"24px\"viewBox=\"0 0 24 24\"\n",
       "       width=\"24px\">\n",
       "    <path d=\"M0 0h24v24H0V0z\" fill=\"none\"/>\n",
       "    <path d=\"M18.56 5.44l.94 2.06.94-2.06 2.06-.94-2.06-.94-.94-2.06-.94 2.06-2.06.94zm-11 1L8.5 8.5l.94-2.06 2.06-.94-2.06-.94L8.5 2.5l-.94 2.06-2.06.94zm10 10l.94 2.06.94-2.06 2.06-.94-2.06-.94-.94-2.06-.94 2.06-2.06.94z\"/><path d=\"M17.41 7.96l-1.37-1.37c-.4-.4-.92-.59-1.43-.59-.52 0-1.04.2-1.43.59L10.3 9.45l-7.72 7.72c-.78.78-.78 2.05 0 2.83L4 21.41c.39.39.9.59 1.41.59.51 0 1.02-.2 1.41-.59l7.78-7.78 2.81-2.81c.8-.78.8-2.07 0-2.86zM5.41 20L4 18.59l7.72-7.72 1.47 1.35L5.41 20z\"/>\n",
       "  </svg>\n",
       "      </button>\n",
       "      \n",
       "  <style>\n",
       "    .colab-df-container {\n",
       "      display:flex;\n",
       "      flex-wrap:wrap;\n",
       "      gap: 12px;\n",
       "    }\n",
       "\n",
       "    .colab-df-convert {\n",
       "      background-color: #E8F0FE;\n",
       "      border: none;\n",
       "      border-radius: 50%;\n",
       "      cursor: pointer;\n",
       "      display: none;\n",
       "      fill: #1967D2;\n",
       "      height: 32px;\n",
       "      padding: 0 0 0 0;\n",
       "      width: 32px;\n",
       "    }\n",
       "\n",
       "    .colab-df-convert:hover {\n",
       "      background-color: #E2EBFA;\n",
       "      box-shadow: 0px 1px 2px rgba(60, 64, 67, 0.3), 0px 1px 3px 1px rgba(60, 64, 67, 0.15);\n",
       "      fill: #174EA6;\n",
       "    }\n",
       "\n",
       "    [theme=dark] .colab-df-convert {\n",
       "      background-color: #3B4455;\n",
       "      fill: #D2E3FC;\n",
       "    }\n",
       "\n",
       "    [theme=dark] .colab-df-convert:hover {\n",
       "      background-color: #434B5C;\n",
       "      box-shadow: 0px 1px 3px 1px rgba(0, 0, 0, 0.15);\n",
       "      filter: drop-shadow(0px 1px 2px rgba(0, 0, 0, 0.3));\n",
       "      fill: #FFFFFF;\n",
       "    }\n",
       "  </style>\n",
       "\n",
       "      <script>\n",
       "        const buttonEl =\n",
       "          document.querySelector('#df-1af657cb-6819-444d-9c0b-4a3cdf329fb3 button.colab-df-convert');\n",
       "        buttonEl.style.display =\n",
       "          google.colab.kernel.accessAllowed ? 'block' : 'none';\n",
       "\n",
       "        async function convertToInteractive(key) {\n",
       "          const element = document.querySelector('#df-1af657cb-6819-444d-9c0b-4a3cdf329fb3');\n",
       "          const dataTable =\n",
       "            await google.colab.kernel.invokeFunction('convertToInteractive',\n",
       "                                                     [key], {});\n",
       "          if (!dataTable) return;\n",
       "\n",
       "          const docLinkHtml = 'Like what you see? Visit the ' +\n",
       "            '<a target=\"_blank\" href=https://colab.research.google.com/notebooks/data_table.ipynb>data table notebook</a>'\n",
       "            + ' to learn more about interactive tables.';\n",
       "          element.innerHTML = '';\n",
       "          dataTable['output_type'] = 'display_data';\n",
       "          await google.colab.output.renderOutput(dataTable, element);\n",
       "          const docLink = document.createElement('div');\n",
       "          docLink.innerHTML = docLinkHtml;\n",
       "          element.appendChild(docLink);\n",
       "        }\n",
       "      </script>\n",
       "    </div>\n",
       "  </div>\n",
       "  "
      ],
      "text/plain": [
       "                 track_name        artist                track_id\n",
       "0                    Swalla  Jason Derulo  6kex4EBAj0WHXDKZMEJaaF\n",
       "1                Talk Dirty  Jason Derulo  6g6A7qNhTfUgOSH7ROOxTD\n",
       "2                    Wiggle  Jason Derulo  2sLwPnIP3CUVmIuHranJZU\n",
       "3                  Trumpets  Jason Derulo  5KONnBIQ9LqCxyeSPin26k\n",
       "4                   Tip Toe  Jason Derulo  2z4pcBLQXF2BXKFvd0BuB6\n",
       "...                     ...           ...                     ...\n",
       "24704        Tattooed Heart   Ronnie Dunn  6pymOcrCnMuCWdgGVTvUgP\n",
       "24705             Eagle Eye     Ava Raiin  6T689Jvh5KrSXyaPtUWZtQ\n",
       "24706                    Go   Grant Terry  6ic8OlLUNEATToEFU3xmaH\n",
       "24707               Coexist   Sonia Stein  2i9q8CteBmpslOJeQdMGqA\n",
       "24708  Save Me - Radio Edit      Timo Odv  2EvwLVrnYbCZEG6Kx5DCRy\n",
       "\n",
       "[24709 rows x 3 columns]"
      ]
     },
     "execution_count": 165,
     "metadata": {},
     "output_type": "execute_result"
    }
   ],
   "source": [
    "pd.DataFrame(aa)"
   ]
  },
  {
   "cell_type": "markdown",
   "id": "0Odkgi23idLa",
   "metadata": {
    "id": "0Odkgi23idLa"
   },
   "source": [
    "## Extract wanted playlist infomation"
   ]
  },
  {
   "cell_type": "code",
   "execution_count": null,
   "id": "xZ0OirG-h--0",
   "metadata": {
    "id": "xZ0OirG-h--0"
   },
   "outputs": [],
   "source": [
    "PLAYLIST_LINK='https://open.spotify.com/playlist/7e8cfiRka531si86ide376?si=3241ab1de3374dfa'"
   ]
  },
  {
   "cell_type": "code",
   "execution_count": null,
   "id": "FdCXvBnah9qL",
   "metadata": {
    "id": "FdCXvBnah9qL"
   },
   "outputs": [],
   "source": [
    "playlist_id='7e8cfiRka531si86ide376?si=6bedc08d56004b50'"
   ]
  },
  {
   "cell_type": "code",
   "execution_count": null,
   "id": "uVP4s5L9lboh",
   "metadata": {
    "id": "uVP4s5L9lboh"
   },
   "outputs": [],
   "source": [
    "def get_playlist_uri(playlist_link):\n",
    "    return playlist_link.split(\"/\")[-1].split(\"?\")[0]\n",
    "\n",
    "\n",
    "def get_tracks():\n",
    "    # tracks = {'track_uri':[],\n",
    "    #           'track_name':[],\n",
    "    #           'artist_uri':[],\n",
    "    #           'artist':[],\n",
    "    #           'artist_pop':[],\n",
    "    #           'artist_genres':[],\n",
    "    #           'popularity':[], }\n",
    "\n",
    "    results=[]\n",
    "    playlist_uri = get_playlist_uri(PLAYLIST_LINK)\n",
    "    for track in sp.playlist_tracks(playlist_uri)[\"items\"]:\n",
    "        #url\n",
    "        track_uri = track[\"track\"][\"uri\"]\n",
    "        # tracks['track_uri'].append(track_url)\n",
    "        #track_name\n",
    "        track_name = track[\"track\"][\"name\"]\n",
    "\n",
    "        # #Main Artist\n",
    "        # artist_uri = track[\"track\"][\"artists\"][0][\"uri\"]\n",
    "        # # tracks['artist_uri'].append(artist_uri)\n",
    "\n",
    "        # artist_info = sp.artist(artist_uri)\n",
    "        # artist = track[\"track\"][\"artists\"][0][\"name\"]\n",
    "        # tracks['artist'].append(artist)\n",
    "\n",
    "        # artist_pop = artist_info[\"popularity\"]\n",
    "        # tracks['artist_pop'].append(artist_pop)\n",
    "\n",
    "        # artist_genres = artist_info[\"genres\"]\n",
    "        # tracks['artist_genres'].append(artist_genres)\n",
    "\n",
    "        # #Album\n",
    "        # album = track[\"track\"][\"album\"][\"name\"]\n",
    "        \n",
    "        # #Popularity of the track\n",
    "        # popularity = track[\"track\"][\"popularity\"]\n",
    "\n",
    "        # #audioFeuature\n",
    "        # result = track_name,artist_info\n",
    "        # # audio=sp.audio_features(track_uri)\n",
    "        \n",
    "        results.append(track)\n",
    "\n",
    "    return tracks\n"
   ]
  },
  {
   "cell_type": "code",
   "execution_count": null,
   "id": "PGCvdABnu6SN",
   "metadata": {
    "colab": {
     "base_uri": "https://localhost:8080/",
     "height": 336
    },
    "executionInfo": {
     "elapsed": 25832,
     "status": "error",
     "timestamp": 1660237399372,
     "user": {
      "displayName": "olivia han",
      "userId": "16453021985307431611"
     },
     "user_tz": 420
    },
    "id": "PGCvdABnu6SN",
    "outputId": "d70e48ab-90e5-4e25-b593-191b8a5d111e"
   },
   "outputs": [
    {
     "ename": "KeyboardInterrupt",
     "evalue": "ignored",
     "output_type": "error",
     "traceback": [
      "\u001b[0;31m---------------------------------------------------------------------------\u001b[0m",
      "\u001b[0;31mKeyboardInterrupt\u001b[0m                         Traceback (most recent call last)",
      "\u001b[0;32m<ipython-input-123-7b8e0f38b883>\u001b[0m in \u001b[0;36m<module>\u001b[0;34m()\u001b[0m\n\u001b[0;32m----> 1\u001b[0;31m \u001b[0mp\u001b[0m\u001b[0;34m=\u001b[0m\u001b[0mget_tracks\u001b[0m\u001b[0;34m(\u001b[0m\u001b[0;34m)\u001b[0m\u001b[0;34m\u001b[0m\u001b[0;34m\u001b[0m\u001b[0m\n\u001b[0m",
      "\u001b[0;32m<ipython-input-122-e7bfe711d2bc>\u001b[0m in \u001b[0;36mget_tracks\u001b[0;34m()\u001b[0m\n\u001b[1;32m     14\u001b[0m     \u001b[0mresults\u001b[0m\u001b[0;34m=\u001b[0m\u001b[0;34m[\u001b[0m\u001b[0;34m]\u001b[0m\u001b[0;34m\u001b[0m\u001b[0;34m\u001b[0m\u001b[0m\n\u001b[1;32m     15\u001b[0m     \u001b[0mplaylist_uri\u001b[0m \u001b[0;34m=\u001b[0m \u001b[0mget_playlist_uri\u001b[0m\u001b[0;34m(\u001b[0m\u001b[0mPLAYLIST_LINK\u001b[0m\u001b[0;34m)\u001b[0m\u001b[0;34m\u001b[0m\u001b[0;34m\u001b[0m\u001b[0m\n\u001b[0;32m---> 16\u001b[0;31m     \u001b[0;32mfor\u001b[0m \u001b[0mtrack\u001b[0m \u001b[0;32min\u001b[0m \u001b[0msp\u001b[0m\u001b[0;34m.\u001b[0m\u001b[0mplaylist_tracks\u001b[0m\u001b[0;34m(\u001b[0m\u001b[0mplaylist_uri\u001b[0m\u001b[0;34m)\u001b[0m\u001b[0;34m[\u001b[0m\u001b[0;34m\"items\"\u001b[0m\u001b[0;34m]\u001b[0m\u001b[0;34m:\u001b[0m\u001b[0;34m\u001b[0m\u001b[0;34m\u001b[0m\u001b[0m\n\u001b[0m\u001b[1;32m     17\u001b[0m         \u001b[0;31m#url\u001b[0m\u001b[0;34m\u001b[0m\u001b[0;34m\u001b[0m\u001b[0;34m\u001b[0m\u001b[0m\n\u001b[1;32m     18\u001b[0m         \u001b[0mtrack_uri\u001b[0m \u001b[0;34m=\u001b[0m \u001b[0mtrack\u001b[0m\u001b[0;34m[\u001b[0m\u001b[0;34m\"track\"\u001b[0m\u001b[0;34m]\u001b[0m\u001b[0;34m[\u001b[0m\u001b[0;34m\"uri\"\u001b[0m\u001b[0;34m]\u001b[0m\u001b[0;34m\u001b[0m\u001b[0;34m\u001b[0m\u001b[0m\n",
      "\u001b[0;32m/usr/local/lib/python3.7/dist-packages/spotipy/client.py\u001b[0m in \u001b[0;36mplaylist_tracks\u001b[0;34m(self, playlist_id, fields, limit, offset, market, additional_types)\u001b[0m\n\u001b[1;32m    648\u001b[0m         )\n\u001b[1;32m    649\u001b[0m         return self.playlist_items(playlist_id, fields, limit, offset,\n\u001b[0;32m--> 650\u001b[0;31m                                    market, additional_types)\n\u001b[0m\u001b[1;32m    651\u001b[0m \u001b[0;34m\u001b[0m\u001b[0m\n\u001b[1;32m    652\u001b[0m     def playlist_items(\n",
      "\u001b[0;32m/usr/local/lib/python3.7/dist-packages/spotipy/client.py\u001b[0m in \u001b[0;36mplaylist_items\u001b[0;34m(self, playlist_id, fields, limit, offset, market, additional_types)\u001b[0m\n\u001b[1;32m    677\u001b[0m             \u001b[0mfields\u001b[0m\u001b[0;34m=\u001b[0m\u001b[0mfields\u001b[0m\u001b[0;34m,\u001b[0m\u001b[0;34m\u001b[0m\u001b[0;34m\u001b[0m\u001b[0m\n\u001b[1;32m    678\u001b[0m             \u001b[0mmarket\u001b[0m\u001b[0;34m=\u001b[0m\u001b[0mmarket\u001b[0m\u001b[0;34m,\u001b[0m\u001b[0;34m\u001b[0m\u001b[0;34m\u001b[0m\u001b[0m\n\u001b[0;32m--> 679\u001b[0;31m             \u001b[0madditional_types\u001b[0m\u001b[0;34m=\u001b[0m\u001b[0;34m\",\"\u001b[0m\u001b[0;34m.\u001b[0m\u001b[0mjoin\u001b[0m\u001b[0;34m(\u001b[0m\u001b[0madditional_types\u001b[0m\u001b[0;34m)\u001b[0m\u001b[0;34m\u001b[0m\u001b[0;34m\u001b[0m\u001b[0m\n\u001b[0m\u001b[1;32m    680\u001b[0m         )\n\u001b[1;32m    681\u001b[0m \u001b[0;34m\u001b[0m\u001b[0m\n",
      "\u001b[0;32m/usr/local/lib/python3.7/dist-packages/spotipy/client.py\u001b[0m in \u001b[0;36m_get\u001b[0;34m(self, url, args, payload, **kwargs)\u001b[0m\n\u001b[1;32m    295\u001b[0m             \u001b[0mkwargs\u001b[0m\u001b[0;34m.\u001b[0m\u001b[0mupdate\u001b[0m\u001b[0;34m(\u001b[0m\u001b[0margs\u001b[0m\u001b[0;34m)\u001b[0m\u001b[0;34m\u001b[0m\u001b[0;34m\u001b[0m\u001b[0m\n\u001b[1;32m    296\u001b[0m \u001b[0;34m\u001b[0m\u001b[0m\n\u001b[0;32m--> 297\u001b[0;31m         \u001b[0;32mreturn\u001b[0m \u001b[0mself\u001b[0m\u001b[0;34m.\u001b[0m\u001b[0m_internal_call\u001b[0m\u001b[0;34m(\u001b[0m\u001b[0;34m\"GET\"\u001b[0m\u001b[0;34m,\u001b[0m \u001b[0murl\u001b[0m\u001b[0;34m,\u001b[0m \u001b[0mpayload\u001b[0m\u001b[0;34m,\u001b[0m \u001b[0mkwargs\u001b[0m\u001b[0;34m)\u001b[0m\u001b[0;34m\u001b[0m\u001b[0;34m\u001b[0m\u001b[0m\n\u001b[0m\u001b[1;32m    298\u001b[0m \u001b[0;34m\u001b[0m\u001b[0m\n\u001b[1;32m    299\u001b[0m     \u001b[0;32mdef\u001b[0m \u001b[0m_post\u001b[0m\u001b[0;34m(\u001b[0m\u001b[0mself\u001b[0m\u001b[0;34m,\u001b[0m \u001b[0murl\u001b[0m\u001b[0;34m,\u001b[0m \u001b[0margs\u001b[0m\u001b[0;34m=\u001b[0m\u001b[0;32mNone\u001b[0m\u001b[0;34m,\u001b[0m \u001b[0mpayload\u001b[0m\u001b[0;34m=\u001b[0m\u001b[0;32mNone\u001b[0m\u001b[0;34m,\u001b[0m \u001b[0;34m**\u001b[0m\u001b[0mkwargs\u001b[0m\u001b[0;34m)\u001b[0m\u001b[0;34m:\u001b[0m\u001b[0;34m\u001b[0m\u001b[0;34m\u001b[0m\u001b[0m\n",
      "\u001b[0;32m/usr/local/lib/python3.7/dist-packages/spotipy/client.py\u001b[0m in \u001b[0;36m_internal_call\u001b[0;34m(self, method, url, payload, params)\u001b[0m\n\u001b[1;32m    240\u001b[0m             response = self._session.request(\n\u001b[1;32m    241\u001b[0m                 \u001b[0mmethod\u001b[0m\u001b[0;34m,\u001b[0m \u001b[0murl\u001b[0m\u001b[0;34m,\u001b[0m \u001b[0mheaders\u001b[0m\u001b[0;34m=\u001b[0m\u001b[0mheaders\u001b[0m\u001b[0;34m,\u001b[0m \u001b[0mproxies\u001b[0m\u001b[0;34m=\u001b[0m\u001b[0mself\u001b[0m\u001b[0;34m.\u001b[0m\u001b[0mproxies\u001b[0m\u001b[0;34m,\u001b[0m\u001b[0;34m\u001b[0m\u001b[0;34m\u001b[0m\u001b[0m\n\u001b[0;32m--> 242\u001b[0;31m                 \u001b[0mtimeout\u001b[0m\u001b[0;34m=\u001b[0m\u001b[0mself\u001b[0m\u001b[0;34m.\u001b[0m\u001b[0mrequests_timeout\u001b[0m\u001b[0;34m,\u001b[0m \u001b[0;34m**\u001b[0m\u001b[0margs\u001b[0m\u001b[0;34m\u001b[0m\u001b[0;34m\u001b[0m\u001b[0m\n\u001b[0m\u001b[1;32m    243\u001b[0m             )\n\u001b[1;32m    244\u001b[0m \u001b[0;34m\u001b[0m\u001b[0m\n",
      "\u001b[0;32m/usr/local/lib/python3.7/dist-packages/requests/sessions.py\u001b[0m in \u001b[0;36mrequest\u001b[0;34m(self, method, url, params, data, headers, cookies, files, auth, timeout, allow_redirects, proxies, hooks, stream, verify, cert, json)\u001b[0m\n\u001b[1;32m    585\u001b[0m         }\n\u001b[1;32m    586\u001b[0m         \u001b[0msend_kwargs\u001b[0m\u001b[0;34m.\u001b[0m\u001b[0mupdate\u001b[0m\u001b[0;34m(\u001b[0m\u001b[0msettings\u001b[0m\u001b[0;34m)\u001b[0m\u001b[0;34m\u001b[0m\u001b[0;34m\u001b[0m\u001b[0m\n\u001b[0;32m--> 587\u001b[0;31m         \u001b[0mresp\u001b[0m \u001b[0;34m=\u001b[0m \u001b[0mself\u001b[0m\u001b[0;34m.\u001b[0m\u001b[0msend\u001b[0m\u001b[0;34m(\u001b[0m\u001b[0mprep\u001b[0m\u001b[0;34m,\u001b[0m \u001b[0;34m**\u001b[0m\u001b[0msend_kwargs\u001b[0m\u001b[0;34m)\u001b[0m\u001b[0;34m\u001b[0m\u001b[0;34m\u001b[0m\u001b[0m\n\u001b[0m\u001b[1;32m    588\u001b[0m \u001b[0;34m\u001b[0m\u001b[0m\n\u001b[1;32m    589\u001b[0m         \u001b[0;32mreturn\u001b[0m \u001b[0mresp\u001b[0m\u001b[0;34m\u001b[0m\u001b[0;34m\u001b[0m\u001b[0m\n",
      "\u001b[0;32m/usr/local/lib/python3.7/dist-packages/requests/sessions.py\u001b[0m in \u001b[0;36msend\u001b[0;34m(self, request, **kwargs)\u001b[0m\n\u001b[1;32m    699\u001b[0m \u001b[0;34m\u001b[0m\u001b[0m\n\u001b[1;32m    700\u001b[0m         \u001b[0;31m# Send the request\u001b[0m\u001b[0;34m\u001b[0m\u001b[0;34m\u001b[0m\u001b[0;34m\u001b[0m\u001b[0m\n\u001b[0;32m--> 701\u001b[0;31m         \u001b[0mr\u001b[0m \u001b[0;34m=\u001b[0m \u001b[0madapter\u001b[0m\u001b[0;34m.\u001b[0m\u001b[0msend\u001b[0m\u001b[0;34m(\u001b[0m\u001b[0mrequest\u001b[0m\u001b[0;34m,\u001b[0m \u001b[0;34m**\u001b[0m\u001b[0mkwargs\u001b[0m\u001b[0;34m)\u001b[0m\u001b[0;34m\u001b[0m\u001b[0;34m\u001b[0m\u001b[0m\n\u001b[0m\u001b[1;32m    702\u001b[0m \u001b[0;34m\u001b[0m\u001b[0m\n\u001b[1;32m    703\u001b[0m         \u001b[0;31m# Total elapsed time of the request (approximately)\u001b[0m\u001b[0;34m\u001b[0m\u001b[0;34m\u001b[0m\u001b[0;34m\u001b[0m\u001b[0m\n",
      "\u001b[0;32m/usr/local/lib/python3.7/dist-packages/requests/adapters.py\u001b[0m in \u001b[0;36msend\u001b[0;34m(self, request, stream, timeout, verify, cert, proxies)\u001b[0m\n\u001b[1;32m    497\u001b[0m                     \u001b[0mdecode_content\u001b[0m\u001b[0;34m=\u001b[0m\u001b[0;32mFalse\u001b[0m\u001b[0;34m,\u001b[0m\u001b[0;34m\u001b[0m\u001b[0;34m\u001b[0m\u001b[0m\n\u001b[1;32m    498\u001b[0m                     \u001b[0mretries\u001b[0m\u001b[0;34m=\u001b[0m\u001b[0mself\u001b[0m\u001b[0;34m.\u001b[0m\u001b[0mmax_retries\u001b[0m\u001b[0;34m,\u001b[0m\u001b[0;34m\u001b[0m\u001b[0;34m\u001b[0m\u001b[0m\n\u001b[0;32m--> 499\u001b[0;31m                     \u001b[0mtimeout\u001b[0m\u001b[0;34m=\u001b[0m\u001b[0mtimeout\u001b[0m\u001b[0;34m,\u001b[0m\u001b[0;34m\u001b[0m\u001b[0;34m\u001b[0m\u001b[0m\n\u001b[0m\u001b[1;32m    500\u001b[0m                 )\n\u001b[1;32m    501\u001b[0m \u001b[0;34m\u001b[0m\u001b[0m\n",
      "\u001b[0;32m/usr/local/lib/python3.7/dist-packages/urllib3/connectionpool.py\u001b[0m in \u001b[0;36murlopen\u001b[0;34m(self, method, url, body, headers, retries, redirect, assert_same_host, timeout, pool_timeout, release_conn, chunked, body_pos, **response_kw)\u001b[0m\n\u001b[1;32m    874\u001b[0m \u001b[0;34m\u001b[0m\u001b[0m\n\u001b[1;32m    875\u001b[0m             \u001b[0mresponse\u001b[0m\u001b[0;34m.\u001b[0m\u001b[0mdrain_conn\u001b[0m\u001b[0;34m(\u001b[0m\u001b[0;34m)\u001b[0m\u001b[0;34m\u001b[0m\u001b[0;34m\u001b[0m\u001b[0m\n\u001b[0;32m--> 876\u001b[0;31m             \u001b[0mretries\u001b[0m\u001b[0;34m.\u001b[0m\u001b[0msleep\u001b[0m\u001b[0;34m(\u001b[0m\u001b[0mresponse\u001b[0m\u001b[0;34m)\u001b[0m\u001b[0;34m\u001b[0m\u001b[0;34m\u001b[0m\u001b[0m\n\u001b[0m\u001b[1;32m    877\u001b[0m             \u001b[0mlog\u001b[0m\u001b[0;34m.\u001b[0m\u001b[0mdebug\u001b[0m\u001b[0;34m(\u001b[0m\u001b[0;34m\"Retry: %s\"\u001b[0m\u001b[0;34m,\u001b[0m \u001b[0murl\u001b[0m\u001b[0;34m)\u001b[0m\u001b[0;34m\u001b[0m\u001b[0;34m\u001b[0m\u001b[0m\n\u001b[1;32m    878\u001b[0m             return self.urlopen(\n",
      "\u001b[0;32m/usr/local/lib/python3.7/dist-packages/urllib3/util/retry.py\u001b[0m in \u001b[0;36msleep\u001b[0;34m(self, response)\u001b[0m\n\u001b[1;32m    426\u001b[0m \u001b[0;34m\u001b[0m\u001b[0m\n\u001b[1;32m    427\u001b[0m         \u001b[0;32mif\u001b[0m \u001b[0mself\u001b[0m\u001b[0;34m.\u001b[0m\u001b[0mrespect_retry_after_header\u001b[0m \u001b[0;32mand\u001b[0m \u001b[0mresponse\u001b[0m\u001b[0;34m:\u001b[0m\u001b[0;34m\u001b[0m\u001b[0;34m\u001b[0m\u001b[0m\n\u001b[0;32m--> 428\u001b[0;31m             \u001b[0mslept\u001b[0m \u001b[0;34m=\u001b[0m \u001b[0mself\u001b[0m\u001b[0;34m.\u001b[0m\u001b[0msleep_for_retry\u001b[0m\u001b[0;34m(\u001b[0m\u001b[0mresponse\u001b[0m\u001b[0;34m)\u001b[0m\u001b[0;34m\u001b[0m\u001b[0;34m\u001b[0m\u001b[0m\n\u001b[0m\u001b[1;32m    429\u001b[0m             \u001b[0;32mif\u001b[0m \u001b[0mslept\u001b[0m\u001b[0;34m:\u001b[0m\u001b[0;34m\u001b[0m\u001b[0;34m\u001b[0m\u001b[0m\n\u001b[1;32m    430\u001b[0m                 \u001b[0;32mreturn\u001b[0m\u001b[0;34m\u001b[0m\u001b[0;34m\u001b[0m\u001b[0m\n",
      "\u001b[0;32m/usr/local/lib/python3.7/dist-packages/urllib3/util/retry.py\u001b[0m in \u001b[0;36msleep_for_retry\u001b[0;34m(self, response)\u001b[0m\n\u001b[1;32m    405\u001b[0m         \u001b[0mretry_after\u001b[0m \u001b[0;34m=\u001b[0m \u001b[0mself\u001b[0m\u001b[0;34m.\u001b[0m\u001b[0mget_retry_after\u001b[0m\u001b[0;34m(\u001b[0m\u001b[0mresponse\u001b[0m\u001b[0;34m)\u001b[0m\u001b[0;34m\u001b[0m\u001b[0;34m\u001b[0m\u001b[0m\n\u001b[1;32m    406\u001b[0m         \u001b[0;32mif\u001b[0m \u001b[0mretry_after\u001b[0m\u001b[0;34m:\u001b[0m\u001b[0;34m\u001b[0m\u001b[0;34m\u001b[0m\u001b[0m\n\u001b[0;32m--> 407\u001b[0;31m             \u001b[0mtime\u001b[0m\u001b[0;34m.\u001b[0m\u001b[0msleep\u001b[0m\u001b[0;34m(\u001b[0m\u001b[0mretry_after\u001b[0m\u001b[0;34m)\u001b[0m\u001b[0;34m\u001b[0m\u001b[0;34m\u001b[0m\u001b[0m\n\u001b[0m\u001b[1;32m    408\u001b[0m             \u001b[0;32mreturn\u001b[0m \u001b[0;32mTrue\u001b[0m\u001b[0;34m\u001b[0m\u001b[0;34m\u001b[0m\u001b[0m\n\u001b[1;32m    409\u001b[0m \u001b[0;34m\u001b[0m\u001b[0m\n",
      "\u001b[0;31mKeyboardInterrupt\u001b[0m: "
     ]
    }
   ],
   "source": [
    "p=get_tracks()"
   ]
  },
  {
   "cell_type": "code",
   "execution_count": null,
   "id": "cj0kIKmI1eS0",
   "metadata": {
    "id": "cj0kIKmI1eS0"
   },
   "outputs": [],
   "source": []
  },
  {
   "cell_type": "code",
   "execution_count": null,
   "id": "4q5Owbhoijxy",
   "metadata": {
    "id": "4q5Owbhoijxy"
   },
   "outputs": [],
   "source": [
    "track={'track_name':[],\n",
    "       'acousticness':[],\n",
    "       'danceability':[],\n",
    "       'duration_ms':[],\n",
    "       'energy':[],\n",
    "       'id':[],\n",
    "       'key':[],\n",
    "       'mode':[],\n",
    "       'liveness':[],\n",
    "       'loudness':[],\n",
    "       'speechiness':[],\n",
    "       'time_signature':[],\n",
    "       'uri':[],\n",
    "       'valence':[]\n",
    "}\n",
    "\n",
    "for i in range(0,len(p_dict)):\n",
    "  track['track_name'].append(p_dict[i][0])\n",
    "  track['acousticness'].append(p_dict[i][1][0]['acousticness'])\n",
    "  track['danceability'].append(p_dict[i][1][0]['danceability'])\n",
    "  track['duration_ms'].append(p_dict[i][1][0]['duration_ms'])\n",
    "  track['energy'].append(p_dict[i][1][0]['energy'])\n",
    "\n",
    "  track['id'].append(p_dict[i][1][0]['id'])\n",
    "  track['key'].append(p_dict[i][1][0]['key'])\n",
    "  track['mode'].append(p_dict[i][1][0]['mode'])\n",
    "\n",
    "  track['liveness'].append(p_dict[i][1][0]['liveness'])\n",
    "  track['loudness'].append(p_dict[i][1][0]['loudness'])\n",
    "  track['speechiness'].append(p_dict[i][1][0]['speechiness'])\n",
    "  track['time_signature'].append(p_dict[i][1][0]['time_signature'])\n",
    "  track['uri'].append(p_dict[i][1][0]['uri'])\n",
    "  track['valence'].append(p_dict[i][1][0]['valence'])\n",
    "\n",
    "\n",
    "\n",
    "  \n"
   ]
  },
  {
   "cell_type": "code",
   "execution_count": null,
   "id": "lzOXX8E5ijo3",
   "metadata": {
    "id": "lzOXX8E5ijo3"
   },
   "outputs": [],
   "source": [
    "df_pl=pd.DataFrame(track)"
   ]
  },
  {
   "cell_type": "code",
   "execution_count": null,
   "id": "WCNReuRl0DP_",
   "metadata": {
    "colab": {
     "base_uri": "https://localhost:8080/"
    },
    "executionInfo": {
     "elapsed": 308,
     "status": "ok",
     "timestamp": 1660236613662,
     "user": {
      "displayName": "olivia han",
      "userId": "16453021985307431611"
     },
     "user_tz": 420
    },
    "id": "WCNReuRl0DP_",
    "outputId": "6b88f5a9-47f7-49d2-f66c-0457df82019f"
   },
   "outputs": [
    {
     "data": {
      "text/plain": [
       "0                                           Girl Crush\n",
       "1     I Don’t Wanna Live Forever (Fifty Shades Darker)\n",
       "2                             I Wanna Know (feat. 蔡依林)\n",
       "3                                                  小幸運\n",
       "4                                               寂寞寂寞就好\n",
       "5                          Stay With Me - Instrumental\n",
       "6                                         Stay With Me\n",
       "7                                      Round And Round\n",
       "8                                 Can't Stand The Rain\n",
       "9                                    The Morning After\n",
       "10                                            Sad Eyes\n",
       "11                                     Training Wheels\n",
       "12                                                    \n",
       "13                                              Driver\n",
       "14                                         Eyes Closed\n",
       "15                                      Sweet Creature\n",
       "16                          Issues - Alan Walker Remix\n",
       "17                                            Adelaide\n",
       "18                       Monster - Semothy Jones Remix\n",
       "19                                            Big Eyes\n",
       "20                                              Malibu\n",
       "21                                    Careless Whisper\n",
       "22                                    She Went Quietly\n",
       "23                                        Reminding Me\n",
       "24                            Stay (with Alessia Cara)\n",
       "25                                              Issues\n",
       "26                                  How To Save A Life\n",
       "27                                              O.D.D.\n",
       "28                            Something Just Like This\n",
       "29                                 Sound Of Your Heart\n",
       "30                                              Hoodie\n",
       "31                                     Say You Love Me\n",
       "32                                     Je vais t'aimer\n",
       "33                                              Jour 1\n",
       "34                                 Avenir - Radio Edit\n",
       "35                                              Avenir\n",
       "36                                         En chantant\n",
       "37                                         她扔了根火柴 - 國語\n",
       "38                                          如同悲傷被下載了兩次\n",
       "39                                            你被寫在我的歌裡\n",
       "40                            Alarm - Acoustic Version\n",
       "Name: track_name, dtype: object"
      ]
     },
     "execution_count": 105,
     "metadata": {},
     "output_type": "execute_result"
    }
   ],
   "source": [
    "df_pl.track_name"
   ]
  },
  {
   "cell_type": "code",
   "execution_count": null,
   "id": "K6gU25vIz1z0",
   "metadata": {
    "id": "K6gU25vIz1z0"
   },
   "outputs": [],
   "source": [
    "save=['Girl Crush','Say You Love Me','Something Just Like This','Training Wheels',\n",
    "      'I Don’t Wanna Live Forever (Fifty Shades Darker)','Issues - Alan Walker Remix',\n",
    "      'The Morning After']"
   ]
  },
  {
   "cell_type": "code",
   "execution_count": null,
   "id": "dTn7EWrrzrVS",
   "metadata": {
    "id": "dTn7EWrrzrVS"
   },
   "outputs": [],
   "source": [
    "df_pl=df_pl[df_pl['track_name'].isin(save)]"
   ]
  },
  {
   "cell_type": "code",
   "execution_count": null,
   "id": "agVk0pNo1uc6",
   "metadata": {
    "colab": {
     "base_uri": "https://localhost:8080/"
    },
    "executionInfo": {
     "elapsed": 307,
     "status": "ok",
     "timestamp": 1660237049577,
     "user": {
      "displayName": "olivia han",
      "userId": "16453021985307431611"
     },
     "user_tz": 420
    },
    "id": "agVk0pNo1uc6",
    "outputId": "5a51445c-b09c-45d2-d68d-9d58327d4525"
   },
   "outputs": [
    {
     "data": {
      "text/plain": [
       "('Girl Crush',\n",
       " [{'acousticness': 0.842,\n",
       "   'analysis_url': 'https://api.spotify.com/v1/audio-analysis/11qh54D0PKkBwelpDxxiEU',\n",
       "   'danceability': 0.5,\n",
       "   'duration_ms': 193320,\n",
       "   'energy': 0.225,\n",
       "   'id': '11qh54D0PKkBwelpDxxiEU',\n",
       "   'instrumentalness': 0,\n",
       "   'key': 0,\n",
       "   'liveness': 0.112,\n",
       "   'loudness': -10.22,\n",
       "   'mode': 1,\n",
       "   'speechiness': 0.0302,\n",
       "   'tempo': 173.788,\n",
       "   'time_signature': 3,\n",
       "   'track_href': 'https://api.spotify.com/v1/tracks/11qh54D0PKkBwelpDxxiEU',\n",
       "   'type': 'audio_features',\n",
       "   'uri': 'spotify:track:11qh54D0PKkBwelpDxxiEU',\n",
       "   'valence': 0.355}])"
      ]
     },
     "execution_count": 120,
     "metadata": {},
     "output_type": "execute_result"
    }
   ],
   "source": [
    "p[0]"
   ]
  },
  {
   "cell_type": "code",
   "execution_count": null,
   "id": "dY5YCCk812X6",
   "metadata": {
    "id": "dY5YCCk812X6"
   },
   "outputs": [],
   "source": [
    "# artist=['Little Big Town','ZAYN''Meg Myers]"
   ]
  },
  {
   "cell_type": "code",
   "execution_count": null,
   "id": "G47EsxdK2HcQ",
   "metadata": {
    "id": "G47EsxdK2HcQ"
   },
   "outputs": [],
   "source": [
    "release_year=[,,2014]"
   ]
  },
  {
   "cell_type": "code",
   "execution_count": null,
   "id": "gDNNpbQ65Itx",
   "metadata": {
    "id": "gDNNpbQ65Itx"
   },
   "outputs": [],
   "source": []
  },
  {
   "cell_type": "code",
   "execution_count": null,
   "id": "8c129nEhxY8v",
   "metadata": {
    "colab": {
     "base_uri": "https://localhost:8080/",
     "height": 524
    },
    "executionInfo": {
     "elapsed": 302,
     "status": "ok",
     "timestamp": 1660237044052,
     "user": {
      "displayName": "olivia han",
      "userId": "16453021985307431611"
     },
     "user_tz": 420
    },
    "id": "8c129nEhxY8v",
    "outputId": "90db2989-7973-4ebe-9d27-5d3e3899aa43"
   },
   "outputs": [
    {
     "data": {
      "text/html": [
       "\n",
       "  <div id=\"df-c8c6c6ac-c1ce-4a9a-a5ee-627111dadd66\">\n",
       "    <div class=\"colab-df-container\">\n",
       "      <div>\n",
       "<style scoped>\n",
       "    .dataframe tbody tr th:only-of-type {\n",
       "        vertical-align: middle;\n",
       "    }\n",
       "\n",
       "    .dataframe tbody tr th {\n",
       "        vertical-align: top;\n",
       "    }\n",
       "\n",
       "    .dataframe thead th {\n",
       "        text-align: right;\n",
       "    }\n",
       "</style>\n",
       "<table border=\"1\" class=\"dataframe\">\n",
       "  <thead>\n",
       "    <tr style=\"text-align: right;\">\n",
       "      <th></th>\n",
       "      <th>track_name</th>\n",
       "      <th>acousticness</th>\n",
       "      <th>danceability</th>\n",
       "      <th>duration_ms</th>\n",
       "      <th>energy</th>\n",
       "      <th>id</th>\n",
       "      <th>key</th>\n",
       "      <th>mode</th>\n",
       "      <th>liveness</th>\n",
       "      <th>loudness</th>\n",
       "      <th>speechiness</th>\n",
       "      <th>time_signature</th>\n",
       "      <th>uri</th>\n",
       "      <th>valence</th>\n",
       "    </tr>\n",
       "  </thead>\n",
       "  <tbody>\n",
       "    <tr>\n",
       "      <th>0</th>\n",
       "      <td>Girl Crush</td>\n",
       "      <td>0.8420</td>\n",
       "      <td>0.500</td>\n",
       "      <td>193320</td>\n",
       "      <td>0.225</td>\n",
       "      <td>11qh54D0PKkBwelpDxxiEU</td>\n",
       "      <td>0</td>\n",
       "      <td>1</td>\n",
       "      <td>0.1120</td>\n",
       "      <td>-10.220</td>\n",
       "      <td>0.0302</td>\n",
       "      <td>3</td>\n",
       "      <td>spotify:track:11qh54D0PKkBwelpDxxiEU</td>\n",
       "      <td>0.3550</td>\n",
       "    </tr>\n",
       "    <tr>\n",
       "      <th>1</th>\n",
       "      <td>I Don’t Wanna Live Forever (Fifty Shades Darker)</td>\n",
       "      <td>0.0631</td>\n",
       "      <td>0.735</td>\n",
       "      <td>245200</td>\n",
       "      <td>0.451</td>\n",
       "      <td>6yIdwnpDHufLWgQcveTPMk</td>\n",
       "      <td>0</td>\n",
       "      <td>1</td>\n",
       "      <td>0.3250</td>\n",
       "      <td>-8.374</td>\n",
       "      <td>0.0585</td>\n",
       "      <td>4</td>\n",
       "      <td>spotify:track:6yIdwnpDHufLWgQcveTPMk</td>\n",
       "      <td>0.0862</td>\n",
       "    </tr>\n",
       "    <tr>\n",
       "      <th>9</th>\n",
       "      <td>The Morning After</td>\n",
       "      <td>0.8890</td>\n",
       "      <td>0.684</td>\n",
       "      <td>201987</td>\n",
       "      <td>0.201</td>\n",
       "      <td>3iKsDytbF5RtTPIiGEWY4G</td>\n",
       "      <td>9</td>\n",
       "      <td>0</td>\n",
       "      <td>0.1170</td>\n",
       "      <td>-11.731</td>\n",
       "      <td>0.0356</td>\n",
       "      <td>4</td>\n",
       "      <td>spotify:track:3iKsDytbF5RtTPIiGEWY4G</td>\n",
       "      <td>0.1990</td>\n",
       "    </tr>\n",
       "    <tr>\n",
       "      <th>11</th>\n",
       "      <td>Training Wheels</td>\n",
       "      <td>0.6970</td>\n",
       "      <td>0.571</td>\n",
       "      <td>205680</td>\n",
       "      <td>0.481</td>\n",
       "      <td>3EGW6TGGbdk6Ys1Y3HU3lj</td>\n",
       "      <td>9</td>\n",
       "      <td>1</td>\n",
       "      <td>0.0890</td>\n",
       "      <td>-7.179</td>\n",
       "      <td>0.0444</td>\n",
       "      <td>4</td>\n",
       "      <td>spotify:track:3EGW6TGGbdk6Ys1Y3HU3lj</td>\n",
       "      <td>0.0807</td>\n",
       "    </tr>\n",
       "    <tr>\n",
       "      <th>16</th>\n",
       "      <td>Issues - Alan Walker Remix</td>\n",
       "      <td>0.1420</td>\n",
       "      <td>0.752</td>\n",
       "      <td>181000</td>\n",
       "      <td>0.774</td>\n",
       "      <td>3abKAw6reL2U3vhAe98ZsY</td>\n",
       "      <td>8</td>\n",
       "      <td>1</td>\n",
       "      <td>0.0993</td>\n",
       "      <td>-4.379</td>\n",
       "      <td>0.0532</td>\n",
       "      <td>4</td>\n",
       "      <td>spotify:track:3abKAw6reL2U3vhAe98ZsY</td>\n",
       "      <td>0.6250</td>\n",
       "    </tr>\n",
       "    <tr>\n",
       "      <th>28</th>\n",
       "      <td>Something Just Like This</td>\n",
       "      <td>0.0498</td>\n",
       "      <td>0.617</td>\n",
       "      <td>247160</td>\n",
       "      <td>0.635</td>\n",
       "      <td>6RUKPb4LETWmmr3iAEQktW</td>\n",
       "      <td>11</td>\n",
       "      <td>0</td>\n",
       "      <td>0.1640</td>\n",
       "      <td>-6.769</td>\n",
       "      <td>0.0317</td>\n",
       "      <td>4</td>\n",
       "      <td>spotify:track:6RUKPb4LETWmmr3iAEQktW</td>\n",
       "      <td>0.4460</td>\n",
       "    </tr>\n",
       "    <tr>\n",
       "      <th>31</th>\n",
       "      <td>Say You Love Me</td>\n",
       "      <td>0.1620</td>\n",
       "      <td>0.387</td>\n",
       "      <td>257484</td>\n",
       "      <td>0.413</td>\n",
       "      <td>2hcPE11xSLCNHt5PYidj5U</td>\n",
       "      <td>7</td>\n",
       "      <td>1</td>\n",
       "      <td>0.2620</td>\n",
       "      <td>-8.950</td>\n",
       "      <td>0.0559</td>\n",
       "      <td>3</td>\n",
       "      <td>spotify:track:2hcPE11xSLCNHt5PYidj5U</td>\n",
       "      <td>0.2490</td>\n",
       "    </tr>\n",
       "  </tbody>\n",
       "</table>\n",
       "</div>\n",
       "      <button class=\"colab-df-convert\" onclick=\"convertToInteractive('df-c8c6c6ac-c1ce-4a9a-a5ee-627111dadd66')\"\n",
       "              title=\"Convert this dataframe to an interactive table.\"\n",
       "              style=\"display:none;\">\n",
       "        \n",
       "  <svg xmlns=\"http://www.w3.org/2000/svg\" height=\"24px\"viewBox=\"0 0 24 24\"\n",
       "       width=\"24px\">\n",
       "    <path d=\"M0 0h24v24H0V0z\" fill=\"none\"/>\n",
       "    <path d=\"M18.56 5.44l.94 2.06.94-2.06 2.06-.94-2.06-.94-.94-2.06-.94 2.06-2.06.94zm-11 1L8.5 8.5l.94-2.06 2.06-.94-2.06-.94L8.5 2.5l-.94 2.06-2.06.94zm10 10l.94 2.06.94-2.06 2.06-.94-2.06-.94-.94-2.06-.94 2.06-2.06.94z\"/><path d=\"M17.41 7.96l-1.37-1.37c-.4-.4-.92-.59-1.43-.59-.52 0-1.04.2-1.43.59L10.3 9.45l-7.72 7.72c-.78.78-.78 2.05 0 2.83L4 21.41c.39.39.9.59 1.41.59.51 0 1.02-.2 1.41-.59l7.78-7.78 2.81-2.81c.8-.78.8-2.07 0-2.86zM5.41 20L4 18.59l7.72-7.72 1.47 1.35L5.41 20z\"/>\n",
       "  </svg>\n",
       "      </button>\n",
       "      \n",
       "  <style>\n",
       "    .colab-df-container {\n",
       "      display:flex;\n",
       "      flex-wrap:wrap;\n",
       "      gap: 12px;\n",
       "    }\n",
       "\n",
       "    .colab-df-convert {\n",
       "      background-color: #E8F0FE;\n",
       "      border: none;\n",
       "      border-radius: 50%;\n",
       "      cursor: pointer;\n",
       "      display: none;\n",
       "      fill: #1967D2;\n",
       "      height: 32px;\n",
       "      padding: 0 0 0 0;\n",
       "      width: 32px;\n",
       "    }\n",
       "\n",
       "    .colab-df-convert:hover {\n",
       "      background-color: #E2EBFA;\n",
       "      box-shadow: 0px 1px 2px rgba(60, 64, 67, 0.3), 0px 1px 3px 1px rgba(60, 64, 67, 0.15);\n",
       "      fill: #174EA6;\n",
       "    }\n",
       "\n",
       "    [theme=dark] .colab-df-convert {\n",
       "      background-color: #3B4455;\n",
       "      fill: #D2E3FC;\n",
       "    }\n",
       "\n",
       "    [theme=dark] .colab-df-convert:hover {\n",
       "      background-color: #434B5C;\n",
       "      box-shadow: 0px 1px 3px 1px rgba(0, 0, 0, 0.15);\n",
       "      filter: drop-shadow(0px 1px 2px rgba(0, 0, 0, 0.3));\n",
       "      fill: #FFFFFF;\n",
       "    }\n",
       "  </style>\n",
       "\n",
       "      <script>\n",
       "        const buttonEl =\n",
       "          document.querySelector('#df-c8c6c6ac-c1ce-4a9a-a5ee-627111dadd66 button.colab-df-convert');\n",
       "        buttonEl.style.display =\n",
       "          google.colab.kernel.accessAllowed ? 'block' : 'none';\n",
       "\n",
       "        async function convertToInteractive(key) {\n",
       "          const element = document.querySelector('#df-c8c6c6ac-c1ce-4a9a-a5ee-627111dadd66');\n",
       "          const dataTable =\n",
       "            await google.colab.kernel.invokeFunction('convertToInteractive',\n",
       "                                                     [key], {});\n",
       "          if (!dataTable) return;\n",
       "\n",
       "          const docLinkHtml = 'Like what you see? Visit the ' +\n",
       "            '<a target=\"_blank\" href=https://colab.research.google.com/notebooks/data_table.ipynb>data table notebook</a>'\n",
       "            + ' to learn more about interactive tables.';\n",
       "          element.innerHTML = '';\n",
       "          dataTable['output_type'] = 'display_data';\n",
       "          await google.colab.output.renderOutput(dataTable, element);\n",
       "          const docLink = document.createElement('div');\n",
       "          docLink.innerHTML = docLinkHtml;\n",
       "          element.appendChild(docLink);\n",
       "        }\n",
       "      </script>\n",
       "    </div>\n",
       "  </div>\n",
       "  "
      ],
      "text/plain": [
       "                                          track_name  acousticness  \\\n",
       "0                                         Girl Crush        0.8420   \n",
       "1   I Don’t Wanna Live Forever (Fifty Shades Darker)        0.0631   \n",
       "9                                  The Morning After        0.8890   \n",
       "11                                   Training Wheels        0.6970   \n",
       "16                        Issues - Alan Walker Remix        0.1420   \n",
       "28                          Something Just Like This        0.0498   \n",
       "31                                   Say You Love Me        0.1620   \n",
       "\n",
       "    danceability  duration_ms  energy                      id  key  mode  \\\n",
       "0          0.500       193320   0.225  11qh54D0PKkBwelpDxxiEU    0     1   \n",
       "1          0.735       245200   0.451  6yIdwnpDHufLWgQcveTPMk    0     1   \n",
       "9          0.684       201987   0.201  3iKsDytbF5RtTPIiGEWY4G    9     0   \n",
       "11         0.571       205680   0.481  3EGW6TGGbdk6Ys1Y3HU3lj    9     1   \n",
       "16         0.752       181000   0.774  3abKAw6reL2U3vhAe98ZsY    8     1   \n",
       "28         0.617       247160   0.635  6RUKPb4LETWmmr3iAEQktW   11     0   \n",
       "31         0.387       257484   0.413  2hcPE11xSLCNHt5PYidj5U    7     1   \n",
       "\n",
       "    liveness  loudness  speechiness  time_signature  \\\n",
       "0     0.1120   -10.220       0.0302               3   \n",
       "1     0.3250    -8.374       0.0585               4   \n",
       "9     0.1170   -11.731       0.0356               4   \n",
       "11    0.0890    -7.179       0.0444               4   \n",
       "16    0.0993    -4.379       0.0532               4   \n",
       "28    0.1640    -6.769       0.0317               4   \n",
       "31    0.2620    -8.950       0.0559               3   \n",
       "\n",
       "                                     uri  valence  \n",
       "0   spotify:track:11qh54D0PKkBwelpDxxiEU   0.3550  \n",
       "1   spotify:track:6yIdwnpDHufLWgQcveTPMk   0.0862  \n",
       "9   spotify:track:3iKsDytbF5RtTPIiGEWY4G   0.1990  \n",
       "11  spotify:track:3EGW6TGGbdk6Ys1Y3HU3lj   0.0807  \n",
       "16  spotify:track:3abKAw6reL2U3vhAe98ZsY   0.6250  \n",
       "28  spotify:track:6RUKPb4LETWmmr3iAEQktW   0.4460  \n",
       "31  spotify:track:2hcPE11xSLCNHt5PYidj5U   0.2490  "
      ]
     },
     "execution_count": 119,
     "metadata": {},
     "output_type": "execute_result"
    }
   ],
   "source": [
    "df_pl['artist']"
   ]
  },
  {
   "cell_type": "code",
   "execution_count": null,
   "id": "uUYEElG6ijlk",
   "metadata": {
    "id": "uUYEElG6ijlk"
   },
   "outputs": [],
   "source": [
    "save=['Girl Crush','Say You Love Me','Something Just Like This','Training Wheels',\n",
    "      'I Don’t Wanna Live Forever (Fifty Shades Darker)']\n",
    "id=['11qh54D0PKkBwelpDxxiEU',  '6yIdwnpDHufLWgQcveTPMk', '3iKsDytbF5RtTPIiGEWY4G','3EGW6TGGbdk6Ys1Y3HU3lj','3abKAw6reL2U3vhAe98ZsY']"
   ]
  },
  {
   "cell_type": "code",
   "execution_count": null,
   "id": "9le4T-s1B822",
   "metadata": {
    "id": "9le4T-s1B822"
   },
   "outputs": [],
   "source": []
  },
  {
   "cell_type": "code",
   "execution_count": null,
   "id": "JWrb-egw5DzG",
   "metadata": {
    "id": "JWrb-egw5DzG"
   },
   "outputs": [],
   "source": [
    "acousticness=[0.8420,0.0631, 0.8890, 0.6970, 0.1420]\n",
    "danceability=[0.5,0.735,0.684,0.571,0.752]\n",
    "duration_ms=[193320, 245200,201987,205680,181000]\n",
    "energy=[0.225,0.451,0.201,0.481,0.774]\n",
    "key=[0,0,9,9,8]\n",
    "mode=[1,1,0,1,1]\n",
    "liveness=[0.1120,0.325,0.117,0.089,0.0993]\n",
    "loudness=[-10.22,-8.374,-11.731,-7.179,-4.379]\n",
    "speechiness=[0.0302,0.0585,0.0356,0.0444,0.0532]\n",
    "valence=[0.355,0.0862,0.19900,0.0807,0.625]"
   ]
  },
  {
   "cell_type": "code",
   "execution_count": null,
   "id": "x2K6O4hX6jFD",
   "metadata": {
    "id": "x2K6O4hX6jFD"
   },
   "outputs": [],
   "source": [
    "import pandas as pd"
   ]
  },
  {
   "cell_type": "code",
   "execution_count": null,
   "id": "Esq5tjJ2gLhj",
   "metadata": {
    "id": "Esq5tjJ2gLhj"
   },
   "outputs": [],
   "source": []
  },
  {
   "cell_type": "code",
   "execution_count": null,
   "id": "pIBkcgT43vla",
   "metadata": {
    "id": "pIBkcgT43vla"
   },
   "outputs": [],
   "source": [
    "# pd.DataFrame([save, id, acousticness,danceability,duration_ms,\n",
    "#             energy,key,mode,liveness,loudness,speechiness,valence],\n",
    "              \n",
    "#               columns=['trck_name','id','acousticness','danceability','duration_ms',\n",
    "#               'energy','key','mode','liveness','loudness','speechiness','valence'])"
   ]
  },
  {
   "cell_type": "code",
   "execution_count": null,
   "id": "fE7ZZIsz6lj5",
   "metadata": {
    "id": "fE7ZZIsz6lj5"
   },
   "outputs": [],
   "source": [
    "df_playlist['trck_name']=save\n",
    "df_playlist['id']=id\n",
    "\n",
    "df_playlist['acousticness']=acousticness\n",
    "df_playlist['danceability']=danceability\n",
    "df_playlist['key']=key\n",
    "df_playlist['mode']=mode\n",
    "df_playlist['duration_ms']=duration_ms\n",
    "df_playlist['energy']=energy\n",
    "df_playlist['liveness']=liveness\n",
    "df_playlist['loudness']=loudness\n",
    "df_playlist['speechiness']=speechiness\n",
    "df_playlist['valence']=valence\n",
    "df_playlist['popularity']=pop\n",
    "df_playlist['release_year']=year\n",
    "df_playlist['genre']=genre\n",
    "\n"
   ]
  },
  {
   "cell_type": "code",
   "execution_count": null,
   "id": "5brEoXqBDQ62",
   "metadata": {
    "colab": {
     "base_uri": "https://localhost:8080/",
     "height": 444
    },
    "executionInfo": {
     "elapsed": 6,
     "status": "ok",
     "timestamp": 1660240655851,
     "user": {
      "displayName": "olivia han",
      "userId": "16453021985307431611"
     },
     "user_tz": 420
    },
    "id": "5brEoXqBDQ62",
    "outputId": "56b9bf52-f28d-4bb9-9a0e-b8e90d34da7d"
   },
   "outputs": [
    {
     "data": {
      "text/html": [
       "\n",
       "  <div id=\"df-b57f9738-9ea4-44c4-894b-724e24d81228\">\n",
       "    <div class=\"colab-df-container\">\n",
       "      <div>\n",
       "<style scoped>\n",
       "    .dataframe tbody tr th:only-of-type {\n",
       "        vertical-align: middle;\n",
       "    }\n",
       "\n",
       "    .dataframe tbody tr th {\n",
       "        vertical-align: top;\n",
       "    }\n",
       "\n",
       "    .dataframe thead th {\n",
       "        text-align: right;\n",
       "    }\n",
       "</style>\n",
       "<table border=\"1\" class=\"dataframe\">\n",
       "  <thead>\n",
       "    <tr style=\"text-align: right;\">\n",
       "      <th></th>\n",
       "      <th>trck_name</th>\n",
       "      <th>id</th>\n",
       "      <th>acousticness</th>\n",
       "      <th>danceability</th>\n",
       "      <th>duration_ms</th>\n",
       "      <th>energy</th>\n",
       "      <th>key</th>\n",
       "      <th>mode</th>\n",
       "      <th>liveness</th>\n",
       "      <th>loudness</th>\n",
       "      <th>speechiness</th>\n",
       "      <th>valence</th>\n",
       "      <th>artist</th>\n",
       "      <th>popularity</th>\n",
       "      <th>release_year</th>\n",
       "      <th>genre</th>\n",
       "    </tr>\n",
       "  </thead>\n",
       "  <tbody>\n",
       "    <tr>\n",
       "      <th>0</th>\n",
       "      <td>Girl Crush</td>\n",
       "      <td>11qh54D0PKkBwelpDxxiEU</td>\n",
       "      <td>0.8420</td>\n",
       "      <td>0.500</td>\n",
       "      <td>193320</td>\n",
       "      <td>0.225</td>\n",
       "      <td>0</td>\n",
       "      <td>1</td>\n",
       "      <td>0.1120</td>\n",
       "      <td>-10.220</td>\n",
       "      <td>0.0302</td>\n",
       "      <td>0.3550</td>\n",
       "      <td>Little Big Town</td>\n",
       "      <td>69</td>\n",
       "      <td>2014</td>\n",
       "      <td>country</td>\n",
       "    </tr>\n",
       "    <tr>\n",
       "      <th>1</th>\n",
       "      <td>Say You Love Me</td>\n",
       "      <td>6yIdwnpDHufLWgQcveTPMk</td>\n",
       "      <td>0.0631</td>\n",
       "      <td>0.735</td>\n",
       "      <td>245200</td>\n",
       "      <td>0.451</td>\n",
       "      <td>0</td>\n",
       "      <td>1</td>\n",
       "      <td>0.3250</td>\n",
       "      <td>-8.374</td>\n",
       "      <td>0.0585</td>\n",
       "      <td>0.0862</td>\n",
       "      <td>ZAYN</td>\n",
       "      <td>0</td>\n",
       "      <td>2016</td>\n",
       "      <td>pop</td>\n",
       "    </tr>\n",
       "    <tr>\n",
       "      <th>2</th>\n",
       "      <td>Something Just Like This</td>\n",
       "      <td>3iKsDytbF5RtTPIiGEWY4G</td>\n",
       "      <td>0.8890</td>\n",
       "      <td>0.684</td>\n",
       "      <td>201987</td>\n",
       "      <td>0.201</td>\n",
       "      <td>9</td>\n",
       "      <td>0</td>\n",
       "      <td>0.1170</td>\n",
       "      <td>-11.731</td>\n",
       "      <td>0.0356</td>\n",
       "      <td>0.1990</td>\n",
       "      <td>Coldplay</td>\n",
       "      <td>30</td>\n",
       "      <td>2014</td>\n",
       "      <td>edm</td>\n",
       "    </tr>\n",
       "    <tr>\n",
       "      <th>3</th>\n",
       "      <td>Training Wheels</td>\n",
       "      <td>3EGW6TGGbdk6Ys1Y3HU3lj</td>\n",
       "      <td>0.6970</td>\n",
       "      <td>0.571</td>\n",
       "      <td>205680</td>\n",
       "      <td>0.481</td>\n",
       "      <td>9</td>\n",
       "      <td>1</td>\n",
       "      <td>0.0890</td>\n",
       "      <td>-7.179</td>\n",
       "      <td>0.0444</td>\n",
       "      <td>0.0807</td>\n",
       "      <td>Melanie Martinez</td>\n",
       "      <td>75</td>\n",
       "      <td>2015</td>\n",
       "      <td>pop</td>\n",
       "    </tr>\n",
       "    <tr>\n",
       "      <th>4</th>\n",
       "      <td>I Don’t Wanna Live Forever (Fifty Shades Darker)</td>\n",
       "      <td>3abKAw6reL2U3vhAe98ZsY</td>\n",
       "      <td>0.1420</td>\n",
       "      <td>0.752</td>\n",
       "      <td>181000</td>\n",
       "      <td>0.774</td>\n",
       "      <td>8</td>\n",
       "      <td>1</td>\n",
       "      <td>0.0993</td>\n",
       "      <td>-4.379</td>\n",
       "      <td>0.0532</td>\n",
       "      <td>0.6250</td>\n",
       "      <td>Julia Michaels</td>\n",
       "      <td>53</td>\n",
       "      <td>2017</td>\n",
       "      <td>pop</td>\n",
       "    </tr>\n",
       "  </tbody>\n",
       "</table>\n",
       "</div>\n",
       "      <button class=\"colab-df-convert\" onclick=\"convertToInteractive('df-b57f9738-9ea4-44c4-894b-724e24d81228')\"\n",
       "              title=\"Convert this dataframe to an interactive table.\"\n",
       "              style=\"display:none;\">\n",
       "        \n",
       "  <svg xmlns=\"http://www.w3.org/2000/svg\" height=\"24px\"viewBox=\"0 0 24 24\"\n",
       "       width=\"24px\">\n",
       "    <path d=\"M0 0h24v24H0V0z\" fill=\"none\"/>\n",
       "    <path d=\"M18.56 5.44l.94 2.06.94-2.06 2.06-.94-2.06-.94-.94-2.06-.94 2.06-2.06.94zm-11 1L8.5 8.5l.94-2.06 2.06-.94-2.06-.94L8.5 2.5l-.94 2.06-2.06.94zm10 10l.94 2.06.94-2.06 2.06-.94-2.06-.94-.94-2.06-.94 2.06-2.06.94z\"/><path d=\"M17.41 7.96l-1.37-1.37c-.4-.4-.92-.59-1.43-.59-.52 0-1.04.2-1.43.59L10.3 9.45l-7.72 7.72c-.78.78-.78 2.05 0 2.83L4 21.41c.39.39.9.59 1.41.59.51 0 1.02-.2 1.41-.59l7.78-7.78 2.81-2.81c.8-.78.8-2.07 0-2.86zM5.41 20L4 18.59l7.72-7.72 1.47 1.35L5.41 20z\"/>\n",
       "  </svg>\n",
       "      </button>\n",
       "      \n",
       "  <style>\n",
       "    .colab-df-container {\n",
       "      display:flex;\n",
       "      flex-wrap:wrap;\n",
       "      gap: 12px;\n",
       "    }\n",
       "\n",
       "    .colab-df-convert {\n",
       "      background-color: #E8F0FE;\n",
       "      border: none;\n",
       "      border-radius: 50%;\n",
       "      cursor: pointer;\n",
       "      display: none;\n",
       "      fill: #1967D2;\n",
       "      height: 32px;\n",
       "      padding: 0 0 0 0;\n",
       "      width: 32px;\n",
       "    }\n",
       "\n",
       "    .colab-df-convert:hover {\n",
       "      background-color: #E2EBFA;\n",
       "      box-shadow: 0px 1px 2px rgba(60, 64, 67, 0.3), 0px 1px 3px 1px rgba(60, 64, 67, 0.15);\n",
       "      fill: #174EA6;\n",
       "    }\n",
       "\n",
       "    [theme=dark] .colab-df-convert {\n",
       "      background-color: #3B4455;\n",
       "      fill: #D2E3FC;\n",
       "    }\n",
       "\n",
       "    [theme=dark] .colab-df-convert:hover {\n",
       "      background-color: #434B5C;\n",
       "      box-shadow: 0px 1px 3px 1px rgba(0, 0, 0, 0.15);\n",
       "      filter: drop-shadow(0px 1px 2px rgba(0, 0, 0, 0.3));\n",
       "      fill: #FFFFFF;\n",
       "    }\n",
       "  </style>\n",
       "\n",
       "      <script>\n",
       "        const buttonEl =\n",
       "          document.querySelector('#df-b57f9738-9ea4-44c4-894b-724e24d81228 button.colab-df-convert');\n",
       "        buttonEl.style.display =\n",
       "          google.colab.kernel.accessAllowed ? 'block' : 'none';\n",
       "\n",
       "        async function convertToInteractive(key) {\n",
       "          const element = document.querySelector('#df-b57f9738-9ea4-44c4-894b-724e24d81228');\n",
       "          const dataTable =\n",
       "            await google.colab.kernel.invokeFunction('convertToInteractive',\n",
       "                                                     [key], {});\n",
       "          if (!dataTable) return;\n",
       "\n",
       "          const docLinkHtml = 'Like what you see? Visit the ' +\n",
       "            '<a target=\"_blank\" href=https://colab.research.google.com/notebooks/data_table.ipynb>data table notebook</a>'\n",
       "            + ' to learn more about interactive tables.';\n",
       "          element.innerHTML = '';\n",
       "          dataTable['output_type'] = 'display_data';\n",
       "          await google.colab.output.renderOutput(dataTable, element);\n",
       "          const docLink = document.createElement('div');\n",
       "          docLink.innerHTML = docLinkHtml;\n",
       "          element.appendChild(docLink);\n",
       "        }\n",
       "      </script>\n",
       "    </div>\n",
       "  </div>\n",
       "  "
      ],
      "text/plain": [
       "                                          trck_name                      id  \\\n",
       "0                                        Girl Crush  11qh54D0PKkBwelpDxxiEU   \n",
       "1                                   Say You Love Me  6yIdwnpDHufLWgQcveTPMk   \n",
       "2                          Something Just Like This  3iKsDytbF5RtTPIiGEWY4G   \n",
       "3                                   Training Wheels  3EGW6TGGbdk6Ys1Y3HU3lj   \n",
       "4  I Don’t Wanna Live Forever (Fifty Shades Darker)  3abKAw6reL2U3vhAe98ZsY   \n",
       "\n",
       "   acousticness  danceability  duration_ms  energy  key  mode  liveness  \\\n",
       "0        0.8420         0.500       193320   0.225    0     1    0.1120   \n",
       "1        0.0631         0.735       245200   0.451    0     1    0.3250   \n",
       "2        0.8890         0.684       201987   0.201    9     0    0.1170   \n",
       "3        0.6970         0.571       205680   0.481    9     1    0.0890   \n",
       "4        0.1420         0.752       181000   0.774    8     1    0.0993   \n",
       "\n",
       "   loudness  speechiness  valence            artist  popularity  release_year  \\\n",
       "0   -10.220       0.0302   0.3550   Little Big Town          69          2014   \n",
       "1    -8.374       0.0585   0.0862              ZAYN           0          2016   \n",
       "2   -11.731       0.0356   0.1990          Coldplay          30          2014   \n",
       "3    -7.179       0.0444   0.0807  Melanie Martinez          75          2015   \n",
       "4    -4.379       0.0532   0.6250    Julia Michaels          53          2017   \n",
       "\n",
       "     genre  \n",
       "0  country  \n",
       "1      pop  \n",
       "2      edm  \n",
       "3      pop  \n",
       "4      pop  "
      ]
     },
     "execution_count": 81,
     "metadata": {},
     "output_type": "execute_result"
    }
   ],
   "source": [
    "df_playlist"
   ]
  },
  {
   "cell_type": "code",
   "execution_count": null,
   "id": "QxVrj6Vt8WpN",
   "metadata": {
    "id": "QxVrj6Vt8WpN"
   },
   "outputs": [],
   "source": [
    "artist=['Little Big Town','ZAYN','Coldplay','Melanie Martinez','Julia Michaels']"
   ]
  },
  {
   "cell_type": "code",
   "execution_count": null,
   "id": "ArhwR2dqxiWG",
   "metadata": {
    "id": "ArhwR2dqxiWG"
   },
   "outputs": [],
   "source": [
    "df_playlist.to_csv('playlist.csv')"
   ]
  },
  {
   "cell_type": "code",
   "execution_count": null,
   "id": "ANLboaG4_i0t",
   "metadata": {
    "id": "ANLboaG4_i0t"
   },
   "outputs": [],
   "source": [
    "id=['11qh54D0PKkBwelpDxxiEU', '6yIdwnpDHufLWgQcveTPMk', '3iKsDytbF5RtTPIiGEWY4G','3EGW6TGGbdk6Ys1Y3HU3lj','3abKAw6reL2U3vhAe98ZsY']"
   ]
  },
  {
   "cell_type": "code",
   "execution_count": null,
   "id": "vguMpGaHf2se",
   "metadata": {
    "id": "vguMpGaHf2se"
   },
   "outputs": [],
   "source": [
    "url=['https://i.scdn.co/image/ab67616d0000b273b241290f873c27bd45d09dd2',\n",
    "     'https://i.scdn.co/image/ab67616d0000b273030af18a6a1612a6b880b4ea',\n",
    "     \n",
    "     'https://i.scdn.co/image/ab67616d0000b27353d5d23162d628e13d8420f7',\n",
    "     'https://i.scdn.co/image/ab67616d0000b2733899712512f50a8d9e01e951',\n",
    "     'https://i.scdn.co/image/ab67616d0000b2734f2da18ec94ea56bcc36694b'\n",
    "     \n",
    "     ]"
   ]
  },
  {
   "cell_type": "code",
   "execution_count": null,
   "id": "Cp0AUmRXgOyw",
   "metadata": {
    "id": "Cp0AUmRXgOyw"
   },
   "outputs": [],
   "source": [
    "df_playlist['url']=url\n"
   ]
  },
  {
   "cell_type": "code",
   "execution_count": null,
   "id": "WQ_kcz4p_Mk_",
   "metadata": {
    "colab": {
     "base_uri": "https://localhost:8080/",
     "height": 35
    },
    "executionInfo": {
     "elapsed": 257,
     "status": "ok",
     "timestamp": 1660248160059,
     "user": {
      "displayName": "olivia han",
      "userId": "16453021985307431611"
     },
     "user_tz": 420
    },
    "id": "WQ_kcz4p_Mk_",
    "outputId": "8a9b5b73-af91-4003-ca7c-4d30dfdb1227"
   },
   "outputs": [
    {
     "data": {
      "application/vnd.google.colaboratory.intrinsic+json": {
       "type": "string"
      },
      "text/plain": [
       "'https://i.scdn.co/image/ab67616d0000b2734f2da18ec94ea56bcc36694b'"
      ]
     },
     "execution_count": 121,
     "metadata": {},
     "output_type": "execute_result"
    }
   ],
   "source": [
    "track_info = sp.track('3abKAw6reL2U3vhAe98ZsY')\n",
    "track_info['album']['images'][0]['url']"
   ]
  },
  {
   "cell_type": "code",
   "execution_count": null,
   "id": "dMSUcTsv_kBL",
   "metadata": {
    "id": "dMSUcTsv_kBL"
   },
   "outputs": [],
   "source": [
    "# pop=[69,0,30,75,53]"
   ]
  },
  {
   "cell_type": "code",
   "execution_count": null,
   "id": "qJuEVlyzCq2g",
   "metadata": {
    "id": "qJuEVlyzCq2g"
   },
   "outputs": [],
   "source": [
    "genre=['country','pop', 'edm','pop','pop']"
   ]
  },
  {
   "cell_type": "code",
   "execution_count": null,
   "id": "DwWOaZhDCCVe",
   "metadata": {
    "id": "DwWOaZhDCCVe"
   },
   "outputs": [],
   "source": [
    "year=[2014,2016,2014,2015,2017]"
   ]
  },
  {
   "cell_type": "code",
   "execution_count": null,
   "id": "m896y1sBxjcq",
   "metadata": {
    "colab": {
     "base_uri": "https://localhost:8080/",
     "height": 35
    },
    "executionInfo": {
     "elapsed": 5,
     "status": "ok",
     "timestamp": 1660240374458,
     "user": {
      "displayName": "olivia han",
      "userId": "16453021985307431611"
     },
     "user_tz": 420
    },
    "id": "m896y1sBxjcq",
    "outputId": "edc884fb-9397-4126-cd82-32ea359b635f"
   },
   "outputs": [
    {
     "data": {
      "application/vnd.google.colaboratory.intrinsic+json": {
       "type": "string"
      },
      "text/plain": [
       "'2016-12-09'"
      ]
     },
     "execution_count": 72,
     "metadata": {},
     "output_type": "execute_result"
    }
   ],
   "source": [
    "track_info['album']['release_date']"
   ]
  },
  {
   "cell_type": "markdown",
   "id": "wOC4ErY888WG",
   "metadata": {
    "id": "wOC4ErY888WG"
   },
   "source": [
    "## audio Feature"
   ]
  },
  {
   "cell_type": "code",
   "execution_count": null,
   "id": "S4Pf76_UmR2k",
   "metadata": {
    "id": "S4Pf76_UmR2k"
   },
   "outputs": [],
   "source": [
    "track={'track_name':[],\n",
    "       'acousticness':[],\n",
    "       'danceability':[],\n",
    "       'duration_ms':[],\n",
    "       'energy':[],\n",
    "       'id':[],\n",
    "       'key':[],\n",
    "       'mode':[],\n",
    "       'liveness':[],\n",
    "       'loudness':[],\n",
    "       'speechiness':[],\n",
    "       'time_signature':[],\n",
    "       'uri':[],\n",
    "       'valence':[]\n",
    "}\n",
    "\n",
    "for i in range(0,len(p_dict)):\n",
    "  track['track_name'].append(p_dict[i][0])\n",
    "  track['acousticness'].append(p_dict[i][1][0]['acousticness'])\n",
    "  track['danceability'].append(p_dict[i][1][0]['danceability'])\n",
    "  track['duration_ms'].append(p_dict[i][1][0]['duration_ms'])\n",
    "  track['energy'].append(p_dict[i][1][0]['energy'])\n",
    "\n",
    "  track['id'].append(p_dict[i][1][0]['id'])\n",
    "  track['key'].append(p_dict[i][1][0]['key'])\n",
    "  track['mode'].append(p_dict[i][1][0]['mode'])\n",
    "\n",
    "  track['liveness'].append(p_dict[i][1][0]['liveness'])\n",
    "  track['loudness'].append(p_dict[i][1][0]['loudness'])\n",
    "  track['speechiness'].append(p_dict[i][1][0]['speechiness'])\n",
    "  track['time_signature'].append(p_dict[i][1][0]['time_signature'])\n",
    "  track['uri'].append(p_dict[i][1][0]['uri'])\n",
    "  track['valence'].append(p_dict[i][1][0]['valence'])\n",
    "\n",
    "\n",
    "\n",
    "  \n"
   ]
  },
  {
   "cell_type": "code",
   "execution_count": null,
   "id": "ApxeV0X0mR0K",
   "metadata": {
    "id": "ApxeV0X0mR0K"
   },
   "outputs": [],
   "source": []
  },
  {
   "cell_type": "code",
   "execution_count": null,
   "id": "SgCSksLUmRwy",
   "metadata": {
    "id": "SgCSksLUmRwy"
   },
   "outputs": [],
   "source": []
  },
  {
   "cell_type": "code",
   "execution_count": null,
   "id": "t_hL01eOmRvH",
   "metadata": {
    "id": "t_hL01eOmRvH"
   },
   "outputs": [],
   "source": []
  },
  {
   "cell_type": "markdown",
   "id": "0d50b4d1-11ef-4bbb-b1eb-d08ca44b831b",
   "metadata": {
    "id": "9zf8nOcnlbk-"
   },
   "source": []
  },
  {
   "cell_type": "code",
   "execution_count": null,
   "id": "7c1b5cee",
   "metadata": {
    "id": "7c1b5cee"
   },
   "outputs": [],
   "source": [
    "from bs4 import BeautifulSoup\n",
    "import requests\n",
    "\n",
    "url=\"https://chartmasters.org/most-streamed-artists-ever-on-spotify/\"\n",
    "page= requests.get(url)\n",
    "\n",
    "soup = BeautifulSoup(page.content, 'html.parser')\n",
    "# table_body=soup.find('tbody')\n",
    "# rows = table_body.find_all('tr')\n",
    "lists=soup.find_all('div',class_='wpdt-c wdt-skin-light')\n",
    "\n",
    "table_body=soup.find('tbody')\n",
    "\n",
    "rows = table_body.find_all('tr')\n",
    "artist=[]\n",
    "for row in rows:\n",
    "    artist.append(str(row).split('<')[4].split('>')[1])"
   ]
  },
  {
   "cell_type": "code",
   "execution_count": null,
   "id": "A08DcVlMfxPS",
   "metadata": {
    "id": "A08DcVlMfxPS"
   },
   "outputs": [],
   "source": [
    "url_chart=\"https://charts.spotify.com/charts/view/regional-global-weekly/2022-07-28\"\n",
    "page= requests.get(url_chart)\n",
    "\n",
    "soup = BeautifulSoup(page.content, 'html.parser')\n",
    "table_body=soup.find('tbody')\n",
    "table_body\n"
   ]
  },
  {
   "cell_type": "code",
   "execution_count": null,
   "id": "nkqdXm8wgwUQ",
   "metadata": {
    "colab": {
     "base_uri": "https://localhost:8080/"
    },
    "executionInfo": {
     "elapsed": 7,
     "status": "ok",
     "timestamp": 1659644357821,
     "user": {
      "displayName": "olivia han",
      "userId": "16453021985307431611"
     },
     "user_tz": 420
    },
    "id": "nkqdXm8wgwUQ",
    "outputId": "4a22869d-e450-4c93-95bc-20b1dd958f7f"
   },
   "outputs": [
    {
     "data": {
      "text/plain": [
       "[]"
      ]
     },
     "execution_count": 57,
     "metadata": {},
     "output_type": "execute_result"
    }
   ],
   "source": [
    "table_body=soup.find_all('tbody')\n",
    "\n",
    "table_body"
   ]
  },
  {
   "cell_type": "code",
   "execution_count": null,
   "id": "pVLdy9tJn-3s",
   "metadata": {
    "colab": {
     "base_uri": "https://localhost:8080/"
    },
    "executionInfo": {
     "elapsed": 185,
     "status": "ok",
     "timestamp": 1659646253297,
     "user": {
      "displayName": "olivia han",
      "userId": "16453021985307431611"
     },
     "user_tz": 420
    },
    "id": "pVLdy9tJn-3s",
    "outputId": "a718a213-db29-45b1-f8c7-84103948d39b"
   },
   "outputs": [
    {
     "data": {
      "text/plain": [
       "100"
      ]
     },
     "execution_count": 101,
     "metadata": {},
     "output_type": "execute_result"
    }
   ],
   "source": [
    "len(artist)"
   ]
  },
  {
   "cell_type": "code",
   "execution_count": null,
   "id": "8874cf51",
   "metadata": {
    "id": "8874cf51"
   },
   "outputs": [],
   "source": [
    "# year=[\"2021\"]\n",
    "result=[]\n",
    "for name in artist:\n",
    "  tmp=sp.search(name,limit=50)\n",
    "  result.append(tmp['tracks']['items'][1]['artists'])"
   ]
  },
  {
   "cell_type": "code",
   "execution_count": null,
   "id": "0mu5nr1RQM3U",
   "metadata": {
    "colab": {
     "base_uri": "https://localhost:8080/",
     "height": 35
    },
    "executionInfo": {
     "elapsed": 383,
     "status": "ok",
     "timestamp": 1659646520572,
     "user": {
      "displayName": "olivia han",
      "userId": "16453021985307431611"
     },
     "user_tz": 420
    },
    "id": "0mu5nr1RQM3U",
    "outputId": "fe4ae3fc-16c8-44c8-c415-b77efe204a08"
   },
   "outputs": [
    {
     "data": {
      "application/vnd.google.colaboratory.intrinsic+json": {
       "type": "string"
      },
      "text/plain": [
       "'spotify:artist:1RyvyyTE3xzB2ZywiAwp0i'"
      ]
     },
     "execution_count": 114,
     "metadata": {},
     "output_type": "execute_result"
    }
   ],
   "source": [
    "result[0]"
   ]
  },
  {
   "cell_type": "code",
   "execution_count": null,
   "id": "6NNoiGdxopZx",
   "metadata": {
    "id": "6NNoiGdxopZx"
   },
   "outputs": [],
   "source": []
  },
  {
   "cell_type": "code",
   "execution_count": null,
   "id": "iRNriBrTQbvU",
   "metadata": {
    "id": "iRNriBrTQbvU"
   },
   "outputs": [],
   "source": []
  },
  {
   "cell_type": "code",
   "execution_count": null,
   "id": "_eNvJpJciD9C",
   "metadata": {
    "id": "_eNvJpJciD9C"
   },
   "outputs": [],
   "source": []
  },
  {
   "cell_type": "code",
   "execution_count": null,
   "id": "zwysjpwj3uiN",
   "metadata": {
    "id": "zwysjpwj3uiN"
   },
   "outputs": [],
   "source": []
  },
  {
   "cell_type": "code",
   "execution_count": null,
   "id": "y56Q1C7v3ufa",
   "metadata": {
    "id": "y56Q1C7v3ufa"
   },
   "outputs": [],
   "source": []
  },
  {
   "cell_type": "code",
   "execution_count": null,
   "id": "TX3U7C2z3uda",
   "metadata": {
    "id": "TX3U7C2z3uda"
   },
   "outputs": [],
   "source": []
  },
  {
   "cell_type": "code",
   "execution_count": null,
   "id": "e919cc69",
   "metadata": {
    "id": "e919cc69"
   },
   "outputs": [],
   "source": []
  },
  {
   "cell_type": "code",
   "execution_count": null,
   "id": "13a4efbf",
   "metadata": {
    "id": "13a4efbf",
    "outputId": "539e60cd-8613-479f-e9d9-989ac2c0fb67"
   },
   "outputs": [
    {
     "name": "stdout",
     "output_type": "stream",
     "text": [
      "q=year%3A2015-2020&type=track\n",
      "https://api.spotify.com/v1/search?q=year%3A2015-2020&type=track\n",
      "200\n"
     ]
    }
   ],
   "source": [
    "headers = {\n",
    "    \"Authorization\": f\"Bearer {access_token}\"\n",
    "}\n",
    "#https://api.spotify.com/v1/search?type=album&q=year:2015-2020\n",
    "endpoint = \"https://api.spotify.com/v1/search\"\n",
    "data = urlencode({\"q\": \"year:2015-2020\", \"type\": \"track\"})\n",
    "print(data)\n",
    "\n",
    "lookup_url = f\"{endpoint}?{data}\"\n",
    "print(lookup_url)\n",
    "r = requests.get(lookup_url, headers=headers)\n",
    "print(r.status_code)"
   ]
  },
  {
   "cell_type": "code",
   "execution_count": null,
   "id": "c0acabdd",
   "metadata": {
    "id": "c0acabdd"
   },
   "outputs": [],
   "source": []
  },
  {
   "cell_type": "markdown",
   "id": "a7393753-7e42-491f-991c-d95a62cdcae7",
   "metadata": {},
   "source": [
    "# LyricsGenius"
   ]
  },
  {
   "cell_type": "code",
   "execution_count": 22,
   "id": "83abfd15",
   "metadata": {
    "colab": {
     "base_uri": "https://localhost:8080/"
    },
    "executionInfo": {
     "elapsed": 5313,
     "status": "ok",
     "timestamp": 1659650829630,
     "user": {
      "displayName": "olivia han",
      "userId": "16453021985307431611"
     },
     "user_tz": 420
    },
    "id": "83abfd15",
    "outputId": "01b3a07a-13ec-4d24-dac5-ef7d91057857"
   },
   "outputs": [
    {
     "name": "stdout",
     "output_type": "stream",
     "text": [
      "Requirement already satisfied: lyricsgenius in /Users/oliviahan/opt/anaconda3/lib/python3.9/site-packages (3.0.1)\n",
      "Requirement already satisfied: beautifulsoup4>=4.6.0 in /Users/oliviahan/opt/anaconda3/lib/python3.9/site-packages (from lyricsgenius) (4.11.1)\n",
      "Requirement already satisfied: requests>=2.20.0 in /Users/oliviahan/opt/anaconda3/lib/python3.9/site-packages (from lyricsgenius) (2.28.1)\n",
      "Requirement already satisfied: soupsieve>1.2 in /Users/oliviahan/opt/anaconda3/lib/python3.9/site-packages (from beautifulsoup4>=4.6.0->lyricsgenius) (2.3.1)\n",
      "Requirement already satisfied: charset-normalizer<3,>=2 in /Users/oliviahan/opt/anaconda3/lib/python3.9/site-packages (from requests>=2.20.0->lyricsgenius) (2.0.4)\n",
      "Requirement already satisfied: certifi>=2017.4.17 in /Users/oliviahan/opt/anaconda3/lib/python3.9/site-packages (from requests>=2.20.0->lyricsgenius) (2022.6.15)\n",
      "Requirement already satisfied: urllib3<1.27,>=1.21.1 in /Users/oliviahan/opt/anaconda3/lib/python3.9/site-packages (from requests>=2.20.0->lyricsgenius) (1.26.11)\n",
      "Requirement already satisfied: idna<4,>=2.5 in /Users/oliviahan/opt/anaconda3/lib/python3.9/site-packages (from requests>=2.20.0->lyricsgenius) (2.8)\n"
     ]
    }
   ],
   "source": [
    "!pip install lyricsgenius\n"
   ]
  },
  {
   "cell_type": "code",
   "execution_count": 23,
   "id": "2e5b7597",
   "metadata": {
    "id": "2e5b7597"
   },
   "outputs": [],
   "source": [
    "import lyricsgenius"
   ]
  },
  {
   "cell_type": "code",
   "execution_count": null,
   "id": "WX5hkWgg8BLW",
   "metadata": {
    "id": "WX5hkWgg8BLW"
   },
   "outputs": [],
   "source": []
  },
  {
   "cell_type": "code",
   "execution_count": null,
   "id": "PQL6N2s97pz_",
   "metadata": {
    "id": "PQL6N2s97pz_"
   },
   "outputs": [],
   "source": [
    "song_name=song_name[~song_name[0].str.contains('Instrumental')]"
   ]
  },
  {
   "cell_type": "code",
   "execution_count": null,
   "id": "IOQg2bgPA6wa",
   "metadata": {
    "id": "IOQg2bgPA6wa"
   },
   "outputs": [],
   "source": []
  },
  {
   "cell_type": "code",
   "execution_count": null,
   "id": "569G5w8jCQaA",
   "metadata": {
    "id": "569G5w8jCQaA"
   },
   "outputs": [],
   "source": [
    "def song_lyr(song_name):\n",
    "  for song in song_name:\n",
    "      song = genius.search_song(song,max_songs=10000)"
   ]
  },
  {
   "cell_type": "code",
   "execution_count": null,
   "id": "dMp6HzotChdS",
   "metadata": {
    "colab": {
     "base_uri": "https://localhost:8080/",
     "height": 1000
    },
    "collapsed": true,
    "executionInfo": {
     "elapsed": 66211,
     "status": "error",
     "timestamp": 1659653388775,
     "user": {
      "displayName": "olivia han",
      "userId": "16453021985307431611"
     },
     "user_tz": 420
    },
    "id": "dMp6HzotChdS",
    "jupyter": {
     "outputs_hidden": true
    },
    "outputId": "e1d8bab1-b101-4076-d719-2c33be418e18",
    "tags": []
   },
   "outputs": [
    {
     "name": "stdout",
     "output_type": "stream",
     "text": [
      "Done.\n",
      "Searching for \"Real Baby Pluto\"...\n",
      "Done.\n",
      "Searching for \"Drankin N Smokin\"...\n",
      "Done.\n",
      "Searching for \"Million Dollar Play\"...\n",
      "Done.\n",
      "Searching for \"Plastic\"...\n",
      "Done.\n",
      "Searching for \"That’s It\"...\n",
      "Done.\n",
      "Searching for \"Bought A Bad Bitch\"...\n",
      "Done.\n",
      "Searching for \"Rockstar Chainz\"...\n",
      "Done.\n",
      "Searching for \"Lullaby\"...\n",
      "Done.\n",
      "Searching for \"She Never Been To Pluto\"...\n",
      "Done.\n",
      "Searching for \"Off Dat\"...\n",
      "Done.\n",
      "Searching for \"I Don’t Wanna Break Up\"...\n",
      "Done.\n",
      "Searching for \"Bankroll\"...\n",
      "Done.\n",
      "Searching for \"Moment of Clarity\"...\n",
      "Done.\n",
      "Searching for \"Patek\"...\n",
      "Done.\n",
      "Searching for \"Over Your Head\"...\n",
      "Done.\n",
      "Searching for \"Trapped In The Sun\"...\n",
      "Done.\n",
      "Searching for \"HiTek Tek\"...\n",
      "Done.\n",
      "Searching for \"Touch The Sky\"...\n",
      "Done.\n",
      "Searching for \"Solitaires (feat. Travis Scott)\"...\n",
      "Done.\n",
      "Searching for \"Ridin Strikers\"...\n",
      "Done.\n",
      "Searching for \"One Of My\"...\n",
      "Done.\n",
      "Searching for \"Posted With Demons\"...\n",
      "Done.\n",
      "Searching for \"Hard To Choose One\"...\n",
      "Done.\n",
      "Searching for \"Trillionaire (feat. Youngboy Never Broke Again)\"...\n",
      "Done.\n",
      "Searching for \"Harlem Shake (feat. Young Thug)\"...\n",
      "Done.\n",
      "Searching for \"Up the River\"...\n",
      "Done.\n",
      "Searching for \"Pray For A Key\"...\n",
      "Done.\n",
      "Searching for \"Too Comfortable\"...\n",
      "Done.\n",
      "Searching for \"All Bad (feat. Lil Uzi Vert)\"...\n",
      "Done.\n",
      "Searching for \"Outer Space Bih\"...\n",
      "Done.\n",
      "Searching for \"Accepting My Flaws\"...\n",
      "Done.\n",
      "Searching for \"Life Is Good (feat. Drake)\"...\n",
      "Done.\n",
      "Searching for \"Last Name (feat. Lil Durk)\"...\n",
      "Done.\n",
      "Searching for \"Tycoon\"...\n",
      "Done.\n",
      "Searching for \"100 Shooters (feat. Meek Mill & Doe Boy)\"...\n",
      "Done.\n",
      "Searching for \"Life Is Good (feat. Drake, DaBaby & Lil Baby) - Remix\"...\n",
      "Done.\n",
      "Searching for \"XanaX Damage\"...\n",
      "Done.\n",
      "Searching for \"St. Lucia\"...\n",
      "Done.\n",
      "Searching for \"Please Tell Me\"...\n",
      "Done.\n",
      "Searching for \"Shotgun\"...\n",
      "Done.\n",
      "Searching for \"Government Official\"...\n",
      "Done.\n",
      "Searching for \"Extra\"...\n",
      "Done.\n",
      "Searching for \"Love Thy Enemies\"...\n",
      "Done.\n",
      "Searching for \"Never Stop\"...\n",
      "Done.\n",
      "Searching for \"Jumpin on a Jet\"...\n",
      "Done.\n",
      "Searching for \"Rocket Ship\"...\n",
      "Done.\n",
      "Searching for \"Temptation\"...\n",
      "Done.\n",
      "Searching for \"Crushed Up\"...\n",
      "Done.\n",
      "Searching for \"F&N\"...\n",
      "Done.\n",
      "Searching for \"Call the Coroner\"...\n",
      "Done.\n",
      "Searching for \"Talk Shit Like a Preacher\"...\n",
      "Done.\n",
      "Searching for \"Promise U That\"...\n",
      "Done.\n",
      "Searching for \"Stick to the Models\"...\n",
      "Done.\n",
      "Searching for \"Overdose\"...\n",
      "Done.\n",
      "Searching for \"Krazy but True\"...\n",
      "Done.\n",
      "Searching for \"Servin Killa Kam\"...\n",
      "Done.\n",
      "Searching for \"Baptiize\"...\n",
      "Done.\n",
      "Searching for \"Unicorn Purp (feat. Young Thug & Gunna)\"...\n",
      "Done.\n",
      "Searching for \"Goin Dummi\"...\n",
      "Done.\n",
      "Searching for \"First Off (feat. Travis Scott)\"...\n",
      "Done.\n",
      "Searching for \"Faceshot\"...\n",
      "Done.\n",
      "Searching for \"Ain't Coming Back\"...\n",
      "Done.\n",
      "Searching for \"Tricks on Me\"...\n",
      "Done.\n",
      "Searching for \"Talk Sh*t Like a Preacher\"...\n",
      "Done.\n",
      "Searching for \"Jet Lag (feat. Young Scooter)\"...\n",
      "Done.\n",
      "Searching for \"Astronauts\"...\n",
      "Done.\n",
      "Searching for \"Fine China\"...\n",
      "Done.\n",
      "Searching for \"Red Bentley (feat. Young Thug)\"...\n",
      "Done.\n",
      "Searching for \"Make It Back\"...\n",
      "Done.\n",
      "Searching for \"Oxy (feat. Lil Wayne)\"...\n",
      "Done.\n",
      "Searching for \"7 Am Freestyle\"...\n",
      "Done.\n",
      "Searching for \"Different (feat. Yung Bans)\"...\n",
      "Done.\n",
      "Searching for \"Shorty\"...\n"
     ]
    },
    {
     "ename": "Timeout",
     "evalue": "ignored",
     "output_type": "error",
     "traceback": [
      "\u001b[0;31m---------------------------------------------------------------------------\u001b[0m",
      "\u001b[0;31mtimeout\u001b[0m                                   Traceback (most recent call last)",
      "\u001b[0;32m/usr/local/lib/python3.7/dist-packages/urllib3/connectionpool.py\u001b[0m in \u001b[0;36m_make_request\u001b[0;34m(self, conn, method, url, timeout, chunked, **httplib_request_kw)\u001b[0m\n\u001b[1;32m    448\u001b[0m                     \u001b[0;31m# Otherwise it looks like a bug in the code.\u001b[0m\u001b[0;34m\u001b[0m\u001b[0;34m\u001b[0m\u001b[0;34m\u001b[0m\u001b[0m\n\u001b[0;32m--> 449\u001b[0;31m                     \u001b[0msix\u001b[0m\u001b[0;34m.\u001b[0m\u001b[0mraise_from\u001b[0m\u001b[0;34m(\u001b[0m\u001b[0me\u001b[0m\u001b[0;34m,\u001b[0m \u001b[0;32mNone\u001b[0m\u001b[0;34m)\u001b[0m\u001b[0;34m\u001b[0m\u001b[0;34m\u001b[0m\u001b[0m\n\u001b[0m\u001b[1;32m    450\u001b[0m         \u001b[0;32mexcept\u001b[0m \u001b[0;34m(\u001b[0m\u001b[0mSocketTimeout\u001b[0m\u001b[0;34m,\u001b[0m \u001b[0mBaseSSLError\u001b[0m\u001b[0;34m,\u001b[0m \u001b[0mSocketError\u001b[0m\u001b[0;34m)\u001b[0m \u001b[0;32mas\u001b[0m \u001b[0me\u001b[0m\u001b[0;34m:\u001b[0m\u001b[0;34m\u001b[0m\u001b[0;34m\u001b[0m\u001b[0m\n",
      "\u001b[0;32m/usr/local/lib/python3.7/dist-packages/urllib3/packages/six.py\u001b[0m in \u001b[0;36mraise_from\u001b[0;34m(value, from_value)\u001b[0m\n",
      "\u001b[0;32m/usr/local/lib/python3.7/dist-packages/urllib3/connectionpool.py\u001b[0m in \u001b[0;36m_make_request\u001b[0;34m(self, conn, method, url, timeout, chunked, **httplib_request_kw)\u001b[0m\n\u001b[1;32m    443\u001b[0m                 \u001b[0;32mtry\u001b[0m\u001b[0;34m:\u001b[0m\u001b[0;34m\u001b[0m\u001b[0;34m\u001b[0m\u001b[0m\n\u001b[0;32m--> 444\u001b[0;31m                     \u001b[0mhttplib_response\u001b[0m \u001b[0;34m=\u001b[0m \u001b[0mconn\u001b[0m\u001b[0;34m.\u001b[0m\u001b[0mgetresponse\u001b[0m\u001b[0;34m(\u001b[0m\u001b[0;34m)\u001b[0m\u001b[0;34m\u001b[0m\u001b[0;34m\u001b[0m\u001b[0m\n\u001b[0m\u001b[1;32m    445\u001b[0m                 \u001b[0;32mexcept\u001b[0m \u001b[0mBaseException\u001b[0m \u001b[0;32mas\u001b[0m \u001b[0me\u001b[0m\u001b[0;34m:\u001b[0m\u001b[0;34m\u001b[0m\u001b[0;34m\u001b[0m\u001b[0m\n",
      "\u001b[0;32m/usr/lib/python3.7/http/client.py\u001b[0m in \u001b[0;36mgetresponse\u001b[0;34m(self)\u001b[0m\n\u001b[1;32m   1372\u001b[0m             \u001b[0;32mtry\u001b[0m\u001b[0;34m:\u001b[0m\u001b[0;34m\u001b[0m\u001b[0;34m\u001b[0m\u001b[0m\n\u001b[0;32m-> 1373\u001b[0;31m                 \u001b[0mresponse\u001b[0m\u001b[0;34m.\u001b[0m\u001b[0mbegin\u001b[0m\u001b[0;34m(\u001b[0m\u001b[0;34m)\u001b[0m\u001b[0;34m\u001b[0m\u001b[0;34m\u001b[0m\u001b[0m\n\u001b[0m\u001b[1;32m   1374\u001b[0m             \u001b[0;32mexcept\u001b[0m \u001b[0mConnectionError\u001b[0m\u001b[0;34m:\u001b[0m\u001b[0;34m\u001b[0m\u001b[0;34m\u001b[0m\u001b[0m\n",
      "\u001b[0;32m/usr/lib/python3.7/http/client.py\u001b[0m in \u001b[0;36mbegin\u001b[0;34m(self)\u001b[0m\n\u001b[1;32m    318\u001b[0m         \u001b[0;32mwhile\u001b[0m \u001b[0;32mTrue\u001b[0m\u001b[0;34m:\u001b[0m\u001b[0;34m\u001b[0m\u001b[0;34m\u001b[0m\u001b[0m\n\u001b[0;32m--> 319\u001b[0;31m             \u001b[0mversion\u001b[0m\u001b[0;34m,\u001b[0m \u001b[0mstatus\u001b[0m\u001b[0;34m,\u001b[0m \u001b[0mreason\u001b[0m \u001b[0;34m=\u001b[0m \u001b[0mself\u001b[0m\u001b[0;34m.\u001b[0m\u001b[0m_read_status\u001b[0m\u001b[0;34m(\u001b[0m\u001b[0;34m)\u001b[0m\u001b[0;34m\u001b[0m\u001b[0;34m\u001b[0m\u001b[0m\n\u001b[0m\u001b[1;32m    320\u001b[0m             \u001b[0;32mif\u001b[0m \u001b[0mstatus\u001b[0m \u001b[0;34m!=\u001b[0m \u001b[0mCONTINUE\u001b[0m\u001b[0;34m:\u001b[0m\u001b[0;34m\u001b[0m\u001b[0;34m\u001b[0m\u001b[0m\n",
      "\u001b[0;32m/usr/lib/python3.7/http/client.py\u001b[0m in \u001b[0;36m_read_status\u001b[0;34m(self)\u001b[0m\n\u001b[1;32m    279\u001b[0m     \u001b[0;32mdef\u001b[0m \u001b[0m_read_status\u001b[0m\u001b[0;34m(\u001b[0m\u001b[0mself\u001b[0m\u001b[0;34m)\u001b[0m\u001b[0;34m:\u001b[0m\u001b[0;34m\u001b[0m\u001b[0;34m\u001b[0m\u001b[0m\n\u001b[0;32m--> 280\u001b[0;31m         \u001b[0mline\u001b[0m \u001b[0;34m=\u001b[0m \u001b[0mstr\u001b[0m\u001b[0;34m(\u001b[0m\u001b[0mself\u001b[0m\u001b[0;34m.\u001b[0m\u001b[0mfp\u001b[0m\u001b[0;34m.\u001b[0m\u001b[0mreadline\u001b[0m\u001b[0;34m(\u001b[0m\u001b[0m_MAXLINE\u001b[0m \u001b[0;34m+\u001b[0m \u001b[0;36m1\u001b[0m\u001b[0;34m)\u001b[0m\u001b[0;34m,\u001b[0m \u001b[0;34m\"iso-8859-1\"\u001b[0m\u001b[0;34m)\u001b[0m\u001b[0;34m\u001b[0m\u001b[0;34m\u001b[0m\u001b[0m\n\u001b[0m\u001b[1;32m    281\u001b[0m         \u001b[0;32mif\u001b[0m \u001b[0mlen\u001b[0m\u001b[0;34m(\u001b[0m\u001b[0mline\u001b[0m\u001b[0;34m)\u001b[0m \u001b[0;34m>\u001b[0m \u001b[0m_MAXLINE\u001b[0m\u001b[0;34m:\u001b[0m\u001b[0;34m\u001b[0m\u001b[0;34m\u001b[0m\u001b[0m\n",
      "\u001b[0;32m/usr/lib/python3.7/socket.py\u001b[0m in \u001b[0;36mreadinto\u001b[0;34m(self, b)\u001b[0m\n\u001b[1;32m    588\u001b[0m             \u001b[0;32mtry\u001b[0m\u001b[0;34m:\u001b[0m\u001b[0;34m\u001b[0m\u001b[0;34m\u001b[0m\u001b[0m\n\u001b[0;32m--> 589\u001b[0;31m                 \u001b[0;32mreturn\u001b[0m \u001b[0mself\u001b[0m\u001b[0;34m.\u001b[0m\u001b[0m_sock\u001b[0m\u001b[0;34m.\u001b[0m\u001b[0mrecv_into\u001b[0m\u001b[0;34m(\u001b[0m\u001b[0mb\u001b[0m\u001b[0;34m)\u001b[0m\u001b[0;34m\u001b[0m\u001b[0;34m\u001b[0m\u001b[0m\n\u001b[0m\u001b[1;32m    590\u001b[0m             \u001b[0;32mexcept\u001b[0m \u001b[0mtimeout\u001b[0m\u001b[0;34m:\u001b[0m\u001b[0;34m\u001b[0m\u001b[0;34m\u001b[0m\u001b[0m\n",
      "\u001b[0;32m/usr/lib/python3.7/ssl.py\u001b[0m in \u001b[0;36mrecv_into\u001b[0;34m(self, buffer, nbytes, flags)\u001b[0m\n\u001b[1;32m   1070\u001b[0m                   self.__class__)\n\u001b[0;32m-> 1071\u001b[0;31m             \u001b[0;32mreturn\u001b[0m \u001b[0mself\u001b[0m\u001b[0;34m.\u001b[0m\u001b[0mread\u001b[0m\u001b[0;34m(\u001b[0m\u001b[0mnbytes\u001b[0m\u001b[0;34m,\u001b[0m \u001b[0mbuffer\u001b[0m\u001b[0;34m)\u001b[0m\u001b[0;34m\u001b[0m\u001b[0;34m\u001b[0m\u001b[0m\n\u001b[0m\u001b[1;32m   1072\u001b[0m         \u001b[0;32melse\u001b[0m\u001b[0;34m:\u001b[0m\u001b[0;34m\u001b[0m\u001b[0;34m\u001b[0m\u001b[0m\n",
      "\u001b[0;32m/usr/lib/python3.7/ssl.py\u001b[0m in \u001b[0;36mread\u001b[0;34m(self, len, buffer)\u001b[0m\n\u001b[1;32m    928\u001b[0m             \u001b[0;32mif\u001b[0m \u001b[0mbuffer\u001b[0m \u001b[0;32mis\u001b[0m \u001b[0;32mnot\u001b[0m \u001b[0;32mNone\u001b[0m\u001b[0;34m:\u001b[0m\u001b[0;34m\u001b[0m\u001b[0;34m\u001b[0m\u001b[0m\n\u001b[0;32m--> 929\u001b[0;31m                 \u001b[0;32mreturn\u001b[0m \u001b[0mself\u001b[0m\u001b[0;34m.\u001b[0m\u001b[0m_sslobj\u001b[0m\u001b[0;34m.\u001b[0m\u001b[0mread\u001b[0m\u001b[0;34m(\u001b[0m\u001b[0mlen\u001b[0m\u001b[0;34m,\u001b[0m \u001b[0mbuffer\u001b[0m\u001b[0;34m)\u001b[0m\u001b[0;34m\u001b[0m\u001b[0;34m\u001b[0m\u001b[0m\n\u001b[0m\u001b[1;32m    930\u001b[0m             \u001b[0;32melse\u001b[0m\u001b[0;34m:\u001b[0m\u001b[0;34m\u001b[0m\u001b[0;34m\u001b[0m\u001b[0m\n",
      "\u001b[0;31mtimeout\u001b[0m: The read operation timed out",
      "\nDuring handling of the above exception, another exception occurred:\n",
      "\u001b[0;31mReadTimeoutError\u001b[0m                          Traceback (most recent call last)",
      "\u001b[0;32m/usr/local/lib/python3.7/dist-packages/requests/adapters.py\u001b[0m in \u001b[0;36msend\u001b[0;34m(self, request, stream, timeout, verify, cert, proxies)\u001b[0m\n\u001b[1;32m    498\u001b[0m                     \u001b[0mretries\u001b[0m\u001b[0;34m=\u001b[0m\u001b[0mself\u001b[0m\u001b[0;34m.\u001b[0m\u001b[0mmax_retries\u001b[0m\u001b[0;34m,\u001b[0m\u001b[0;34m\u001b[0m\u001b[0;34m\u001b[0m\u001b[0m\n\u001b[0;32m--> 499\u001b[0;31m                     \u001b[0mtimeout\u001b[0m\u001b[0;34m=\u001b[0m\u001b[0mtimeout\u001b[0m\u001b[0;34m,\u001b[0m\u001b[0;34m\u001b[0m\u001b[0;34m\u001b[0m\u001b[0m\n\u001b[0m\u001b[1;32m    500\u001b[0m                 )\n",
      "\u001b[0;32m/usr/local/lib/python3.7/dist-packages/urllib3/connectionpool.py\u001b[0m in \u001b[0;36murlopen\u001b[0;34m(self, method, url, body, headers, retries, redirect, assert_same_host, timeout, pool_timeout, release_conn, chunked, body_pos, **response_kw)\u001b[0m\n\u001b[1;32m    787\u001b[0m             retries = retries.increment(\n\u001b[0;32m--> 788\u001b[0;31m                 \u001b[0mmethod\u001b[0m\u001b[0;34m,\u001b[0m \u001b[0murl\u001b[0m\u001b[0;34m,\u001b[0m \u001b[0merror\u001b[0m\u001b[0;34m=\u001b[0m\u001b[0me\u001b[0m\u001b[0;34m,\u001b[0m \u001b[0m_pool\u001b[0m\u001b[0;34m=\u001b[0m\u001b[0mself\u001b[0m\u001b[0;34m,\u001b[0m \u001b[0m_stacktrace\u001b[0m\u001b[0;34m=\u001b[0m\u001b[0msys\u001b[0m\u001b[0;34m.\u001b[0m\u001b[0mexc_info\u001b[0m\u001b[0;34m(\u001b[0m\u001b[0;34m)\u001b[0m\u001b[0;34m[\u001b[0m\u001b[0;36m2\u001b[0m\u001b[0;34m]\u001b[0m\u001b[0;34m\u001b[0m\u001b[0;34m\u001b[0m\u001b[0m\n\u001b[0m\u001b[1;32m    789\u001b[0m             )\n",
      "\u001b[0;32m/usr/local/lib/python3.7/dist-packages/urllib3/util/retry.py\u001b[0m in \u001b[0;36mincrement\u001b[0;34m(self, method, url, response, error, _pool, _stacktrace)\u001b[0m\n\u001b[1;32m    549\u001b[0m             \u001b[0;32mif\u001b[0m \u001b[0mread\u001b[0m \u001b[0;32mis\u001b[0m \u001b[0;32mFalse\u001b[0m \u001b[0;32mor\u001b[0m \u001b[0;32mnot\u001b[0m \u001b[0mself\u001b[0m\u001b[0;34m.\u001b[0m\u001b[0m_is_method_retryable\u001b[0m\u001b[0;34m(\u001b[0m\u001b[0mmethod\u001b[0m\u001b[0;34m)\u001b[0m\u001b[0;34m:\u001b[0m\u001b[0;34m\u001b[0m\u001b[0;34m\u001b[0m\u001b[0m\n\u001b[0;32m--> 550\u001b[0;31m                 \u001b[0;32mraise\u001b[0m \u001b[0msix\u001b[0m\u001b[0;34m.\u001b[0m\u001b[0mreraise\u001b[0m\u001b[0;34m(\u001b[0m\u001b[0mtype\u001b[0m\u001b[0;34m(\u001b[0m\u001b[0merror\u001b[0m\u001b[0;34m)\u001b[0m\u001b[0;34m,\u001b[0m \u001b[0merror\u001b[0m\u001b[0;34m,\u001b[0m \u001b[0m_stacktrace\u001b[0m\u001b[0;34m)\u001b[0m\u001b[0;34m\u001b[0m\u001b[0;34m\u001b[0m\u001b[0m\n\u001b[0m\u001b[1;32m    551\u001b[0m             \u001b[0;32melif\u001b[0m \u001b[0mread\u001b[0m \u001b[0;32mis\u001b[0m \u001b[0;32mnot\u001b[0m \u001b[0;32mNone\u001b[0m\u001b[0;34m:\u001b[0m\u001b[0;34m\u001b[0m\u001b[0;34m\u001b[0m\u001b[0m\n",
      "\u001b[0;32m/usr/local/lib/python3.7/dist-packages/urllib3/packages/six.py\u001b[0m in \u001b[0;36mreraise\u001b[0;34m(tp, value, tb)\u001b[0m\n\u001b[1;32m    769\u001b[0m                 \u001b[0;32mraise\u001b[0m \u001b[0mvalue\u001b[0m\u001b[0;34m.\u001b[0m\u001b[0mwith_traceback\u001b[0m\u001b[0;34m(\u001b[0m\u001b[0mtb\u001b[0m\u001b[0;34m)\u001b[0m\u001b[0;34m\u001b[0m\u001b[0;34m\u001b[0m\u001b[0m\n\u001b[0;32m--> 770\u001b[0;31m             \u001b[0;32mraise\u001b[0m \u001b[0mvalue\u001b[0m\u001b[0;34m\u001b[0m\u001b[0;34m\u001b[0m\u001b[0m\n\u001b[0m\u001b[1;32m    771\u001b[0m         \u001b[0;32mfinally\u001b[0m\u001b[0;34m:\u001b[0m\u001b[0;34m\u001b[0m\u001b[0;34m\u001b[0m\u001b[0m\n",
      "\u001b[0;32m/usr/local/lib/python3.7/dist-packages/urllib3/connectionpool.py\u001b[0m in \u001b[0;36murlopen\u001b[0;34m(self, method, url, body, headers, retries, redirect, assert_same_host, timeout, pool_timeout, release_conn, chunked, body_pos, **response_kw)\u001b[0m\n\u001b[1;32m    709\u001b[0m                 \u001b[0mheaders\u001b[0m\u001b[0;34m=\u001b[0m\u001b[0mheaders\u001b[0m\u001b[0;34m,\u001b[0m\u001b[0;34m\u001b[0m\u001b[0;34m\u001b[0m\u001b[0m\n\u001b[0;32m--> 710\u001b[0;31m                 \u001b[0mchunked\u001b[0m\u001b[0;34m=\u001b[0m\u001b[0mchunked\u001b[0m\u001b[0;34m,\u001b[0m\u001b[0;34m\u001b[0m\u001b[0;34m\u001b[0m\u001b[0m\n\u001b[0m\u001b[1;32m    711\u001b[0m             )\n",
      "\u001b[0;32m/usr/local/lib/python3.7/dist-packages/urllib3/connectionpool.py\u001b[0m in \u001b[0;36m_make_request\u001b[0;34m(self, conn, method, url, timeout, chunked, **httplib_request_kw)\u001b[0m\n\u001b[1;32m    450\u001b[0m         \u001b[0;32mexcept\u001b[0m \u001b[0;34m(\u001b[0m\u001b[0mSocketTimeout\u001b[0m\u001b[0;34m,\u001b[0m \u001b[0mBaseSSLError\u001b[0m\u001b[0;34m,\u001b[0m \u001b[0mSocketError\u001b[0m\u001b[0;34m)\u001b[0m \u001b[0;32mas\u001b[0m \u001b[0me\u001b[0m\u001b[0;34m:\u001b[0m\u001b[0;34m\u001b[0m\u001b[0;34m\u001b[0m\u001b[0m\n\u001b[0;32m--> 451\u001b[0;31m             \u001b[0mself\u001b[0m\u001b[0;34m.\u001b[0m\u001b[0m_raise_timeout\u001b[0m\u001b[0;34m(\u001b[0m\u001b[0merr\u001b[0m\u001b[0;34m=\u001b[0m\u001b[0me\u001b[0m\u001b[0;34m,\u001b[0m \u001b[0murl\u001b[0m\u001b[0;34m=\u001b[0m\u001b[0murl\u001b[0m\u001b[0;34m,\u001b[0m \u001b[0mtimeout_value\u001b[0m\u001b[0;34m=\u001b[0m\u001b[0mread_timeout\u001b[0m\u001b[0;34m)\u001b[0m\u001b[0;34m\u001b[0m\u001b[0;34m\u001b[0m\u001b[0m\n\u001b[0m\u001b[1;32m    452\u001b[0m             \u001b[0;32mraise\u001b[0m\u001b[0;34m\u001b[0m\u001b[0;34m\u001b[0m\u001b[0m\n",
      "\u001b[0;32m/usr/local/lib/python3.7/dist-packages/urllib3/connectionpool.py\u001b[0m in \u001b[0;36m_raise_timeout\u001b[0;34m(self, err, url, timeout_value)\u001b[0m\n\u001b[1;32m    340\u001b[0m             raise ReadTimeoutError(\n\u001b[0;32m--> 341\u001b[0;31m                 \u001b[0mself\u001b[0m\u001b[0;34m,\u001b[0m \u001b[0murl\u001b[0m\u001b[0;34m,\u001b[0m \u001b[0;34m\"Read timed out. (read timeout=%s)\"\u001b[0m \u001b[0;34m%\u001b[0m \u001b[0mtimeout_value\u001b[0m\u001b[0;34m\u001b[0m\u001b[0;34m\u001b[0m\u001b[0m\n\u001b[0m\u001b[1;32m    342\u001b[0m             )\n",
      "\u001b[0;31mReadTimeoutError\u001b[0m: HTTPSConnectionPool(host='genius.com', port=443): Read timed out. (read timeout=5)",
      "\nDuring handling of the above exception, another exception occurred:\n",
      "\u001b[0;31mReadTimeout\u001b[0m                               Traceback (most recent call last)",
      "\u001b[0;32m/usr/local/lib/python3.7/dist-packages/lyricsgenius/api/base.py\u001b[0m in \u001b[0;36m_make_request\u001b[0;34m(self, path, method, params_, public_api, web, **kwargs)\u001b[0m\n\u001b[1;32m     78\u001b[0m                                                  \u001b[0mheaders\u001b[0m\u001b[0;34m=\u001b[0m\u001b[0mheader\u001b[0m\u001b[0;34m,\u001b[0m\u001b[0;34m\u001b[0m\u001b[0;34m\u001b[0m\u001b[0m\n\u001b[0;32m---> 79\u001b[0;31m                                                  **kwargs)\n\u001b[0m\u001b[1;32m     80\u001b[0m                 \u001b[0mresponse\u001b[0m\u001b[0;34m.\u001b[0m\u001b[0mraise_for_status\u001b[0m\u001b[0;34m(\u001b[0m\u001b[0;34m)\u001b[0m\u001b[0;34m\u001b[0m\u001b[0;34m\u001b[0m\u001b[0m\n",
      "\u001b[0;32m/usr/local/lib/python3.7/dist-packages/requests/sessions.py\u001b[0m in \u001b[0;36mrequest\u001b[0;34m(self, method, url, params, data, headers, cookies, files, auth, timeout, allow_redirects, proxies, hooks, stream, verify, cert, json)\u001b[0m\n\u001b[1;32m    586\u001b[0m         \u001b[0msend_kwargs\u001b[0m\u001b[0;34m.\u001b[0m\u001b[0mupdate\u001b[0m\u001b[0;34m(\u001b[0m\u001b[0msettings\u001b[0m\u001b[0;34m)\u001b[0m\u001b[0;34m\u001b[0m\u001b[0;34m\u001b[0m\u001b[0m\n\u001b[0;32m--> 587\u001b[0;31m         \u001b[0mresp\u001b[0m \u001b[0;34m=\u001b[0m \u001b[0mself\u001b[0m\u001b[0;34m.\u001b[0m\u001b[0msend\u001b[0m\u001b[0;34m(\u001b[0m\u001b[0mprep\u001b[0m\u001b[0;34m,\u001b[0m \u001b[0;34m**\u001b[0m\u001b[0msend_kwargs\u001b[0m\u001b[0;34m)\u001b[0m\u001b[0;34m\u001b[0m\u001b[0;34m\u001b[0m\u001b[0m\n\u001b[0m\u001b[1;32m    588\u001b[0m \u001b[0;34m\u001b[0m\u001b[0m\n",
      "\u001b[0;32m/usr/local/lib/python3.7/dist-packages/requests/sessions.py\u001b[0m in \u001b[0;36msend\u001b[0;34m(self, request, **kwargs)\u001b[0m\n\u001b[1;32m    700\u001b[0m         \u001b[0;31m# Send the request\u001b[0m\u001b[0;34m\u001b[0m\u001b[0;34m\u001b[0m\u001b[0;34m\u001b[0m\u001b[0m\n\u001b[0;32m--> 701\u001b[0;31m         \u001b[0mr\u001b[0m \u001b[0;34m=\u001b[0m \u001b[0madapter\u001b[0m\u001b[0;34m.\u001b[0m\u001b[0msend\u001b[0m\u001b[0;34m(\u001b[0m\u001b[0mrequest\u001b[0m\u001b[0;34m,\u001b[0m \u001b[0;34m**\u001b[0m\u001b[0mkwargs\u001b[0m\u001b[0;34m)\u001b[0m\u001b[0;34m\u001b[0m\u001b[0;34m\u001b[0m\u001b[0m\n\u001b[0m\u001b[1;32m    702\u001b[0m \u001b[0;34m\u001b[0m\u001b[0m\n",
      "\u001b[0;32m/usr/local/lib/python3.7/dist-packages/requests/adapters.py\u001b[0m in \u001b[0;36msend\u001b[0;34m(self, request, stream, timeout, verify, cert, proxies)\u001b[0m\n\u001b[1;32m    577\u001b[0m             \u001b[0;32melif\u001b[0m \u001b[0misinstance\u001b[0m\u001b[0;34m(\u001b[0m\u001b[0me\u001b[0m\u001b[0;34m,\u001b[0m \u001b[0mReadTimeoutError\u001b[0m\u001b[0;34m)\u001b[0m\u001b[0;34m:\u001b[0m\u001b[0;34m\u001b[0m\u001b[0;34m\u001b[0m\u001b[0m\n\u001b[0;32m--> 578\u001b[0;31m                 \u001b[0;32mraise\u001b[0m \u001b[0mReadTimeout\u001b[0m\u001b[0;34m(\u001b[0m\u001b[0me\u001b[0m\u001b[0;34m,\u001b[0m \u001b[0mrequest\u001b[0m\u001b[0;34m=\u001b[0m\u001b[0mrequest\u001b[0m\u001b[0;34m)\u001b[0m\u001b[0;34m\u001b[0m\u001b[0;34m\u001b[0m\u001b[0m\n\u001b[0m\u001b[1;32m    579\u001b[0m             \u001b[0;32melif\u001b[0m \u001b[0misinstance\u001b[0m\u001b[0;34m(\u001b[0m\u001b[0me\u001b[0m\u001b[0;34m,\u001b[0m \u001b[0m_InvalidHeader\u001b[0m\u001b[0;34m)\u001b[0m\u001b[0;34m:\u001b[0m\u001b[0;34m\u001b[0m\u001b[0;34m\u001b[0m\u001b[0m\n",
      "\u001b[0;31mReadTimeout\u001b[0m: HTTPSConnectionPool(host='genius.com', port=443): Read timed out. (read timeout=5)",
      "\nDuring handling of the above exception, another exception occurred:\n",
      "\u001b[0;31mTimeout\u001b[0m                                   Traceback (most recent call last)",
      "\u001b[0;32m<ipython-input-260-70c652059bc0>\u001b[0m in \u001b[0;36m<module>\u001b[0;34m()\u001b[0m\n\u001b[1;32m     11\u001b[0m }\n\u001b[1;32m     12\u001b[0m \u001b[0;32mfor\u001b[0m \u001b[0msong\u001b[0m \u001b[0;32min\u001b[0m \u001b[0msong_arr\u001b[0m\u001b[0;34m:\u001b[0m\u001b[0;34m\u001b[0m\u001b[0;34m\u001b[0m\u001b[0m\n\u001b[0;32m---> 13\u001b[0;31m     \u001b[0msong_lyr\u001b[0m\u001b[0;34m(\u001b[0m\u001b[0msong\u001b[0m\u001b[0;34m[\u001b[0m\u001b[0;36m0\u001b[0m\u001b[0;34m]\u001b[0m\u001b[0;34m)\u001b[0m\u001b[0;34m\u001b[0m\u001b[0;34m\u001b[0m\u001b[0m\n\u001b[0m",
      "\u001b[0;32m<ipython-input-260-70c652059bc0>\u001b[0m in \u001b[0;36msong_lyr\u001b[0;34m(song_name)\u001b[0m\n\u001b[1;32m      1\u001b[0m \u001b[0;32mdef\u001b[0m \u001b[0msong_lyr\u001b[0m\u001b[0;34m(\u001b[0m\u001b[0msong_name\u001b[0m\u001b[0;34m)\u001b[0m\u001b[0;34m:\u001b[0m\u001b[0;34m\u001b[0m\u001b[0;34m\u001b[0m\u001b[0m\n\u001b[1;32m      2\u001b[0m   \u001b[0;32mfor\u001b[0m \u001b[0msong\u001b[0m \u001b[0;32min\u001b[0m \u001b[0msong_name\u001b[0m\u001b[0;34m:\u001b[0m\u001b[0;34m\u001b[0m\u001b[0;34m\u001b[0m\u001b[0m\n\u001b[0;32m----> 3\u001b[0;31m       \u001b[0msong\u001b[0m \u001b[0;34m=\u001b[0m \u001b[0mgenius\u001b[0m\u001b[0;34m.\u001b[0m\u001b[0msearch_song\u001b[0m\u001b[0;34m(\u001b[0m\u001b[0msong\u001b[0m\u001b[0;34m)\u001b[0m\u001b[0;34m\u001b[0m\u001b[0;34m\u001b[0m\u001b[0m\n\u001b[0m\u001b[1;32m      4\u001b[0m   \u001b[0msong_lyrics\u001b[0m\u001b[0;34m[\u001b[0m\u001b[0;34m'song_name'\u001b[0m\u001b[0;34m]\u001b[0m\u001b[0;34m.\u001b[0m\u001b[0mappend\u001b[0m\u001b[0;34m(\u001b[0m\u001b[0msong\u001b[0m\u001b[0;34m)\u001b[0m\u001b[0;34m\u001b[0m\u001b[0;34m\u001b[0m\u001b[0m\n\u001b[1;32m      5\u001b[0m   \u001b[0msong_lyrics\u001b[0m\u001b[0;34m[\u001b[0m\u001b[0;34m'lyrics'\u001b[0m\u001b[0;34m]\u001b[0m\u001b[0;34m.\u001b[0m\u001b[0mappend\u001b[0m\u001b[0;34m(\u001b[0m\u001b[0msong\u001b[0m\u001b[0;34m.\u001b[0m\u001b[0mlyrics\u001b[0m\u001b[0;34m)\u001b[0m\u001b[0;34m\u001b[0m\u001b[0;34m\u001b[0m\u001b[0m\n",
      "\u001b[0;32m/usr/local/lib/python3.7/dist-packages/lyricsgenius/genius.py\u001b[0m in \u001b[0;36msearch_song\u001b[0;34m(self, title, artist, song_id, get_full_info)\u001b[0m\n\u001b[1;32m    434\u001b[0m         if (song_info['lyrics_state'] == 'complete'\n\u001b[1;32m    435\u001b[0m                 and not song_info.get('instrumental')):\n\u001b[0;32m--> 436\u001b[0;31m             \u001b[0mlyrics\u001b[0m \u001b[0;34m=\u001b[0m \u001b[0mself\u001b[0m\u001b[0;34m.\u001b[0m\u001b[0mlyrics\u001b[0m\u001b[0;34m(\u001b[0m\u001b[0msong_url\u001b[0m\u001b[0;34m=\u001b[0m\u001b[0msong_info\u001b[0m\u001b[0;34m[\u001b[0m\u001b[0;34m'url'\u001b[0m\u001b[0;34m]\u001b[0m\u001b[0;34m)\u001b[0m\u001b[0;34m\u001b[0m\u001b[0;34m\u001b[0m\u001b[0m\n\u001b[0m\u001b[1;32m    437\u001b[0m         \u001b[0;32melse\u001b[0m\u001b[0;34m:\u001b[0m\u001b[0;34m\u001b[0m\u001b[0;34m\u001b[0m\u001b[0m\n\u001b[1;32m    438\u001b[0m             \u001b[0mlyrics\u001b[0m \u001b[0;34m=\u001b[0m \u001b[0;34m\"\"\u001b[0m\u001b[0;34m\u001b[0m\u001b[0;34m\u001b[0m\u001b[0m\n",
      "\u001b[0;32m/usr/local/lib/python3.7/dist-packages/lyricsgenius/genius.py\u001b[0m in \u001b[0;36mlyrics\u001b[0;34m(self, song_id, song_url, remove_section_headers)\u001b[0m\n\u001b[1;32m    130\u001b[0m         \u001b[0;31m# Scrape the song lyrics from the HTML\u001b[0m\u001b[0;34m\u001b[0m\u001b[0;34m\u001b[0m\u001b[0;34m\u001b[0m\u001b[0m\n\u001b[1;32m    131\u001b[0m         html = BeautifulSoup(\n\u001b[0;32m--> 132\u001b[0;31m             \u001b[0mself\u001b[0m\u001b[0;34m.\u001b[0m\u001b[0m_make_request\u001b[0m\u001b[0;34m(\u001b[0m\u001b[0mpath\u001b[0m\u001b[0;34m,\u001b[0m \u001b[0mweb\u001b[0m\u001b[0;34m=\u001b[0m\u001b[0;32mTrue\u001b[0m\u001b[0;34m)\u001b[0m\u001b[0;34m.\u001b[0m\u001b[0mreplace\u001b[0m\u001b[0;34m(\u001b[0m\u001b[0;34m'<br/>'\u001b[0m\u001b[0;34m,\u001b[0m \u001b[0;34m'\\n'\u001b[0m\u001b[0;34m)\u001b[0m\u001b[0;34m,\u001b[0m\u001b[0;34m\u001b[0m\u001b[0;34m\u001b[0m\u001b[0m\n\u001b[0m\u001b[1;32m    133\u001b[0m             \u001b[0;34m\"html.parser\"\u001b[0m\u001b[0;34m\u001b[0m\u001b[0;34m\u001b[0m\u001b[0m\n\u001b[1;32m    134\u001b[0m         )\n",
      "\u001b[0;32m/usr/local/lib/python3.7/dist-packages/lyricsgenius/api/base.py\u001b[0m in \u001b[0;36m_make_request\u001b[0;34m(self, path, method, params_, public_api, web, **kwargs)\u001b[0m\n\u001b[1;32m     82\u001b[0m                 \u001b[0merror\u001b[0m \u001b[0;34m=\u001b[0m \u001b[0;34m\"Request timed out:\\n{e}\"\u001b[0m\u001b[0;34m.\u001b[0m\u001b[0mformat\u001b[0m\u001b[0;34m(\u001b[0m\u001b[0me\u001b[0m\u001b[0;34m=\u001b[0m\u001b[0me\u001b[0m\u001b[0;34m)\u001b[0m\u001b[0;34m\u001b[0m\u001b[0;34m\u001b[0m\u001b[0m\n\u001b[1;32m     83\u001b[0m                 \u001b[0;32mif\u001b[0m \u001b[0mtries\u001b[0m \u001b[0;34m>\u001b[0m \u001b[0mself\u001b[0m\u001b[0;34m.\u001b[0m\u001b[0mretries\u001b[0m\u001b[0;34m:\u001b[0m\u001b[0;34m\u001b[0m\u001b[0;34m\u001b[0m\u001b[0m\n\u001b[0;32m---> 84\u001b[0;31m                     \u001b[0;32mraise\u001b[0m \u001b[0mTimeout\u001b[0m\u001b[0;34m(\u001b[0m\u001b[0merror\u001b[0m\u001b[0;34m)\u001b[0m\u001b[0;34m\u001b[0m\u001b[0;34m\u001b[0m\u001b[0m\n\u001b[0m\u001b[1;32m     85\u001b[0m             \u001b[0;32mexcept\u001b[0m \u001b[0mHTTPError\u001b[0m \u001b[0;32mas\u001b[0m \u001b[0me\u001b[0m\u001b[0;34m:\u001b[0m\u001b[0;34m\u001b[0m\u001b[0;34m\u001b[0m\u001b[0m\n\u001b[1;32m     86\u001b[0m                 \u001b[0merror\u001b[0m \u001b[0;34m=\u001b[0m \u001b[0mget_description\u001b[0m\u001b[0;34m(\u001b[0m\u001b[0me\u001b[0m\u001b[0;34m)\u001b[0m\u001b[0;34m\u001b[0m\u001b[0;34m\u001b[0m\u001b[0m\n",
      "\u001b[0;31mTimeout\u001b[0m: Request timed out:\nHTTPSConnectionPool(host='genius.com', port=443): Read timed out. (read timeout=5)"
     ]
    }
   ],
   "source": [
    "def song_lyr(song_name):\n",
    "  for song in song_name:\n",
    "      song = genius.search_song(song,max_songs=10000)\n",
    "  song_lyrics['song_name'].append(song)\n",
    "  song_lyrics['lyrics'].append(song.lyrics)\n",
    "\n",
    "song_arr=np.array_split(song_name, 97)\n",
    "song_lyrics={'song_name':[],\n",
    "             'lyrics':[]\n",
    "    \n",
    "}\n",
    "for song in song_arr:\n",
    "    song_lyr(song[0])\n",
    "\n",
    "\n",
    "\n"
   ]
  },
  {
   "cell_type": "code",
   "execution_count": null,
   "id": "37ca62ca",
   "metadata": {
    "colab": {
     "base_uri": "https://localhost:8080/"
    },
    "id": "37ca62ca",
    "outputId": "8c32bf35-810d-4a4a-ead2-8f1611a1d1dc"
   },
   "outputs": [
    {
     "name": "stdout",
     "output_type": "stream",
     "text": [
      "Done.\n",
      "Searching for \"I'M DAT N****\"...\n",
      "Done.\n",
      "Searching for \"KEEP IT BURNIN (feat. Kanye West)\"...\n",
      "Done.\n",
      "Searching for \"FOR A NUT (feat. Gunna & Young Thug)\"...\n",
      "Done.\n",
      "Searching for \"PUFFIN ON ZOOTIEZ\"...\n",
      "Done.\n",
      "Searching for \"GOLD STACKS\"...\n",
      "Done.\n",
      "Searching for \"WAIT FOR U (feat. Drake & Tems)\"...\n",
      "Done.\n",
      "Searching for \"LOVE YOU BETTER\"...\n",
      "Done.\n",
      "Searching for \"MASSAGING ME\"...\n",
      "Done.\n",
      "Searching for \"CHICKENS (feat. EST Gee)\"...\n",
      "Done.\n",
      "Searching for \"WE JUS WANNA GET HIGH\"...\n",
      "Done.\n",
      "Searching for \"VOODOO (feat. Kodak Black)\"...\n",
      "Done.\n",
      "Searching for \"HOLY GHOST\"...\n",
      "Done.\n",
      "Searching for \"THE WAY THINGS GOING\"...\n",
      "Done.\n",
      "Searching for \"I'M ON ONE (feat. Drake)\"...\n",
      "Done.\n",
      "Searching for \"BACK TO THE BASICS\"...\n",
      "Done.\n",
      "Searching for \"NO SECURITY (feat. BabyFace Ray)\"...\n",
      "Done.\n",
      "Searching for \"LIKE ME (feat. 42 Dugg & Lil Baby)\"...\n",
      "Done.\n",
      "Searching for \"AFFILIATED (feat. Lil Durk)\"...\n",
      "Done.\n",
      "Searching for \"STAYED DOWN (feat. Young Scooter)\"...\n",
      "Done.\n",
      "Searching for \"WORST DAY\"...\n",
      "Done.\n",
      "Searching for \"JUST THE BEGINNING\"...\n",
      "Done.\n",
      "Searching for \"Tic Tac\"...\n",
      "Done.\n",
      "Searching for \"My Legacy\"...\n",
      "Done.\n",
      "Searching for \"Heart In Pieces\"...\n",
      "Done.\n",
      "Searching for \"Because of You\"...\n",
      "Done.\n",
      "Searching for \"Bust a Move\"...\n",
      "Done.\n",
      "Searching for \"Baby Sasuke\"...\n",
      "Done.\n",
      "Searching for \"Stripes Like Burberry\"...\n",
      "Done.\n",
      "Searching for \"Marni On Me\"...\n",
      "Done.\n",
      "Searching for \"Sleeping On The Floor\"...\n",
      "Done.\n",
      "Searching for \"Real Baby Pluto\"...\n",
      "Done.\n",
      "Searching for \"Drankin N Smokin\"...\n",
      "Done.\n",
      "Searching for \"Million Dollar Play\"...\n",
      "Done.\n",
      "Searching for \"Plastic\"...\n",
      "Done.\n",
      "Searching for \"That’s It\"...\n",
      "Done.\n",
      "Searching for \"Bought A Bad Bitch\"...\n",
      "Done.\n",
      "Searching for \"Rockstar Chainz\"...\n",
      "Done.\n",
      "Searching for \"Lullaby\"...\n",
      "Done.\n",
      "Searching for \"She Never Been To Pluto\"...\n",
      "Done.\n",
      "Searching for \"Off Dat\"...\n",
      "Done.\n",
      "Searching for \"I Don’t Wanna Break Up\"...\n",
      "Done.\n",
      "Searching for \"Bankroll\"...\n",
      "Done.\n",
      "Searching for \"Moment of Clarity\"...\n",
      "Done.\n",
      "Searching for \"Patek\"...\n",
      "Done.\n",
      "Searching for \"Over Your Head\"...\n",
      "Done.\n",
      "Searching for \"Trapped In The Sun\"...\n",
      "Done.\n",
      "Searching for \"HiTek Tek\"...\n",
      "Done.\n",
      "Searching for \"Touch The Sky\"...\n",
      "Done.\n",
      "Searching for \"Solitaires (feat. Travis Scott)\"...\n",
      "Done.\n",
      "Searching for \"Ridin Strikers\"...\n",
      "Done.\n",
      "Searching for \"One Of My\"...\n",
      "Done.\n",
      "Searching for \"Posted With Demons\"...\n",
      "Done.\n",
      "Searching for \"Hard To Choose One\"...\n",
      "Done.\n",
      "Searching for \"Trillionaire (feat. Youngboy Never Broke Again)\"...\n",
      "Done.\n",
      "Searching for \"Harlem Shake (feat. Young Thug)\"...\n",
      "Done.\n",
      "Searching for \"Up the River\"...\n",
      "Done.\n",
      "Searching for \"Pray For A Key\"...\n",
      "Done.\n",
      "Searching for \"Too Comfortable\"...\n",
      "Done.\n",
      "Searching for \"All Bad (feat. Lil Uzi Vert)\"...\n",
      "Done.\n",
      "Searching for \"Outer Space Bih\"...\n",
      "Done.\n",
      "Searching for \"Accepting My Flaws\"...\n",
      "Done.\n",
      "Searching for \"Life Is Good (feat. Drake)\"...\n",
      "Done.\n",
      "Searching for \"Last Name (feat. Lil Durk)\"...\n",
      "Done.\n",
      "Searching for \"Tycoon\"...\n",
      "Done.\n",
      "Searching for \"100 Shooters (feat. Meek Mill & Doe Boy)\"...\n",
      "Done.\n",
      "Searching for \"Life Is Good (feat. Drake, DaBaby & Lil Baby) - Remix\"...\n",
      "Done.\n",
      "Searching for \"XanaX Damage\"...\n",
      "Done.\n",
      "Searching for \"St. Lucia\"...\n",
      "Done.\n",
      "Searching for \"Please Tell Me\"...\n",
      "Done.\n",
      "Searching for \"Shotgun\"...\n",
      "Done.\n",
      "Searching for \"Government Official\"...\n",
      "Done.\n",
      "Searching for \"Extra\"...\n",
      "Done.\n",
      "Searching for \"Love Thy Enemies\"...\n",
      "Done.\n",
      "Searching for \"Never Stop\"...\n",
      "Done.\n",
      "Searching for \"Jumpin on a Jet\"...\n",
      "Done.\n",
      "Searching for \"Rocket Ship\"...\n",
      "Done.\n",
      "Searching for \"Temptation\"...\n",
      "Done.\n",
      "Searching for \"Crushed Up\"...\n",
      "Done.\n",
      "Searching for \"F&N\"...\n",
      "Done.\n",
      "Searching for \"Call the Coroner\"...\n",
      "Done.\n",
      "Searching for \"Talk Shit Like a Preacher\"...\n",
      "Done.\n",
      "Searching for \"Promise U That\"...\n",
      "Done.\n",
      "Searching for \"Stick to the Models\"...\n",
      "Done.\n",
      "Searching for \"Overdose\"...\n",
      "Done.\n",
      "Searching for \"Krazy but True\"...\n",
      "Done.\n",
      "Searching for \"Servin Killa Kam\"...\n",
      "Done.\n",
      "Searching for \"Baptiize\"...\n",
      "Done.\n",
      "Searching for \"Unicorn Purp (feat. Young Thug & Gunna)\"...\n",
      "Done.\n",
      "Searching for \"Goin Dummi\"...\n",
      "Done.\n",
      "Searching for \"First Off (feat. Travis Scott)\"...\n",
      "Done.\n",
      "Searching for \"Faceshot\"...\n",
      "Done.\n",
      "Searching for \"Ain't Coming Back\"...\n",
      "Done.\n",
      "Searching for \"Tricks on Me\"...\n",
      "Done.\n",
      "Searching for \"Talk Sh*t Like a Preacher\"...\n",
      "Done.\n",
      "Searching for \"Jet Lag (feat. Young Scooter)\"...\n",
      "Done.\n",
      "Searching for \"Astronauts\"...\n",
      "Done.\n",
      "Searching for \"Fine China\"...\n",
      "Done.\n",
      "Searching for \"Red Bentley (feat. Young Thug)\"...\n",
      "Done.\n",
      "Searching for \"Make It Back\"...\n",
      "Done.\n",
      "Searching for \"Oxy (feat. Lil Wayne)\"...\n",
      "Done.\n",
      "Searching for \"7 Am Freestyle\"...\n",
      "Done.\n",
      "Searching for \"Different (feat. Yung Bans)\"...\n",
      "Done.\n",
      "Searching for \"Shorty\"...\n",
      "Done.\n",
      "Searching for \"Realer N Realer\"...\n",
      "Done.\n",
      "Searching for \"No Issue\"...\n",
      "Done.\n",
      "Searching for \"WRLD On Drugs\"...\n",
      "Done.\n",
      "Searching for \"Afterlife\"...\n",
      "Done.\n",
      "Searching for \"Ain't Livin Right (feat. Gunna)\"...\n",
      "Done.\n",
      "Searching for \"Transformer (feat. Nicki Minaj)\"...\n",
      "Done.\n",
      "Searching for \"Hard Work Pays Off\"...\n",
      "Done.\n",
      "Searching for \"WIFI LIT\"...\n",
      "Done.\n",
      "Searching for \"CUDDLE MY WRIST\"...\n"
     ]
    }
   ],
   "source": [
    "# from lyricsgenius import Genius\n",
    "token=token\n",
    "genius = lyricsgenius.Genius(token)\n",
    "song_name=pd.DataFrame(song_name)\n",
    "song_lyrics={'song_name':[],\n",
    "             'lyrics':[]\n",
    "    \n",
    "}\n",
    "\n",
    "from requests.exceptions import Timeout\n",
    "\n",
    "def get_lyrics():\n",
    "    # while len(lyrics) != len(end_df): #1\n",
    "    genius.timeout = 15\n",
    "    genius.sleep_time = 40  # 2\n",
    "    for song in song_name[0]:\n",
    "        retries = 0\n",
    "        while retries < 3:\n",
    "            try:\n",
    "                song = genius.search_song(song)\n",
    "            except Timeout as e:\n",
    "                retries += 1\n",
    "                continue\n",
    "            if song is not None:\n",
    "                song_lyrics['song_name'].append(song)\n",
    "                song_lyrics['lyrics'].append(song.lyrics)\n",
    "            else:\n",
    "                lyrics.append(np.NAN)\n",
    "            break\n",
    "get_lyrics()\n",
    "\n",
    "# for song in song_name[0]:\n",
    "#   song = genius.search_song(song)\n",
    "#   song_lyrics['song_name'].append(song)\n",
    "#   song_lyrics['lyrics'].append(song.lyrics)\n",
    "\n"
   ]
  },
  {
   "cell_type": "code",
   "execution_count": null,
   "id": "TeneBZZD9Gr5",
   "metadata": {
    "id": "TeneBZZD9Gr5"
   },
   "outputs": [],
   "source": [
    "song_lyrics=pd.DataFrame(song_lyrics)"
   ]
  },
  {
   "cell_type": "code",
   "execution_count": 37,
   "id": "hbHRJDMU97Kc",
   "metadata": {
    "id": "hbHRJDMU97Kc"
   },
   "outputs": [],
   "source": [
    "token=token\n",
    "client_id_genius=client_id_genius\n",
    "client_secret_genius=client_secret_genius"
   ]
  },
  {
   "cell_type": "code",
   "execution_count": null,
   "id": "4193e6ff",
   "metadata": {
    "id": "4193e6ff"
   },
   "outputs": [],
   "source": []
  },
  {
   "cell_type": "code",
   "execution_count": null,
   "id": "97bb1d1c",
   "metadata": {
    "id": "97bb1d1c"
   },
   "outputs": [],
   "source": []
  },
  {
   "cell_type": "code",
   "execution_count": null,
   "id": "67744ba5",
   "metadata": {
    "id": "67744ba5"
   },
   "outputs": [],
   "source": []
  },
  {
   "cell_type": "code",
   "execution_count": null,
   "id": "af14b145",
   "metadata": {
    "id": "af14b145"
   },
   "outputs": [],
   "source": []
  },
  {
   "cell_type": "code",
   "execution_count": null,
   "id": "d4e4bb65",
   "metadata": {
    "id": "d4e4bb65"
   },
   "outputs": [],
   "source": []
  },
  {
   "cell_type": "code",
   "execution_count": null,
   "id": "e16d7abb",
   "metadata": {
    "id": "e16d7abb",
    "scrolled": true
   },
   "outputs": [],
   "source": []
  },
  {
   "cell_type": "code",
   "execution_count": null,
   "id": "ba7839e2",
   "metadata": {
    "id": "ba7839e2"
   },
   "outputs": [],
   "source": [
    "# str(rows[0]).split('<')[4].split('>')[1]"
   ]
  },
  {
   "cell_type": "code",
   "execution_count": null,
   "id": "6a5eea0d",
   "metadata": {
    "id": "6a5eea0d"
   },
   "outputs": [],
   "source": []
  },
  {
   "cell_type": "code",
   "execution_count": null,
   "id": "fb46b80e",
   "metadata": {
    "id": "fb46b80e"
   },
   "outputs": [],
   "source": [
    "lists=soup.find_all('div',class_='wpdt-c wdt-skin-light')"
   ]
  },
  {
   "cell_type": "code",
   "execution_count": null,
   "id": "279d2820",
   "metadata": {
    "id": "279d2820"
   },
   "outputs": [],
   "source": [
    "lst=soup.find('td',class_='bolded column-artist-name')"
   ]
  },
  {
   "cell_type": "code",
   "execution_count": null,
   "id": "43650b84",
   "metadata": {
    "id": "43650b84"
   },
   "outputs": [],
   "source": [
    "lst"
   ]
  },
  {
   "cell_type": "code",
   "execution_count": null,
   "id": "96aed5d4",
   "metadata": {
    "id": "96aed5d4"
   },
   "outputs": [],
   "source": [
    "#webscrapping\n",
    "url=\"https://charts.spotify.com/charts/view/regional-global-weekly/2022-07-28\""
   ]
  },
  {
   "cell_type": "code",
   "execution_count": null,
   "id": "KwjlWS2tfpVT",
   "metadata": {
    "id": "KwjlWS2tfpVT"
   },
   "outputs": [],
   "source": []
  },
  {
   "cell_type": "markdown",
   "id": "yvuj_bAPHxzW",
   "metadata": {
    "id": "yvuj_bAPHxzW"
   },
   "source": [
    "## Scraping lyrics"
   ]
  },
  {
   "cell_type": "code",
   "execution_count": 55,
   "id": "Vtin_pBlHwV1",
   "metadata": {
    "id": "Vtin_pBlHwV1"
   },
   "outputs": [],
   "source": [
    "#function to scrape lyrics from genius\n",
    "def scrape_lyrics(artistname, songname):\n",
    "    artistname2 = str(artistname.replace(' ','-')) if ' ' in artistname else str(artistname)\n",
    "    print(artistname2)\n",
    "    songname2 = str(songname.replace(' ','-')) if ' ' in songname else str(songname)\n",
    "    print(songname2)\n",
    "    print('https://genius.com/'+ artistname2 + '-' + songname2 + '-' + 'lyrics')\n",
    "    page = requests.get('https://genius.com/'+ artistname2 + '-' + songname2 + '-' + 'lyrics')\n",
    "    html = BeautifulSoup(page.text, 'html.parser')\n",
    "    \n",
    "    lyrics = html.find(\"div\", class_=\"Lyrics__Container-sc-1ynbvzw-6 YYrds\")\n",
    "\n",
    "#     lyrics1 = html.find(\"div\", class_=\"lyrics\")\n",
    "    \n",
    "#     lyrics2 = html.find(\"div\", class_=\"Lyrics__Container-sc-1ynbvzw-2 jgQsqn\")\n",
    "#     if lyrics1:\n",
    "#         lyrics = lyrics1.get_text()\n",
    "#     elif lyrics2:\n",
    "#         lyrics = lyrics2.get_text()\n",
    "#     elif lyrics1 == lyrics2 == None:\n",
    "#         lyrics = None\n",
    "    return lyrics.get_text(separator=\"\\n\")\n",
    "\n",
    "\n"
   ]
  },
  {
   "cell_type": "code",
   "execution_count": 56,
   "id": "7aa978ba-fd33-40a2-9f02-0fa82ead3212",
   "metadata": {},
   "outputs": [],
   "source": [
    "songname = \"Lake Song\"\n",
    "artistname = \"The Decemberists\""
   ]
  },
  {
   "cell_type": "code",
   "execution_count": 57,
   "id": "a59cceb5-8b84-47ed-b258-f9e8834792d2",
   "metadata": {},
   "outputs": [
    {
     "name": "stdout",
     "output_type": "stream",
     "text": [
      "The-Decemberists\n",
      "Lake-Song\n",
      "https://genius.com/The-Decemberists-Lake-Song-lyrics\n",
      "[Verse 1]\n",
      "Down by the lake we were overturning pebbles\n",
      "And upending all the animals alight\n",
      "And I took a drag from your cigarette and pinched it\n",
      "'Tween my finger and my thumb, till it had died\n",
      "And the sun burned low on the radio\n",
      "[Verse 2]\n",
      "Say that you will, say you will or will you won't\n",
      "Or you whatever you prevaricate your whole life, don't you?\n",
      "This much I can say: \n",
      "I would've waited till the oceans\n",
      "Fell away and all the sunken cities would reveal themselves to you\n",
      "But you won't, will you? Because you never do\n",
      "And the sun burned through sweet as honeydew\n",
      "[Chorus]\n",
      "And I, seventeen and terminally fey\n",
      "I wrote it down and threw it all away\n",
      "Never gave a thought to what I paid\n",
      "And you, all sibylline, reclining in your pew\n",
      "You tattered me, you tethered me to you\n",
      "The things you would, and the things you wouldn't do\n",
      "To tell the truth I never had a clue\n",
      "[Verse 3]\n",
      "Now we arise\n",
      " \n",
      "to curse those young suburban villains\n",
      "And their ill-begotten children from the lawn\n",
      "Come to me now, and on this station wagon window\n",
      "Set the ghost of your two footprints\n",
      "That they might haunt me when you're gone\n",
      "And when the light broke dawn, you were forever gone\n",
      "But I remember you: you were full\n",
      "You were full and sweet as honeydew\n",
      "[Chorus]\n",
      "And I, seventeen and terminally fey\n",
      "I wrote it down and threw it all away\n",
      "And never gave a thought to what I paid\n",
      "And you, all sibylline, reclining in your pew\n",
      "You tattered me, you tethered me to you\n",
      "The things you would, and the things you wouldn't do\n",
      "You noticed how I never had a clue, never had a clue\n",
      "You were full and sweet as honeydew\n",
      "You were full and sweet as honeydew\n"
     ]
    }
   ],
   "source": [
    "print(scrape_lyrics(artistname, songname))\n"
   ]
  },
  {
   "cell_type": "code",
   "execution_count": 14,
   "id": "lkVV79xQICAd",
   "metadata": {
    "colab": {
     "base_uri": "https://localhost:8080/",
     "height": 444
    },
    "executionInfo": {
     "elapsed": 283,
     "status": "ok",
     "timestamp": 1660241959920,
     "user": {
      "displayName": "olivia han",
      "userId": "16453021985307431611"
     },
     "user_tz": 420
    },
    "id": "lkVV79xQICAd",
    "outputId": "e1356d33-68b4-4c2f-a464-ab433575a0df"
   },
   "outputs": [
    {
     "data": {
      "text/html": [
       "<div>\n",
       "<style scoped>\n",
       "    .dataframe tbody tr th:only-of-type {\n",
       "        vertical-align: middle;\n",
       "    }\n",
       "\n",
       "    .dataframe tbody tr th {\n",
       "        vertical-align: top;\n",
       "    }\n",
       "\n",
       "    .dataframe thead th {\n",
       "        text-align: right;\n",
       "    }\n",
       "</style>\n",
       "<table border=\"1\" class=\"dataframe\">\n",
       "  <thead>\n",
       "    <tr style=\"text-align: right;\">\n",
       "      <th></th>\n",
       "      <th>artist</th>\n",
       "      <th>track_name</th>\n",
       "      <th>lyrics</th>\n",
       "      <th>popularity</th>\n",
       "      <th>acousticness</th>\n",
       "      <th>danceability</th>\n",
       "      <th>energy</th>\n",
       "      <th>instrumentalness</th>\n",
       "      <th>liveness</th>\n",
       "      <th>loudness</th>\n",
       "      <th>...</th>\n",
       "      <th>track_id</th>\n",
       "      <th>clean</th>\n",
       "      <th>token</th>\n",
       "      <th>Positive Sentiment</th>\n",
       "      <th>Neutral Sentiment</th>\n",
       "      <th>Negative Sentiment</th>\n",
       "      <th>dominant_sentiment</th>\n",
       "      <th>dominant_sentiment_score</th>\n",
       "      <th>most_common</th>\n",
       "      <th>artist_genre</th>\n",
       "    </tr>\n",
       "  </thead>\n",
       "  <tbody>\n",
       "    <tr>\n",
       "      <th>0</th>\n",
       "      <td>Jason Derulo</td>\n",
       "      <td>Swalla</td>\n",
       "      <td>Drank Young Money   Love in a thousand differe...</td>\n",
       "      <td>77.0</td>\n",
       "      <td>0.075</td>\n",
       "      <td>0.696</td>\n",
       "      <td>0.817</td>\n",
       "      <td>0.0</td>\n",
       "      <td>0.187</td>\n",
       "      <td>-3.862</td>\n",
       "      <td>...</td>\n",
       "      <td>6kex4EBAj0WHXDKZMEJaaF</td>\n",
       "      <td>drank young money love thousand differ fvor wi...</td>\n",
       "      <td>['drank', 'young', 'money', 'love', 'thousand'...</td>\n",
       "      <td>0.125001</td>\n",
       "      <td>0.710001</td>\n",
       "      <td>0.165001</td>\n",
       "      <td>Negative</td>\n",
       "      <td>0.165001</td>\n",
       "      <td>shimmi swal freaki yay gyal im know ya girl do...</td>\n",
       "      <td>['dance pop', 'pop', 'pop rap', 'post-teen pop']</td>\n",
       "    </tr>\n",
       "    <tr>\n",
       "      <th>1</th>\n",
       "      <td>Jason Derulo</td>\n",
       "      <td>Talk Dirty</td>\n",
       "      <td>(Jason, haha Jason Derulo) Haha, get Jazzy on ...</td>\n",
       "      <td>66.0</td>\n",
       "      <td>0.075</td>\n",
       "      <td>0.696</td>\n",
       "      <td>0.817</td>\n",
       "      <td>0.0</td>\n",
       "      <td>0.187</td>\n",
       "      <td>-3.862</td>\n",
       "      <td>...</td>\n",
       "      <td>6g6A7qNhTfUgOSH7ROOxTD</td>\n",
       "      <td>haha get jazzi em im flight get intern first c...</td>\n",
       "      <td>['haha', 'get', 'jazzi', 'em', 'im', 'flight',...</td>\n",
       "      <td>0.065001</td>\n",
       "      <td>0.773001</td>\n",
       "      <td>0.162001</td>\n",
       "      <td>Negative</td>\n",
       "      <td>0.162001</td>\n",
       "      <td>talk dirti need dont get booti know got unders...</td>\n",
       "      <td>['dance pop', 'pop', 'pop rap', 'post-teen pop']</td>\n",
       "    </tr>\n",
       "    <tr>\n",
       "      <th>2</th>\n",
       "      <td>Jason Derulo</td>\n",
       "      <td>Wiggle</td>\n",
       "      <td>Ayo, Jason (Oh yeah!) Say somethin to her, hol...</td>\n",
       "      <td>59.0</td>\n",
       "      <td>0.075</td>\n",
       "      <td>0.696</td>\n",
       "      <td>0.817</td>\n",
       "      <td>0.0</td>\n",
       "      <td>0.187</td>\n",
       "      <td>-3.862</td>\n",
       "      <td>...</td>\n",
       "      <td>2sLwPnIP3CUVmIuHranJZU</td>\n",
       "      <td>ayo jason say somethin hol haha got one questi...</td>\n",
       "      <td>['ayo', 'jason', 'say', 'somethin', 'hol', 'ha...</td>\n",
       "      <td>0.092001</td>\n",
       "      <td>0.836001</td>\n",
       "      <td>0.072001</td>\n",
       "      <td>Positive</td>\n",
       "      <td>0.092001</td>\n",
       "      <td>wiggl make cp babi know big fat butt littl bit...</td>\n",
       "      <td>['dance pop', 'pop', 'pop rap', 'post-teen pop']</td>\n",
       "    </tr>\n",
       "    <tr>\n",
       "      <th>3</th>\n",
       "      <td>Jason Derulo</td>\n",
       "      <td>Trumpets</td>\n",
       "      <td>Every time that you get undressed I hear symph...</td>\n",
       "      <td>65.0</td>\n",
       "      <td>0.075</td>\n",
       "      <td>0.696</td>\n",
       "      <td>0.817</td>\n",
       "      <td>0.0</td>\n",
       "      <td>0.187</td>\n",
       "      <td>-3.862</td>\n",
       "      <td>...</td>\n",
       "      <td>5KONnBIQ9LqCxyeSPin26k</td>\n",
       "      <td>everi time get undress hear symphoni head wrot...</td>\n",
       "      <td>['everi', 'time', 'get', 'undress', 'hear', 's...</td>\n",
       "      <td>0.030001</td>\n",
       "      <td>0.877001</td>\n",
       "      <td>0.093001</td>\n",
       "      <td>Negative</td>\n",
       "      <td>0.093001</td>\n",
       "      <td>da ra trumpet go hear song weird everi time ge...</td>\n",
       "      <td>['dance pop', 'pop', 'pop rap', 'post-teen pop']</td>\n",
       "    </tr>\n",
       "    <tr>\n",
       "      <th>4</th>\n",
       "      <td>Jason Derulo</td>\n",
       "      <td>Tip Toe</td>\n",
       "      <td>Derulo Whine fa me darlin Way you move ya spin...</td>\n",
       "      <td>65.0</td>\n",
       "      <td>0.075</td>\n",
       "      <td>0.696</td>\n",
       "      <td>0.817</td>\n",
       "      <td>0.0</td>\n",
       "      <td>0.187</td>\n",
       "      <td>-3.862</td>\n",
       "      <td>...</td>\n",
       "      <td>2z4pcBLQXF2BXKFvd0BuB6</td>\n",
       "      <td>derulo whine fa darlin way move ya spine armin...</td>\n",
       "      <td>['derulo', 'whine', 'fa', 'darlin', 'way', 'mo...</td>\n",
       "      <td>0.102001</td>\n",
       "      <td>0.789001</td>\n",
       "      <td>0.109001</td>\n",
       "      <td>Negative</td>\n",
       "      <td>0.109001</td>\n",
       "      <td>tip like toe ya whine cheek fa darlin tight ho...</td>\n",
       "      <td>['dance pop', 'pop', 'pop rap', 'post-teen pop']</td>\n",
       "    </tr>\n",
       "  </tbody>\n",
       "</table>\n",
       "<p>5 rows × 30 columns</p>\n",
       "</div>"
      ],
      "text/plain": [
       "         artist  track_name  \\\n",
       "0  Jason Derulo      Swalla   \n",
       "1  Jason Derulo  Talk Dirty   \n",
       "2  Jason Derulo      Wiggle   \n",
       "3  Jason Derulo    Trumpets   \n",
       "4  Jason Derulo     Tip Toe   \n",
       "\n",
       "                                              lyrics  popularity  \\\n",
       "0  Drank Young Money   Love in a thousand differe...        77.0   \n",
       "1  (Jason, haha Jason Derulo) Haha, get Jazzy on ...        66.0   \n",
       "2  Ayo, Jason (Oh yeah!) Say somethin to her, hol...        59.0   \n",
       "3  Every time that you get undressed I hear symph...        65.0   \n",
       "4  Derulo Whine fa me darlin Way you move ya spin...        65.0   \n",
       "\n",
       "   acousticness  danceability  energy  instrumentalness  liveness  loudness  \\\n",
       "0         0.075         0.696   0.817               0.0     0.187    -3.862   \n",
       "1         0.075         0.696   0.817               0.0     0.187    -3.862   \n",
       "2         0.075         0.696   0.817               0.0     0.187    -3.862   \n",
       "3         0.075         0.696   0.817               0.0     0.187    -3.862   \n",
       "4         0.075         0.696   0.817               0.0     0.187    -3.862   \n",
       "\n",
       "   ...                track_id  \\\n",
       "0  ...  6kex4EBAj0WHXDKZMEJaaF   \n",
       "1  ...  6g6A7qNhTfUgOSH7ROOxTD   \n",
       "2  ...  2sLwPnIP3CUVmIuHranJZU   \n",
       "3  ...  5KONnBIQ9LqCxyeSPin26k   \n",
       "4  ...  2z4pcBLQXF2BXKFvd0BuB6   \n",
       "\n",
       "                                               clean  \\\n",
       "0  drank young money love thousand differ fvor wi...   \n",
       "1  haha get jazzi em im flight get intern first c...   \n",
       "2  ayo jason say somethin hol haha got one questi...   \n",
       "3  everi time get undress hear symphoni head wrot...   \n",
       "4  derulo whine fa darlin way move ya spine armin...   \n",
       "\n",
       "                                               token Positive Sentiment  \\\n",
       "0  ['drank', 'young', 'money', 'love', 'thousand'...           0.125001   \n",
       "1  ['haha', 'get', 'jazzi', 'em', 'im', 'flight',...           0.065001   \n",
       "2  ['ayo', 'jason', 'say', 'somethin', 'hol', 'ha...           0.092001   \n",
       "3  ['everi', 'time', 'get', 'undress', 'hear', 's...           0.030001   \n",
       "4  ['derulo', 'whine', 'fa', 'darlin', 'way', 'mo...           0.102001   \n",
       "\n",
       "   Neutral Sentiment  Negative Sentiment  dominant_sentiment  \\\n",
       "0           0.710001            0.165001            Negative   \n",
       "1           0.773001            0.162001            Negative   \n",
       "2           0.836001            0.072001            Positive   \n",
       "3           0.877001            0.093001            Negative   \n",
       "4           0.789001            0.109001            Negative   \n",
       "\n",
       "  dominant_sentiment_score                                        most_common  \\\n",
       "0                 0.165001  shimmi swal freaki yay gyal im know ya girl do...   \n",
       "1                 0.162001  talk dirti need dont get booti know got unders...   \n",
       "2                 0.092001  wiggl make cp babi know big fat butt littl bit...   \n",
       "3                 0.093001  da ra trumpet go hear song weird everi time ge...   \n",
       "4                 0.109001  tip like toe ya whine cheek fa darlin tight ho...   \n",
       "\n",
       "                                       artist_genre  \n",
       "0  ['dance pop', 'pop', 'pop rap', 'post-teen pop']  \n",
       "1  ['dance pop', 'pop', 'pop rap', 'post-teen pop']  \n",
       "2  ['dance pop', 'pop', 'pop rap', 'post-teen pop']  \n",
       "3  ['dance pop', 'pop', 'pop rap', 'post-teen pop']  \n",
       "4  ['dance pop', 'pop', 'pop rap', 'post-teen pop']  \n",
       "\n",
       "[5 rows x 30 columns]"
      ]
     },
     "execution_count": 14,
     "metadata": {},
     "output_type": "execute_result"
    }
   ],
   "source": [
    "df.head()"
   ]
  },
  {
   "cell_type": "code",
   "execution_count": null,
   "id": "hp1V0LOOInam",
   "metadata": {
    "id": "hp1V0LOOInam"
   },
   "outputs": [],
   "source": []
  }
 ],
 "metadata": {
  "colab": {
   "collapsed_sections": [],
   "name": "spotify api.ipynb",
   "provenance": []
  },
  "kernelspec": {
   "display_name": "venv",
   "language": "python",
   "name": "venv"
  },
  "language_info": {
   "codemirror_mode": {
    "name": "ipython",
    "version": 3
   },
   "file_extension": ".py",
   "mimetype": "text/x-python",
   "name": "python",
   "nbconvert_exporter": "python",
   "pygments_lexer": "ipython3",
   "version": "3.9.12"
  },
  "toc": {
   "base_numbering": 1,
   "nav_menu": {},
   "number_sections": true,
   "sideBar": true,
   "skip_h1_title": false,
   "title_cell": "Table of Contents",
   "title_sidebar": "Contents",
   "toc_cell": false,
   "toc_position": {},
   "toc_section_display": true,
   "toc_window_display": false
  }
 },
 "nbformat": 4,
 "nbformat_minor": 5
}
